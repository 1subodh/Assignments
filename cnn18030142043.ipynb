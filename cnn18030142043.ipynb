{
 "cells": [
  {
   "cell_type": "code",
   "execution_count": 1,
   "metadata": {
    "ExecuteTime": {
     "end_time": "2019-02-08T13:22:55.560694Z",
     "start_time": "2019-02-08T13:22:55.556204Z"
    }
   },
   "outputs": [
    {
     "name": "stderr",
     "output_type": "stream",
     "text": [
      "Using TensorFlow backend.\n"
     ]
    }
   ],
   "source": [
    "\n",
    "from keras.models import Sequential\n",
    "from keras.layers.normalization import BatchNormalization\n",
    "from keras.layers.convolutional import Convolution2D, MaxPooling2D, ZeroPadding2D\n",
    "from keras.layers.core import Activation, Flatten, Dropout, Dense\n",
    "from keras.constraints import maxnorm\n",
    "from keras import backend as K\n",
    "from sklearn.preprocessing import LabelBinarizer\n",
    "from sklearn.model_selection import train_test_split\n",
    "from sklearn.metrics import classification_report\n",
    "from keras.preprocessing.image import ImageDataGenerator\n",
    "from keras.optimizers import SGD\n",
    "from imutils import paths\n",
    "import matplotlib.pyplot as plt\n",
    "import numpy as np\n",
    "import argparse, random, pickle, cv2, os, matplotlib\n"
   ]
  },
  {
   "cell_type": "code",
   "execution_count": 2,
   "metadata": {
    "ExecuteTime": {
     "end_time": "2019-02-08T13:22:55.670216Z",
     "start_time": "2019-02-08T13:22:55.586489Z"
    }
   },
   "outputs": [],
   "source": [
    "datagen = ImageDataGenerator()\n",
    "data    = []\n",
    "labels  = []"
   ]
  },
  {
   "cell_type": "code",
   "execution_count": 3,
   "metadata": {
    "ExecuteTime": {
     "end_time": "2019-02-08T13:22:55.781166Z",
     "start_time": "2019-02-08T13:22:55.673097Z"
    }
   },
   "outputs": [],
   "source": [
    "imagePaths = sorted(list(paths.list_images('./images')))\n",
    "random.seed(42)\n",
    "random.shuffle(imagePaths)"
   ]
  },
  {
   "cell_type": "markdown",
   "metadata": {},
   "source": [
    "## Argumentation, Resize, Flatten and append to data,label lists\n",
    "### Flattening: 64x64x3 = 12288"
   ]
  },
  {
   "cell_type": "code",
   "execution_count": 4,
   "metadata": {
    "ExecuteTime": {
     "end_time": "2019-02-08T12:38:10.205302Z",
     "start_time": "2019-02-08T12:38:10.198489Z"
    },
    "scrolled": false
   },
   "outputs": [],
   "source": [
    "for imagePath in imagePaths:\n",
    "\timage = cv2.imread(imagePath)\n",
    "\timage = cv2.resize(image, (64, 64))\n",
    "\tdata.append(image)    \n",
    "\tdatagen.apply_transform(image,{'theta':10,'shear':10,'zx':0.2,'zy':0.2})\n",
    "\tdatagen.apply_transform(image,{'zoom_rage':0.2,'rotation_range' : 30})\n",
    "\tdata.append(image)\n",
    "\tdatagen.apply_transform(image,{'theta':35,'shear':35,'zx':0.4,'zy':0.4})\n",
    "\tdatagen.apply_transform(image,{'flip_horizontal':True})\n",
    "\tdatagen.apply_transform(image,{'zoom_rage':0.5})\n",
    "\tdata.append(image)\n",
    "\tdatagen.apply_transform(image,{'theta':20,'shear':20,'zx':0.2,'zy':0.2})\n",
    "\tdatagen.apply_transform(image,{'flip_vertical':True,'featurewise_center': True})\n",
    "\tdatagen.apply_transform(image,{'zoom_rage':0.2})\n",
    "\tdata.append(image)\n",
    "\tlabel = imagePath.split(os.path.sep)[-2]\n",
    "\tlabels.append(label)\n",
    "\tlabels.append(label)\n",
    "\tlabels.append(label)\n",
    "\tlabels.append(label)"
   ]
  },
  {
   "cell_type": "code",
   "execution_count": 5,
   "metadata": {
    "ExecuteTime": {
     "end_time": "2019-02-08T13:22:56.731339Z",
     "start_time": "2019-02-08T13:22:56.728304Z"
    }
   },
   "outputs": [
    {
     "data": {
      "text/plain": [
       "(452, 452)"
      ]
     },
     "execution_count": 5,
     "metadata": {},
     "output_type": "execute_result"
    }
   ],
   "source": [
    "len(data),len(labels)"
   ]
  },
  {
   "cell_type": "markdown",
   "metadata": {},
   "source": [
    "## Scale the raw pixel intensities to the range [0, 1] from [0, 255]"
   ]
  },
  {
   "cell_type": "code",
   "execution_count": 6,
   "metadata": {
    "ExecuteTime": {
     "end_time": "2019-02-08T13:22:56.923707Z",
     "start_time": "2019-02-08T13:22:56.732511Z"
    }
   },
   "outputs": [],
   "source": [
    "data = np.array(data, dtype=\"float\") / 255.0\n",
    "labels = np.array(labels)"
   ]
  },
  {
   "cell_type": "markdown",
   "metadata": {},
   "source": [
    "## Train, Test split of 75, 25"
   ]
  },
  {
   "cell_type": "code",
   "execution_count": 7,
   "metadata": {
    "ExecuteTime": {
     "end_time": "2019-02-08T13:22:57.043014Z",
     "start_time": "2019-02-08T13:22:56.926260Z"
    }
   },
   "outputs": [],
   "source": [
    "(trainX, testX, trainY, testY) = train_test_split(data,labels, test_size=0.25, random_state=42)"
   ]
  },
  {
   "cell_type": "code",
   "execution_count": 8,
   "metadata": {
    "ExecuteTime": {
     "start_time": "2019-02-08T13:22:56.005Z"
    }
   },
   "outputs": [],
   "source": [
    "lb = LabelBinarizer()\n",
    "trainY = lb.fit_transform(trainY)\n",
    "testY = lb.transform(testY)"
   ]
  },
  {
   "cell_type": "code",
   "execution_count": 9,
   "metadata": {
    "ExecuteTime": {
     "start_time": "2019-02-08T13:22:56.036Z"
    }
   },
   "outputs": [
    {
     "name": "stdout",
     "output_type": "stream",
     "text": [
      "_________________________________________________________________\n",
      "Layer (type)                 Output Shape              Param #   \n",
      "=================================================================\n",
      "zero_padding2d_1 (ZeroPaddin (None, 72, 72, 3)         0         \n",
      "_________________________________________________________________\n",
      "conv2d_1 (Conv2D)            (None, 72, 72, 64)        1792      \n",
      "_________________________________________________________________\n",
      "batch_normalization_1 (Batch (None, 72, 72, 64)        256       \n",
      "_________________________________________________________________\n",
      "max_pooling2d_1 (MaxPooling2 (None, 36, 36, 64)        0         \n",
      "_________________________________________________________________\n",
      "conv2d_2 (Conv2D)            (None, 36, 36, 128)       73856     \n",
      "_________________________________________________________________\n",
      "max_pooling2d_2 (MaxPooling2 (None, 18, 18, 128)       0         \n",
      "_________________________________________________________________\n",
      "dropout_1 (Dropout)          (None, 18, 18, 128)       0         \n",
      "_________________________________________________________________\n",
      "conv2d_3 (Conv2D)            (None, 18, 18, 128)       147584    \n",
      "_________________________________________________________________\n",
      "batch_normalization_2 (Batch (None, 18, 18, 128)       512       \n",
      "_________________________________________________________________\n",
      "max_pooling2d_3 (MaxPooling2 (None, 9, 9, 128)         0         \n",
      "_________________________________________________________________\n",
      "conv2d_4 (Conv2D)            (None, 9, 9, 256)         295168    \n",
      "_________________________________________________________________\n",
      "max_pooling2d_4 (MaxPooling2 (None, 4, 4, 256)         0         \n",
      "_________________________________________________________________\n",
      "dropout_2 (Dropout)          (None, 4, 4, 256)         0         \n",
      "_________________________________________________________________\n",
      "conv2d_5 (Conv2D)            (None, 4, 4, 256)         590080    \n",
      "_________________________________________________________________\n",
      "batch_normalization_3 (Batch (None, 4, 4, 256)         1024      \n",
      "_________________________________________________________________\n",
      "max_pooling2d_5 (MaxPooling2 (None, 2, 2, 256)         0         \n",
      "_________________________________________________________________\n",
      "conv2d_6 (Conv2D)            (None, 2, 2, 512)         1180160   \n",
      "_________________________________________________________________\n",
      "max_pooling2d_6 (MaxPooling2 (None, 1, 1, 512)         0         \n",
      "_________________________________________________________________\n",
      "dropout_3 (Dropout)          (None, 1, 1, 512)         0         \n",
      "_________________________________________________________________\n",
      "flatten_1 (Flatten)          (None, 512)               0         \n",
      "_________________________________________________________________\n",
      "dense_1 (Dense)              (None, 1024)              525312    \n",
      "_________________________________________________________________\n",
      "dropout_4 (Dropout)          (None, 1024)              0         \n",
      "_________________________________________________________________\n",
      "dense_2 (Dense)              (None, 128)               131200    \n",
      "_________________________________________________________________\n",
      "dropout_5 (Dropout)          (None, 128)               0         \n",
      "_________________________________________________________________\n",
      "dense_3 (Dense)              (None, 5)                 645       \n",
      "=================================================================\n",
      "Total params: 2,947,589\n",
      "Trainable params: 2,946,693\n",
      "Non-trainable params: 896\n",
      "_________________________________________________________________\n"
     ]
    }
   ],
   "source": [
    "model = Sequential()\n",
    "model.add(ZeroPadding2D((4,4),input_shape=(64,64,3)))\n",
    "\n",
    "model.add(Convolution2D(64,(3, 3), activation='relu', padding='same'))\n",
    "model.add(BatchNormalization())\n",
    "model.add(MaxPooling2D((2,2), strides=(2,2)))\n",
    "model.add(Convolution2D(128,(3, 3), activation='relu', padding='same'))\n",
    "model.add(MaxPooling2D((2,2), strides=(2,2)))\n",
    "model.add(Dropout(0.2))\n",
    "\n",
    "model.add(Convolution2D(128,(3, 3), activation='relu', padding='same'))\n",
    "model.add(BatchNormalization())\n",
    "model.add(MaxPooling2D((2,2), strides=(2,2)))\n",
    "model.add(Convolution2D(256,(3, 3), activation='relu', padding='same'))\n",
    "model.add(MaxPooling2D((2,2), strides=(2,2)))\n",
    "model.add(Dropout(0.2))\n",
    "\n",
    "model.add(Convolution2D(256,(3, 3), activation='relu', padding='same'))\n",
    "model.add(BatchNormalization())\n",
    "model.add(MaxPooling2D((2,2), strides=(2,2)))\n",
    "model.add(Convolution2D(512,(3, 3), activation='relu', padding='same'))\n",
    "model.add(MaxPooling2D((2,2), strides=(2,2)))\n",
    "model.add(Dropout(0.2))\n",
    "\n",
    "model.add(Flatten())\n",
    "model.add(Dense(1024, input_shape=(4096,), activation=\"relu\", kernel_constraint=maxnorm(3)))\n",
    "model.add(Dropout(0.2))\n",
    "model.add(Dense(128, activation='relu', kernel_constraint=maxnorm(3)))\n",
    "model.add(Dropout(0.2))\n",
    "model.add(Dense(len(lb.classes_), activation=\"softmax\", kernel_constraint=maxnorm(3)))\n",
    "model.summary()"
   ]
  },
  {
   "cell_type": "code",
   "execution_count": 10,
   "metadata": {
    "ExecuteTime": {
     "start_time": "2019-02-08T13:22:56.070Z"
    }
   },
   "outputs": [
    {
     "name": "stdout",
     "output_type": "stream",
     "text": [
      "[INFO] training network...\n"
     ]
    }
   ],
   "source": [
    "BS = 32\n",
    "EPOCHS = 40\n",
    "print(\"[INFO] training network...\")\n",
    "sgd = SGD(lr=0.007, decay=1e-6, nesterov=True)\n",
    "model.compile(loss=\"categorical_crossentropy\", optimizer=sgd,metrics=[\"accuracy\"])\n"
   ]
  },
  {
   "cell_type": "code",
   "execution_count": 11,
   "metadata": {
    "ExecuteTime": {
     "start_time": "2019-02-08T13:22:56.096Z"
    },
    "scrolled": true
   },
   "outputs": [
    {
     "name": "stdout",
     "output_type": "stream",
     "text": [
      "Train on 339 samples, validate on 113 samples\n",
      "Epoch 1/40\n",
      "339/339 [==============================] - 17s 49ms/step - loss: 1.8345 - acc: 0.2242 - val_loss: 1.5992 - val_acc: 0.2478\n",
      "Epoch 2/40\n",
      "339/339 [==============================] - 16s 48ms/step - loss: 1.6133 - acc: 0.2920 - val_loss: 1.5518 - val_acc: 0.2478\n",
      "Epoch 3/40\n",
      "339/339 [==============================] - 16s 47ms/step - loss: 1.5924 - acc: 0.2891 - val_loss: 1.5186 - val_acc: 0.3805\n",
      "Epoch 4/40\n",
      "339/339 [==============================] - 17s 51ms/step - loss: 1.5564 - acc: 0.2950 - val_loss: 1.4778 - val_acc: 0.3805\n",
      "Epoch 5/40\n",
      "339/339 [==============================] - 17s 49ms/step - loss: 1.4606 - acc: 0.3599 - val_loss: 1.4869 - val_acc: 0.3274\n",
      "Epoch 6/40\n",
      "339/339 [==============================] - 16s 47ms/step - loss: 1.4840 - acc: 0.3245 - val_loss: 1.4896 - val_acc: 0.3363\n",
      "Epoch 7/40\n",
      "339/339 [==============================] - 15s 45ms/step - loss: 1.4129 - acc: 0.4012 - val_loss: 1.3397 - val_acc: 0.7080\n",
      "Epoch 8/40\n",
      "339/339 [==============================] - 15s 45ms/step - loss: 1.3652 - acc: 0.4277 - val_loss: 1.3350 - val_acc: 0.4690\n",
      "Epoch 9/40\n",
      "339/339 [==============================] - 15s 45ms/step - loss: 1.2739 - acc: 0.4720 - val_loss: 1.2591 - val_acc: 0.6195\n",
      "Epoch 10/40\n",
      "339/339 [==============================] - 16s 46ms/step - loss: 1.1735 - acc: 0.5487 - val_loss: 1.2441 - val_acc: 0.5221\n",
      "Epoch 11/40\n",
      "339/339 [==============================] - 15s 45ms/step - loss: 1.1250 - acc: 0.5752 - val_loss: 1.3246 - val_acc: 0.4602\n",
      "Epoch 12/40\n",
      "339/339 [==============================] - 16s 46ms/step - loss: 1.0972 - acc: 0.5546 - val_loss: 1.1403 - val_acc: 0.7080\n",
      "Epoch 13/40\n",
      "339/339 [==============================] - 15s 44ms/step - loss: 1.0427 - acc: 0.5723 - val_loss: 1.1778 - val_acc: 0.6372\n",
      "Epoch 14/40\n",
      "339/339 [==============================] - 205s 606ms/step - loss: 0.9899 - acc: 0.5929 - val_loss: 1.2361 - val_acc: 0.4956\n",
      "Epoch 15/40\n",
      "339/339 [==============================] - 16s 48ms/step - loss: 0.9205 - acc: 0.6637 - val_loss: 1.1106 - val_acc: 0.6106\n",
      "Epoch 16/40\n",
      "339/339 [==============================] - 17s 51ms/step - loss: 0.8732 - acc: 0.6667 - val_loss: 0.9795 - val_acc: 0.6903\n",
      "Epoch 17/40\n",
      "339/339 [==============================] - 16s 49ms/step - loss: 0.7383 - acc: 0.7522 - val_loss: 0.9603 - val_acc: 0.5929\n",
      "Epoch 18/40\n",
      "339/339 [==============================] - 16s 47ms/step - loss: 0.6999 - acc: 0.7670 - val_loss: 0.9002 - val_acc: 0.6991\n",
      "Epoch 19/40\n",
      "339/339 [==============================] - 17s 50ms/step - loss: 0.6131 - acc: 0.7788 - val_loss: 0.8135 - val_acc: 0.7257\n",
      "Epoch 20/40\n",
      "339/339 [==============================] - 16s 47ms/step - loss: 0.6014 - acc: 0.7729 - val_loss: 0.9048 - val_acc: 0.6195\n",
      "Epoch 21/40\n",
      "339/339 [==============================] - 16s 48ms/step - loss: 0.5299 - acc: 0.8053 - val_loss: 0.7743 - val_acc: 0.7257\n",
      "Epoch 22/40\n",
      "339/339 [==============================] - 18s 52ms/step - loss: 0.4766 - acc: 0.8319 - val_loss: 0.5123 - val_acc: 0.8496\n",
      "Epoch 23/40\n",
      "339/339 [==============================] - 16s 46ms/step - loss: 0.4295 - acc: 0.8525 - val_loss: 0.6751 - val_acc: 0.8142\n",
      "Epoch 24/40\n",
      "339/339 [==============================] - 17s 49ms/step - loss: 0.3329 - acc: 0.9204 - val_loss: 0.6976 - val_acc: 0.7345\n",
      "Epoch 25/40\n",
      "339/339 [==============================] - 15s 46ms/step - loss: 0.3238 - acc: 0.8820 - val_loss: 0.5976 - val_acc: 0.8053\n",
      "Epoch 26/40\n",
      "339/339 [==============================] - 15s 45ms/step - loss: 0.2735 - acc: 0.9233 - val_loss: 0.8852 - val_acc: 0.6991\n",
      "Epoch 27/40\n",
      "339/339 [==============================] - 15s 45ms/step - loss: 0.2796 - acc: 0.9174 - val_loss: 0.3703 - val_acc: 0.9292\n",
      "Epoch 28/40\n",
      "339/339 [==============================] - 15s 44ms/step - loss: 0.2285 - acc: 0.9174 - val_loss: 0.4390 - val_acc: 0.8673\n",
      "Epoch 29/40\n",
      "339/339 [==============================] - 15s 44ms/step - loss: 0.1930 - acc: 0.9440 - val_loss: 0.4385 - val_acc: 0.8407\n",
      "Epoch 30/40\n",
      "339/339 [==============================] - 15s 44ms/step - loss: 0.1939 - acc: 0.9174 - val_loss: 0.3172 - val_acc: 0.9381\n",
      "Epoch 31/40\n",
      "339/339 [==============================] - 15s 45ms/step - loss: 0.1527 - acc: 0.9617 - val_loss: 0.3740 - val_acc: 0.9292\n",
      "Epoch 32/40\n",
      "339/339 [==============================] - 16s 47ms/step - loss: 0.1118 - acc: 0.9794 - val_loss: 0.1558 - val_acc: 0.9646\n",
      "Epoch 33/40\n",
      "339/339 [==============================] - 16s 47ms/step - loss: 0.1501 - acc: 0.9528 - val_loss: 0.3470 - val_acc: 0.9115\n",
      "Epoch 34/40\n",
      "339/339 [==============================] - 18s 52ms/step - loss: 0.1107 - acc: 0.9676 - val_loss: 0.2568 - val_acc: 0.9469\n",
      "Epoch 35/40\n",
      "339/339 [==============================] - 16s 48ms/step - loss: 0.1012 - acc: 0.9676 - val_loss: 0.2625 - val_acc: 0.9469\n",
      "Epoch 36/40\n",
      "339/339 [==============================] - 17s 50ms/step - loss: 0.0965 - acc: 0.9823 - val_loss: 0.3406 - val_acc: 0.9292\n",
      "Epoch 37/40\n",
      "339/339 [==============================] - 16s 47ms/step - loss: 0.0832 - acc: 0.9794 - val_loss: 0.3366 - val_acc: 0.9469\n",
      "Epoch 38/40\n",
      "339/339 [==============================] - 16s 47ms/step - loss: 0.0746 - acc: 0.9853 - val_loss: 0.2398 - val_acc: 0.9646\n",
      "Epoch 39/40\n",
      "339/339 [==============================] - 15s 43ms/step - loss: 0.0558 - acc: 0.9912 - val_loss: 0.2138 - val_acc: 0.9646\n",
      "Epoch 40/40\n",
      "339/339 [==============================] - 15s 45ms/step - loss: 0.0491 - acc: 0.9882 - val_loss: 0.2248 - val_acc: 0.9646\n"
     ]
    }
   ],
   "source": [
    "H = model.fit(trainX, trainY, validation_data=(testX, testY),\n",
    "              epochs=EPOCHS, batch_size=BS)"
   ]
  },
  {
   "cell_type": "code",
   "execution_count": 12,
   "metadata": {
    "ExecuteTime": {
     "start_time": "2019-02-08T13:22:56.128Z"
    },
    "scrolled": true
   },
   "outputs": [
    {
     "name": "stdout",
     "output_type": "stream",
     "text": [
      "[INFO] evaluating network...\n",
      "                     precision    recall  f1-score   support\n",
      "\n",
      "       akshay_kumar       1.00      1.00      1.00        26\n",
      "       katrina_kaif       1.00      1.00      1.00        19\n",
      "nawazuddin_siddiqui       0.78      1.00      0.88        14\n",
      "      ranbir_kapoor       1.00      0.87      0.93        31\n",
      "        zarine_khan       1.00      1.00      1.00        23\n",
      "\n",
      "          micro avg       0.96      0.96      0.96       113\n",
      "          macro avg       0.96      0.97      0.96       113\n",
      "       weighted avg       0.97      0.96      0.97       113\n",
      "\n"
     ]
    },
    {
     "data": {
      "image/png": "[encoded data removed]",
      "text/plain": [
       "<matplotlib.figure.Figure at 0x1a3740f860>"
      ]
     },
     "metadata": {},
     "output_type": "display_data"
    }
   ],
   "source": [
    "print(\"[INFO] evaluating network...\")\n",
    "predictions = model.predict(testX, batch_size=BS)\n",
    "print(classification_report(testY.argmax(axis=1),\n",
    "\tpredictions.argmax(axis=1), target_names=lb.classes_))\n",
    "N = np.arange(0, EPOCHS)\n",
    "plt.style.use(\"ggplot\")\n",
    "plt.figure()\n",
    "plt.plot(N, H.history[\"loss\"], label=\"train_loss\")\n",
    "plt.plot(N, H.history[\"val_loss\"], label=\"val_loss\")\n",
    "plt.plot(N, H.history[\"acc\"], label=\"train_acc\")\n",
    "plt.plot(N, H.history[\"val_acc\"], label=\"val_acc\")\n",
    "plt.title(\"Training Loss and Accuracy (Mini VGG)\")\n",
    "plt.xlabel(\"Epoch #\")\n",
    "plt.ylabel(\"Loss/Accuracy\")\n",
    "plt.legend()\n",
    "plt.show()"
   ]
  }
 ],
 "metadata": {
  "hide_input": false,
  "kernelspec": {
   "display_name": "Python [default]",
   "language": "python",
   "name": "python3"
  },
  "language_info": {
   "codemirror_mode": {
    "name": "ipython",
    "version": 3
   },
   "file_extension": ".py",
   "mimetype": "text/x-python",
   "name": "python",
   "nbconvert_exporter": "python",
   "pygments_lexer": "ipython3",
   "version": "3.5.4"
  },
  "nbTranslate": {
   "displayLangs": [
    "*"
   ],
   "hotkey": "alt-t",
   "langInMainMenu": true,
   "sourceLang": "en",
   "targetLang": "fr",
   "useGoogleTranslate": true
  },
  "toc": {
   "base_numbering": 1,
   "nav_menu": {},
   "number_sections": true,
   "sideBar": true,
   "skip_h1_title": false,
   "title_cell": "Table of Contents",
   "title_sidebar": "Contents",
   "toc_cell": false,
   "toc_position": {},
   "toc_section_display": true,
   "toc_window_display": false
  },
  "varInspector": {
   "cols": {
    "lenName": 16,
    "lenType": 16,
    "lenVar": 40
   },
   "kernels_config": {
    "python": {
     "delete_cmd_postfix": "",
     "delete_cmd_prefix": "del ",
     "library": "var_list.py",
     "varRefreshCmd": "print(var_dic_list())"
    },
    "r": {
     "delete_cmd_postfix": ") ",
     "delete_cmd_prefix": "rm(",
     "library": "var_list.r",
     "varRefreshCmd": "cat(var_dic_list()) "
    }
   },
   "types_to_exclude": [
    "module",
    "function",
    "builtin_function_or_method",
    "instance",
    "_Feature"
   ],
   "window_display": false
  }
 },
 "nbformat": 4,
 "nbformat_minor": 2
}
