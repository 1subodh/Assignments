{
 "cells": [
  {
   "cell_type": "markdown",
   "metadata": {},
   "source": [
    "### PRN - 18030142043\n",
    "### Name - Subodh Dharmadhikari\n",
    "### Course - Predective Analysis \n",
    "### MSc.CA.DS.sem2.PredA['Assignment1']"
   ]
  },
  {
   "cell_type": "code",
   "execution_count": 73,
   "metadata": {},
   "outputs": [],
   "source": [
    "# import required libraries\n",
    "%matplotlib inline\n",
    "import pandas as pd\n",
    "import numpy as np\n",
    "import seaborn as sb\n",
    "import matplotlib.pyplot as plot"
   ]
  },
  {
   "cell_type": "code",
   "execution_count": null,
   "metadata": {},
   "outputs": [
    {
     "data": {
      "text/plain": [
       "(4410, 24)"
      ]
     },
     "execution_count": 74,
     "metadata": {},
     "output_type": "execute_result"
    }
   ],
   "source": [
    "# import csv file into dataframe using pandas\n",
    "csvpath = '/Users/mac/Desktop/hrdata.csv'\n",
    "dataframe = pd.read_csv(csvpath)\n",
    "#copy dataframe data to another dataframe\n",
    "data = dataframe.copy()\n",
    "# check dimentions of dataframe\n",
    "data.shape\n",
    "# dimentions of dataframe - shape(rows,columns)"
   ]
  },
  {
   "cell_type": "code",
   "execution_count": 75,
   "metadata": {},
   "outputs": [
    {
     "data": {
      "text/plain": [
       "24"
      ]
     },
     "execution_count": 75,
     "metadata": {},
     "output_type": "execute_result"
    }
   ],
   "source": [
    "#check how many columns are there in dataframe - explicitly or specifically\n",
    "data.columns.value_counts().count() "
   ]
  },
  {
   "cell_type": "markdown",
   "metadata": {},
   "source": [
    "### data.shape[1] also gives same result"
   ]
  },
  {
   "cell_type": "code",
   "execution_count": 76,
   "metadata": {},
   "outputs": [
    {
     "data": {
      "text/plain": [
       "Index(['Age', 'Attrition', 'BusinessTravel', 'Department', 'DistanceFromHome',\n",
       "       'Education', 'EducationField', 'EmployeeCount', 'EmployeeID', 'Gender',\n",
       "       'JobLevel', 'JobRole', 'MaritalStatus', 'MonthlyIncome',\n",
       "       'NumCompaniesWorked', 'Over18', 'PercentSalaryHike', 'StandardHours',\n",
       "       'StockOptionLevel', 'TotalWorkingYears', 'TrainingTimesLastYear',\n",
       "       'YearsAtCompany', 'YearsSinceLastPromotion', 'YearsWithCurrManager'],\n",
       "      dtype='object')"
      ]
     },
     "execution_count": 76,
     "metadata": {},
     "output_type": "execute_result"
    }
   ],
   "source": [
    "# remove spaces if exists before or after of column name string\n",
    "data.columns.str.replace(' ','') # similarly other extra things can be removed\n",
    "# there is not any other special character or something appearing which needs to be removed  using replace"
   ]
  },
  {
   "cell_type": "code",
   "execution_count": 77,
   "metadata": {},
   "outputs": [
    {
     "data": {
      "text/plain": [
       "False"
      ]
     },
     "execution_count": 77,
     "metadata": {},
     "output_type": "execute_result"
    }
   ],
   "source": [
    "# check if any columns are duplicated\n",
    "data.columns.value_counts().any() > 1 \n",
    "# no columns are duplicated from result observation - all columns occur only once\n",
    "# data.columns.drop_duplicates can be used to directly drop duplicate columns if this result turn outs true"
   ]
  },
  {
   "cell_type": "code",
   "execution_count": 78,
   "metadata": {},
   "outputs": [
    {
     "data": {
      "text/plain": [
       "Education                  1\n",
       "YearsAtCompany             1\n",
       "BusinessTravel             1\n",
       "MonthlyIncome              1\n",
       "TrainingTimesLastYear      1\n",
       "EducationField             1\n",
       "MaritalStatus              1\n",
       "Gender                     1\n",
       "Department                 1\n",
       "JobRole                    1\n",
       "YearsWithCurrManager       1\n",
       "Attrition                  1\n",
       "DistanceFromHome           1\n",
       "StockOptionLevel           1\n",
       "PercentSalaryHike          1\n",
       "EmployeeID                 1\n",
       "JobLevel                   1\n",
       "YearsSinceLastPromotion    1\n",
       "Over18                     1\n",
       "Age                        1\n",
       "EmployeeCount              1\n",
       "NumCompaniesWorked         1\n",
       "StandardHours              1\n",
       "TotalWorkingYears          1\n",
       "dtype: int64"
      ]
     },
     "execution_count": 78,
     "metadata": {},
     "output_type": "execute_result"
    }
   ],
   "source": [
    "# confirm all columns occur only once\n",
    "data.columns.value_counts()"
   ]
  },
  {
   "cell_type": "code",
   "execution_count": 79,
   "metadata": {},
   "outputs": [
    {
     "data": {
      "text/plain": [
       "(4410, 24)"
      ]
     },
     "execution_count": 79,
     "metadata": {},
     "output_type": "execute_result"
    }
   ],
   "source": [
    "# drop records if they are completely duplicate records - rows - all entries same\n",
    "data.drop_duplicates()\n",
    "data.shape\n",
    "# nothing dropped out it seems there aren't any duplicate records - rows -entries"
   ]
  },
  {
   "cell_type": "code",
   "execution_count": 80,
   "metadata": {},
   "outputs": [
    {
     "data": {
      "text/plain": [
       "True"
      ]
     },
     "execution_count": 80,
     "metadata": {},
     "output_type": "execute_result"
    }
   ],
   "source": [
    "# check if some records are missing in any column\n",
    "data.NumCompaniesWorked.isnull().any() \n",
    "# from observation - some records are missing - nulls - NaNs exists"
   ]
  },
  {
   "cell_type": "code",
   "execution_count": 81,
   "metadata": {},
   "outputs": [
    {
     "data": {
      "text/plain": [
       "NumCompaniesWorked    1.0\n",
       "TotalWorkingYears     1.0\n",
       "dtype: float64"
      ]
     },
     "execution_count": 81,
     "metadata": {},
     "output_type": "execute_result"
    }
   ],
   "source": [
    "# check which columns have missing records\n",
    "type(data.count()<data.shape[0])#series\n",
    "missing = data.count()<data.shape[0]\n",
    "# dropping false showing columns\n",
    "showm = missing.where(missing == True).dropna()\n",
    "showm\n",
    "# from observation -\n",
    "# NumCompaniesWorked and andTotalWorkingYears gives 1- True means less than dimention have missing records"
   ]
  },
  {
   "cell_type": "code",
   "execution_count": 82,
   "metadata": {},
   "outputs": [
    {
     "data": {
      "text/plain": [
       "NumCompaniesWorked    19\n",
       "TotalWorkingYears      9\n",
       "dtype: int64"
      ]
     },
     "execution_count": 82,
     "metadata": {},
     "output_type": "execute_result"
    }
   ],
   "source": [
    "# find out how may values - are missing -null - Nan\n",
    "# scalar substraction from series\n",
    "data.shape[0] - data[['NumCompaniesWorked','TotalWorkingYears']].count() \n",
    "# from observation -\n",
    "#NumCompaniesWorked         total - 4391         19 records missing\n",
    "#TotalWorkingYears          total - 4401         9 records missing"
   ]
  },
  {
   "cell_type": "code",
   "execution_count": 83,
   "metadata": {},
   "outputs": [
    {
     "data": {
      "image/png": "[encoded data removed]",
      "text/plain": [
       "<Figure size 432x288 with 1 Axes>"
      ]
     },
     "metadata": {
      "needs_background": "light"
     },
     "output_type": "display_data"
    }
   ],
   "source": [
    "# draw histogram to choose from mean ,median or mode\n",
    "hist1 = data.NumCompaniesWorked.hist(bins = 10)\n",
    "# we have to take median because histogram shows skewed distribution"
   ]
  },
  {
   "cell_type": "code",
   "execution_count": 84,
   "metadata": {},
   "outputs": [
    {
     "data": {
      "text/plain": [
       "(2.6948303347756775, 2.0, 0    1.0\n",
       " dtype: float64)"
      ]
     },
     "execution_count": 84,
     "metadata": {},
     "output_type": "execute_result"
    }
   ],
   "source": [
    "# compare mean ,mode and median \n",
    "data.NumCompaniesWorked.mean(),data.NumCompaniesWorked.median(),data.NumCompaniesWorked.mode()"
   ]
  },
  {
   "cell_type": "code",
   "execution_count": 85,
   "metadata": {},
   "outputs": [
    {
     "data": {
      "text/plain": [
       "False"
      ]
     },
     "execution_count": 85,
     "metadata": {},
     "output_type": "execute_result"
    }
   ],
   "source": [
    "# Handling Missing Values (Imputation)\n",
    "# fill missing records in data.NumCompaniesWorked with median\n",
    "# ceil in case of mean because number of companies worked cant be float\n",
    "#import math\n",
    "#m = math.ceil(data.NumCompaniesWorked.mean())\n",
    "m = data.NumCompaniesWorked.median()\n",
    "data.NumCompaniesWorked.fillna(m,inplace = True)\n",
    "data.NumCompaniesWorked.isnull().any()\n",
    "# observation - no null is present in data.NumCompaniesWorked column"
   ]
  },
  {
   "cell_type": "code",
   "execution_count": 86,
   "metadata": {},
   "outputs": [
    {
     "data": {
      "text/plain": [
       "dtype('float64')"
      ]
     },
     "execution_count": 86,
     "metadata": {},
     "output_type": "execute_result"
    }
   ],
   "source": [
    "# check datatpe of column \n",
    "data.NumCompaniesWorked.dtype"
   ]
  },
  {
   "cell_type": "code",
   "execution_count": 87,
   "metadata": {},
   "outputs": [
    {
     "data": {
      "text/plain": [
       "dtype('int64')"
      ]
     },
     "execution_count": 87,
     "metadata": {},
     "output_type": "execute_result"
    }
   ],
   "source": [
    "# apply int64 datatype to column because all values are integers now \n",
    "data['NumCompaniesWorked'] = data.NumCompaniesWorked.astype(np.int64)\n",
    "# check if datatpe of column has been changed or not\n",
    "data.NumCompaniesWorked.dtype\n",
    "# from observation data types is changed"
   ]
  },
  {
   "cell_type": "code",
   "execution_count": 88,
   "metadata": {},
   "outputs": [
    {
     "data": {
      "text/plain": [
       "dtype('int64')"
      ]
     },
     "execution_count": 88,
     "metadata": {},
     "output_type": "execute_result"
    }
   ],
   "source": [
    "# check if datatpe of column is changed or not\n",
    "data.NumCompaniesWorked.dtype"
   ]
  },
  {
   "cell_type": "code",
   "execution_count": 89,
   "metadata": {},
   "outputs": [
    {
     "data": {
      "image/png": "[encoded data removed]",
      "text/plain": [
       "<Figure size 432x288 with 1 Axes>"
      ]
     },
     "metadata": {
      "needs_background": "light"
     },
     "output_type": "display_data"
    }
   ],
   "source": [
    "# draw histogram to choose from mean ,median or mode\n",
    "hist2 = data.TotalWorkingYears.hist(bins = 10)\n",
    "# we have to take median because histogram shows skewed distribution"
   ]
  },
  {
   "cell_type": "code",
   "execution_count": 90,
   "metadata": {},
   "outputs": [
    {
     "data": {
      "text/plain": [
       "(11.279936378095888, 10.0, 0    10.0\n",
       " dtype: float64)"
      ]
     },
     "execution_count": 90,
     "metadata": {},
     "output_type": "execute_result"
    }
   ],
   "source": [
    "# compare mean ,mode and median\n",
    "data.TotalWorkingYears.mean(),data.TotalWorkingYears.median(),data.TotalWorkingYears.mode()"
   ]
  },
  {
   "cell_type": "code",
   "execution_count": 91,
   "metadata": {},
   "outputs": [
    {
     "data": {
      "text/plain": [
       "False"
      ]
     },
     "execution_count": 91,
     "metadata": {},
     "output_type": "execute_result"
    }
   ],
   "source": [
    "# Handling Missing Values (Imputation)\n",
    "# similar procedure for data.TotalWorkingYears column\n",
    "data.TotalWorkingYears.fillna(data.TotalWorkingYears.median(),inplace = True)\n",
    "data.TotalWorkingYears.isnull().any()\n",
    "# observation - no nulls in data.TotalWorkingYearsotal column as it has been replaced by mean"
   ]
  },
  {
   "cell_type": "code",
   "execution_count": 92,
   "metadata": {},
   "outputs": [
    {
     "data": {
      "text/plain": [
       "Age                          int64\n",
       "Attrition                   object\n",
       "BusinessTravel              object\n",
       "Department                  object\n",
       "DistanceFromHome             int64\n",
       "Education                    int64\n",
       "EducationField              object\n",
       "EmployeeCount                int64\n",
       "EmployeeID                   int64\n",
       "Gender                      object\n",
       "JobLevel                     int64\n",
       "JobRole                     object\n",
       "MaritalStatus               object\n",
       "MonthlyIncome                int64\n",
       "NumCompaniesWorked           int64\n",
       "Over18                      object\n",
       "PercentSalaryHike            int64\n",
       "StandardHours                int64\n",
       "StockOptionLevel             int64\n",
       "TotalWorkingYears          float64\n",
       "TrainingTimesLastYear        int64\n",
       "YearsAtCompany               int64\n",
       "YearsSinceLastPromotion      int64\n",
       "YearsWithCurrManager         int64\n",
       "dtype: object"
      ]
     },
     "execution_count": 92,
     "metadata": {},
     "output_type": "execute_result"
    }
   ],
   "source": [
    "# get data types of all columns\n",
    "data.dtypes\n",
    "# need to be changed if some irrelivent datatpe assigned to column\n",
    "# columns seems okay data type wise"
   ]
  },
  {
   "cell_type": "code",
   "execution_count": 93,
   "metadata": {},
   "outputs": [
    {
     "data": {
      "text/plain": [
       "[{'Attrition': array(['No', 'Yes'], dtype=object)},\n",
       " {'BusinessTravel': array(['Travel_Rarely', 'Travel_Frequently', 'Non-Travel'], dtype=object)},\n",
       " {'Department': array(['Sales', 'Research & Development', 'Human Resources'], dtype=object)},\n",
       " {'EducationField': array(['Life Sciences', 'Other', 'Medical', 'Marketing',\n",
       "         'Technical Degree', 'Human Resources'], dtype=object)},\n",
       " {'Gender': array(['Female', 'Male'], dtype=object)},\n",
       " {'JobRole': array(['Healthcare Representative', 'Research Scientist',\n",
       "         'Sales Executive', 'Human Resources', 'Research Director',\n",
       "         'Laboratory Technician', 'Manufacturing Director',\n",
       "         'Sales Representative', 'Manager'], dtype=object)},\n",
       " {'MaritalStatus': array(['Married', 'Single', 'Divorced'], dtype=object)},\n",
       " {'Over18': array(['Y'], dtype=object)}]"
      ]
     },
     "execution_count": 93,
     "metadata": {},
     "output_type": "execute_result"
    }
   ],
   "source": [
    "# get views of unique non-int or float values column wise to check if some random data is added\n",
    "unqval =[{'Attrition' : pd.unique(data[['Attrition']].values.ravel())},\n",
    "        {'BusinessTravel' : pd.unique(data[['BusinessTravel']].values.ravel())},\n",
    "        {'Department' : pd.unique(data[['Department']].values.ravel())},\n",
    "        {'EducationField' : pd.unique(data[['EducationField']].values.ravel())},\n",
    "        {'Gender' : pd.unique(data[['Gender']].values.ravel())},\n",
    "        {'JobRole' : pd.unique(data[['JobRole']].values.ravel())},\n",
    "        {'MaritalStatus' : pd.unique(data[['MaritalStatus']].values.ravel())},\n",
    "        {'Over18' : pd.unique(data[['Over18']].values.ravel())}\n",
    "        ]\n",
    "unqval\n"
   ]
  },
  {
   "cell_type": "markdown",
   "metadata": {},
   "source": [
    "### if similar values found in different format that can be handeled with replace or median- mean-mode for nulls"
   ]
  },
  {
   "cell_type": "code",
   "execution_count": 94,
   "metadata": {},
   "outputs": [
    {
     "data": {
      "text/plain": [
       "0           Travel_Rarely\n",
       "1       Travel_Frequently\n",
       "2       Travel_Frequently\n",
       "3              Non_Travel\n",
       "4           Travel_Rarely\n",
       "5           Travel_Rarely\n",
       "6           Travel_Rarely\n",
       "7           Travel_Rarely\n",
       "8           Travel_Rarely\n",
       "9              Non_Travel\n",
       "10          Travel_Rarely\n",
       "11          Travel_Rarely\n",
       "12          Travel_Rarely\n",
       "13             Non_Travel\n",
       "14          Travel_Rarely\n",
       "15          Travel_Rarely\n",
       "16          Travel_Rarely\n",
       "17             Non_Travel\n",
       "18          Travel_Rarely\n",
       "19          Travel_Rarely\n",
       "20      Travel_Frequently\n",
       "21          Travel_Rarely\n",
       "22          Travel_Rarely\n",
       "23          Travel_Rarely\n",
       "24      Travel_Frequently\n",
       "25          Travel_Rarely\n",
       "26      Travel_Frequently\n",
       "27          Travel_Rarely\n",
       "28      Travel_Frequently\n",
       "29          Travel_Rarely\n",
       "              ...        \n",
       "4380    Travel_Frequently\n",
       "4381        Travel_Rarely\n",
       "4382        Travel_Rarely\n",
       "4383        Travel_Rarely\n",
       "4384        Travel_Rarely\n",
       "4385        Travel_Rarely\n",
       "4386        Travel_Rarely\n",
       "4387        Travel_Rarely\n",
       "4388        Travel_Rarely\n",
       "4389           Non_Travel\n",
       "4390        Travel_Rarely\n",
       "4391        Travel_Rarely\n",
       "4392        Travel_Rarely\n",
       "4393           Non_Travel\n",
       "4394        Travel_Rarely\n",
       "4395        Travel_Rarely\n",
       "4396        Travel_Rarely\n",
       "4397    Travel_Frequently\n",
       "4398        Travel_Rarely\n",
       "4399        Travel_Rarely\n",
       "4400        Travel_Rarely\n",
       "4401    Travel_Frequently\n",
       "4402    Travel_Frequently\n",
       "4403    Travel_Frequently\n",
       "4404        Travel_Rarely\n",
       "4405        Travel_Rarely\n",
       "4406        Travel_Rarely\n",
       "4407        Travel_Rarely\n",
       "4408        Travel_Rarely\n",
       "4409        Travel_Rarely\n",
       "Name: BusinessTravel, Length: 4410, dtype: object"
      ]
     },
     "execution_count": 94,
     "metadata": {},
     "output_type": "execute_result"
    }
   ],
   "source": [
    "# Adding proper formatting to value 'Non-Travel' in BusinessTravel column\n",
    "# uderscore is used for other two unique values of the column\n",
    "data.BusinessTravel.replace('Non-Travel','Non_Travel')"
   ]
  },
  {
   "cell_type": "code",
   "execution_count": 95,
   "metadata": {},
   "outputs": [
    {
     "data": {
      "text/plain": [
       "(4410, 23)"
      ]
     },
     "execution_count": 95,
     "metadata": {},
     "output_type": "execute_result"
    }
   ],
   "source": [
    "# Dropping column 'Over18' because it doesnt have variations - unary variable\n",
    "data.drop(['Over18'],axis=1,inplace=True)\n",
    "data.shape"
   ]
  },
  {
   "cell_type": "code",
   "execution_count": 96,
   "metadata": {},
   "outputs": [
    {
     "data": {
      "image/png": "[encoded data removed]",
      "text/plain": [
       "<Figure size 432x288 with 1 Axes>"
      ]
     },
     "metadata": {},
     "output_type": "display_data"
    }
   ],
   "source": [
    "###Gender Ratio\n",
    "label = 'Male','Female'\n",
    "d=data[\"Gender\"].value_counts()\n",
    "plot.pie(d,labels=label)\n",
    "plot.show()"
   ]
  },
  {
   "cell_type": "code",
   "execution_count": 97,
   "metadata": {},
   "outputs": [
    {
     "data": {
      "image/png": "[encoded data removed]",
      "text/plain": [
       "<Figure size 432x288 with 1 Axes>"
      ]
     },
     "metadata": {},
     "output_type": "display_data"
    }
   ],
   "source": [
    "# Department devision\n",
    "plot.pie(data.Department.value_counts(),labels = ('Sales', 'Research & Development', 'Human Resources'))\n",
    "plot.show()"
   ]
  },
  {
   "cell_type": "code",
   "execution_count": 98,
   "metadata": {},
   "outputs": [
    {
     "data": {
      "image/png": "[encoded data removed]",
      "text/plain": [
       "<Figure size 432x288 with 1 Axes>"
      ]
     },
     "metadata": {
      "needs_background": "light"
     },
     "output_type": "display_data"
    }
   ],
   "source": [
    "# Jobrole wise count\n",
    "x = ['Healthcare Representative', 'Research Scientist',\n",
    "         'Sales Executive', 'Human Resources', 'Research Director',\n",
    "         'Laboratory Technician', 'Manufacturing Director',\n",
    "         'Sales Representative', 'Manager']\n",
    "plot.bar(x, data.JobRole.value_counts(),align='center')\n",
    "plot.xticks(rotation=90)\n",
    "plot.show()"
   ]
  },
  {
   "cell_type": "code",
   "execution_count": 99,
   "metadata": {},
   "outputs": [
    {
     "data": {
      "text/html": [
       "<div>\n",
       "<style scoped>\n",
       "    .dataframe tbody tr th:only-of-type {\n",
       "        vertical-align: middle;\n",
       "    }\n",
       "\n",
       "    .dataframe tbody tr th {\n",
       "        vertical-align: top;\n",
       "    }\n",
       "\n",
       "    .dataframe thead th {\n",
       "        text-align: right;\n",
       "    }\n",
       "</style>\n",
       "<table border=\"1\" class=\"dataframe\">\n",
       "  <thead>\n",
       "    <tr style=\"text-align: right;\">\n",
       "      <th></th>\n",
       "      <th>Age</th>\n",
       "      <th>DistanceFromHome</th>\n",
       "      <th>Education</th>\n",
       "      <th>EmployeeCount</th>\n",
       "      <th>EmployeeID</th>\n",
       "      <th>JobLevel</th>\n",
       "      <th>MonthlyIncome</th>\n",
       "      <th>NumCompaniesWorked</th>\n",
       "      <th>PercentSalaryHike</th>\n",
       "      <th>StandardHours</th>\n",
       "      <th>StockOptionLevel</th>\n",
       "      <th>TotalWorkingYears</th>\n",
       "      <th>TrainingTimesLastYear</th>\n",
       "      <th>YearsAtCompany</th>\n",
       "      <th>YearsSinceLastPromotion</th>\n",
       "      <th>YearsWithCurrManager</th>\n",
       "    </tr>\n",
       "  </thead>\n",
       "  <tbody>\n",
       "    <tr>\n",
       "      <th>count</th>\n",
       "      <td>4410.000000</td>\n",
       "      <td>4410.000000</td>\n",
       "      <td>4410.000000</td>\n",
       "      <td>4410.0</td>\n",
       "      <td>4410.000000</td>\n",
       "      <td>4410.000000</td>\n",
       "      <td>4410.000000</td>\n",
       "      <td>4410.000000</td>\n",
       "      <td>4410.000000</td>\n",
       "      <td>4410.0</td>\n",
       "      <td>4410.000000</td>\n",
       "      <td>4410.000000</td>\n",
       "      <td>4410.000000</td>\n",
       "      <td>4410.000000</td>\n",
       "      <td>4410.000000</td>\n",
       "      <td>4410.000000</td>\n",
       "    </tr>\n",
       "    <tr>\n",
       "      <th>mean</th>\n",
       "      <td>36.923810</td>\n",
       "      <td>9.192517</td>\n",
       "      <td>2.912925</td>\n",
       "      <td>1.0</td>\n",
       "      <td>2205.500000</td>\n",
       "      <td>2.063946</td>\n",
       "      <td>65029.312925</td>\n",
       "      <td>2.691837</td>\n",
       "      <td>15.209524</td>\n",
       "      <td>8.0</td>\n",
       "      <td>0.793878</td>\n",
       "      <td>11.277324</td>\n",
       "      <td>2.799320</td>\n",
       "      <td>7.008163</td>\n",
       "      <td>2.187755</td>\n",
       "      <td>4.123129</td>\n",
       "    </tr>\n",
       "    <tr>\n",
       "      <th>std</th>\n",
       "      <td>9.133301</td>\n",
       "      <td>8.105026</td>\n",
       "      <td>1.023933</td>\n",
       "      <td>0.0</td>\n",
       "      <td>1273.201673</td>\n",
       "      <td>1.106689</td>\n",
       "      <td>47068.888559</td>\n",
       "      <td>2.493912</td>\n",
       "      <td>3.659108</td>\n",
       "      <td>0.0</td>\n",
       "      <td>0.851883</td>\n",
       "      <td>7.774490</td>\n",
       "      <td>1.288978</td>\n",
       "      <td>6.125135</td>\n",
       "      <td>3.221699</td>\n",
       "      <td>3.567327</td>\n",
       "    </tr>\n",
       "    <tr>\n",
       "      <th>min</th>\n",
       "      <td>18.000000</td>\n",
       "      <td>1.000000</td>\n",
       "      <td>1.000000</td>\n",
       "      <td>1.0</td>\n",
       "      <td>1.000000</td>\n",
       "      <td>1.000000</td>\n",
       "      <td>10090.000000</td>\n",
       "      <td>0.000000</td>\n",
       "      <td>11.000000</td>\n",
       "      <td>8.0</td>\n",
       "      <td>0.000000</td>\n",
       "      <td>0.000000</td>\n",
       "      <td>0.000000</td>\n",
       "      <td>0.000000</td>\n",
       "      <td>0.000000</td>\n",
       "      <td>0.000000</td>\n",
       "    </tr>\n",
       "    <tr>\n",
       "      <th>25%</th>\n",
       "      <td>30.000000</td>\n",
       "      <td>2.000000</td>\n",
       "      <td>2.000000</td>\n",
       "      <td>1.0</td>\n",
       "      <td>1103.250000</td>\n",
       "      <td>1.000000</td>\n",
       "      <td>29110.000000</td>\n",
       "      <td>1.000000</td>\n",
       "      <td>12.000000</td>\n",
       "      <td>8.0</td>\n",
       "      <td>0.000000</td>\n",
       "      <td>6.000000</td>\n",
       "      <td>2.000000</td>\n",
       "      <td>3.000000</td>\n",
       "      <td>0.000000</td>\n",
       "      <td>2.000000</td>\n",
       "    </tr>\n",
       "    <tr>\n",
       "      <th>50%</th>\n",
       "      <td>36.000000</td>\n",
       "      <td>7.000000</td>\n",
       "      <td>3.000000</td>\n",
       "      <td>1.0</td>\n",
       "      <td>2205.500000</td>\n",
       "      <td>2.000000</td>\n",
       "      <td>49190.000000</td>\n",
       "      <td>2.000000</td>\n",
       "      <td>14.000000</td>\n",
       "      <td>8.0</td>\n",
       "      <td>1.000000</td>\n",
       "      <td>10.000000</td>\n",
       "      <td>3.000000</td>\n",
       "      <td>5.000000</td>\n",
       "      <td>1.000000</td>\n",
       "      <td>3.000000</td>\n",
       "    </tr>\n",
       "    <tr>\n",
       "      <th>75%</th>\n",
       "      <td>43.000000</td>\n",
       "      <td>14.000000</td>\n",
       "      <td>4.000000</td>\n",
       "      <td>1.0</td>\n",
       "      <td>3307.750000</td>\n",
       "      <td>3.000000</td>\n",
       "      <td>83800.000000</td>\n",
       "      <td>4.000000</td>\n",
       "      <td>18.000000</td>\n",
       "      <td>8.0</td>\n",
       "      <td>1.000000</td>\n",
       "      <td>15.000000</td>\n",
       "      <td>3.000000</td>\n",
       "      <td>9.000000</td>\n",
       "      <td>3.000000</td>\n",
       "      <td>7.000000</td>\n",
       "    </tr>\n",
       "    <tr>\n",
       "      <th>max</th>\n",
       "      <td>60.000000</td>\n",
       "      <td>29.000000</td>\n",
       "      <td>5.000000</td>\n",
       "      <td>1.0</td>\n",
       "      <td>4410.000000</td>\n",
       "      <td>5.000000</td>\n",
       "      <td>199990.000000</td>\n",
       "      <td>9.000000</td>\n",
       "      <td>25.000000</td>\n",
       "      <td>8.0</td>\n",
       "      <td>3.000000</td>\n",
       "      <td>40.000000</td>\n",
       "      <td>6.000000</td>\n",
       "      <td>40.000000</td>\n",
       "      <td>15.000000</td>\n",
       "      <td>17.000000</td>\n",
       "    </tr>\n",
       "  </tbody>\n",
       "</table>\n",
       "</div>"
      ],
      "text/plain": [
       "               Age  DistanceFromHome    Education  EmployeeCount   EmployeeID  \\\n",
       "count  4410.000000       4410.000000  4410.000000         4410.0  4410.000000   \n",
       "mean     36.923810          9.192517     2.912925            1.0  2205.500000   \n",
       "std       9.133301          8.105026     1.023933            0.0  1273.201673   \n",
       "min      18.000000          1.000000     1.000000            1.0     1.000000   \n",
       "25%      30.000000          2.000000     2.000000            1.0  1103.250000   \n",
       "50%      36.000000          7.000000     3.000000            1.0  2205.500000   \n",
       "75%      43.000000         14.000000     4.000000            1.0  3307.750000   \n",
       "max      60.000000         29.000000     5.000000            1.0  4410.000000   \n",
       "\n",
       "          JobLevel  MonthlyIncome  NumCompaniesWorked  PercentSalaryHike  \\\n",
       "count  4410.000000    4410.000000         4410.000000        4410.000000   \n",
       "mean      2.063946   65029.312925            2.691837          15.209524   \n",
       "std       1.106689   47068.888559            2.493912           3.659108   \n",
       "min       1.000000   10090.000000            0.000000          11.000000   \n",
       "25%       1.000000   29110.000000            1.000000          12.000000   \n",
       "50%       2.000000   49190.000000            2.000000          14.000000   \n",
       "75%       3.000000   83800.000000            4.000000          18.000000   \n",
       "max       5.000000  199990.000000            9.000000          25.000000   \n",
       "\n",
       "       StandardHours  StockOptionLevel  TotalWorkingYears  \\\n",
       "count         4410.0       4410.000000        4410.000000   \n",
       "mean             8.0          0.793878          11.277324   \n",
       "std              0.0          0.851883           7.774490   \n",
       "min              8.0          0.000000           0.000000   \n",
       "25%              8.0          0.000000           6.000000   \n",
       "50%              8.0          1.000000          10.000000   \n",
       "75%              8.0          1.000000          15.000000   \n",
       "max              8.0          3.000000          40.000000   \n",
       "\n",
       "       TrainingTimesLastYear  YearsAtCompany  YearsSinceLastPromotion  \\\n",
       "count            4410.000000     4410.000000              4410.000000   \n",
       "mean                2.799320        7.008163                 2.187755   \n",
       "std                 1.288978        6.125135                 3.221699   \n",
       "min                 0.000000        0.000000                 0.000000   \n",
       "25%                 2.000000        3.000000                 0.000000   \n",
       "50%                 3.000000        5.000000                 1.000000   \n",
       "75%                 3.000000        9.000000                 3.000000   \n",
       "max                 6.000000       40.000000                15.000000   \n",
       "\n",
       "       YearsWithCurrManager  \n",
       "count           4410.000000  \n",
       "mean               4.123129  \n",
       "std                3.567327  \n",
       "min                0.000000  \n",
       "25%                2.000000  \n",
       "50%                3.000000  \n",
       "75%                7.000000  \n",
       "max               17.000000  "
      ]
     },
     "execution_count": 99,
     "metadata": {},
     "output_type": "execute_result"
    }
   ],
   "source": [
    "# Numeric slight insights of data\n",
    "data.describe()"
   ]
  },
  {
   "cell_type": "code",
   "execution_count": 100,
   "metadata": {},
   "outputs": [
    {
     "data": {
      "text/plain": [
       "(4410, 20)"
      ]
     },
     "execution_count": 100,
     "metadata": {},
     "output_type": "execute_result"
    }
   ],
   "source": [
    "# EmployeeCount is just metioning digit one in all columns thatswhy dropping - unary variable\n",
    "data.drop(['EmployeeCount'],axis=1,inplace=True)\n",
    "# Employee id is number representation of records - its not feature \n",
    "data.drop(['EmployeeID'],axis=1,inplace=True)\n",
    "# Standard hours holds unary value\n",
    "data.drop(['StandardHours'],axis=1,inplace=True)\n",
    "data.shape\n",
    "# Atrition is target and other 20 are features"
   ]
  },
  {
   "cell_type": "code",
   "execution_count": 101,
   "metadata": {},
   "outputs": [
    {
     "name": "stdout",
     "output_type": "stream",
     "text": [
      "[Index(['BusinessTravel', 'Department', 'DistanceFromHome', 'Education',\n",
      "       'EducationField', 'Gender', 'JobLevel', 'JobRole', 'MaritalStatus',\n",
      "       'MonthlyIncome', 'NumCompaniesWorked', 'PercentSalaryHike',\n",
      "       'StockOptionLevel', 'TotalWorkingYears', 'TrainingTimesLastYear',\n",
      "       'YearsAtCompany', 'YearsSinceLastPromotion', 'YearsWithCurrManager'],\n",
      "      dtype='object'), Index(['Age'], dtype='object')]\n",
      "Index(['Attrition'], dtype='object')\n",
      "only numeric data features are shown in heatmap\n"
     ]
    }
   ],
   "source": [
    "features = list((data.columns[2:20],data.columns[0:1]))\n",
    "print(features)\n",
    "\n",
    "\n",
    "target = data.columns[1:2]\n",
    "print(target)\n",
    "\n",
    "print('only numeric data features are shown in heatmap' )"
   ]
  },
  {
   "cell_type": "code",
   "execution_count": 102,
   "metadata": {},
   "outputs": [
    {
     "data": {
      "image/png": "[encoded data removed]",
      "text/plain": [
       "<Figure size 720x576 with 2 Axes>"
      ]
     },
     "metadata": {
      "needs_background": "light"
     },
     "output_type": "display_data"
    }
   ],
   "source": [
    "f,ax = plot.subplots(figsize=(10, 8))\n",
    "cr = data.corr()\n",
    "sb.heatmap(cr, mask=np.zeros_like(cr,dtype=np.bool), \n",
    "cmap=sb.diverging_palette(220,10, as_cmap=True),\n",
    "square=True, ax=ax)\n",
    "plot.show()"
   ]
  },
  {
   "cell_type": "code",
   "execution_count": 103,
   "metadata": {},
   "outputs": [
    {
     "data": {
      "image/png": "[encoded data removed]",
      "text/plain": [
       "<Figure size 432x288 with 1 Axes>"
      ]
     },
     "metadata": {
      "needs_background": "light"
     },
     "output_type": "display_data"
    }
   ],
   "source": [
    "fig, ax = plot.subplots(1)\n",
    "for i in range(1):\n",
    "    x=data['Age'] \n",
    "    y=data['TotalWorkingYears'], \n",
    "    ax.scatter(x,y, label=str(i))\n",
    "plot.ylabel(\"Age\") \n",
    "plot.xlabel(\"TotalWorkingYears\") \n",
    "plot.legend(loc=\"best\") \n",
    "plot.title(\"Any correlation?\") \n",
    "plot.show()"
   ]
  },
  {
   "cell_type": "markdown",
   "metadata": {},
   "source": [
    "### Interpretation - As age increases total working years also increases "
   ]
  },
  {
   "cell_type": "code",
   "execution_count": 104,
   "metadata": {},
   "outputs": [
    {
     "data": {
      "image/png": "[encoded data removed]",
      "text/plain": [
       "<Figure size 432x288 with 1 Axes>"
      ]
     },
     "metadata": {
      "needs_background": "light"
     },
     "output_type": "display_data"
    }
   ],
   "source": [
    "fig,ax = plot.subplots(1)\n",
    "for i in range(1):\n",
    "    x=data['TotalWorkingYears']\n",
    "    y=data['YearsWithCurrManager']\n",
    "    ax.scatter(x,y,label=str(i))\n",
    "plot.ylabel(\"Total Working Years\")\n",
    "plot.xlabel(\"YearsWithCurrManager\")\n",
    "plot.legend(loc=\"best\")\n",
    "plot.title(\"Any Correlation?\")\n",
    "plot.bar(x,y)\n",
    "plot.show()"
   ]
  },
  {
   "cell_type": "markdown",
   "metadata": {},
   "source": [
    "### Interpretation - most of the employees who stays for long period works under same manager most of the time"
   ]
  },
  {
   "cell_type": "code",
   "execution_count": 105,
   "metadata": {},
   "outputs": [
    {
     "data": {
      "image/png": "[encoded data removed]",
      "text/plain": [
       "<Figure size 432x288 with 1 Axes>"
      ]
     },
     "metadata": {
      "needs_background": "light"
     },
     "output_type": "display_data"
    }
   ],
   "source": [
    "fig, ax = plot.subplots(1)\n",
    "for i in range(1):\n",
    "    x=data['NumCompaniesWorked'] \n",
    "    y=data['TotalWorkingYears'], \n",
    "    ax.scatter(x,y, label=str(i))\n",
    "plot.xlabel(\"NumCompaniesWorked\") \n",
    "plot.ylabel(\"TotalWorkingYears\") \n",
    "plot.legend(loc=\"best\") \n",
    "plot.title(\"Any correlation?\") \n",
    "plot.show()"
   ]
  },
  {
   "cell_type": "markdown",
   "metadata": {},
   "source": [
    "### Interpretation - Some people change companies for growth and some stays with same company or some people stay for longer period "
   ]
  },
  {
   "cell_type": "code",
   "execution_count": 106,
   "metadata": {},
   "outputs": [
    {
     "data": {
      "image/png": "[encoded data removed]",
      "text/plain": [
       "<Figure size 432x288 with 1 Axes>"
      ]
     },
     "metadata": {
      "needs_background": "light"
     },
     "output_type": "display_data"
    }
   ],
   "source": [
    "fig, ax = plot.subplots(1)\n",
    "for i in range(1):\n",
    "    x=data['YearsAtCompany'] \n",
    "    y=data['YearsSinceLastPromotion'], \n",
    "    ax.scatter(x,y, label=str(i))\n",
    "plot.ylabel(\"NumCompaniesWorked\") \n",
    "plot.xlabel(\"YearsSinceLastPromotion\") \n",
    "plot.legend(loc=\"best\") \n",
    "plot.title(\"Any correlation?\") \n",
    "plot.show()"
   ]
  },
  {
   "cell_type": "markdown",
   "metadata": {},
   "source": [
    "### Interpretation - People who changes frequently have to wait for promotion eventually some of them leave this company"
   ]
  },
  {
   "cell_type": "code",
   "execution_count": 107,
   "metadata": {},
   "outputs": [
    {
     "data": {
      "image/png": "[encoded data removed]",
      "text/plain": [
       "<Figure size 432x288 with 1 Axes>"
      ]
     },
     "metadata": {
      "needs_background": "light"
     },
     "output_type": "display_data"
    }
   ],
   "source": [
    "fig,ax = plot.subplots(1)\n",
    "for i in range(1):\n",
    "    x=data['TotalWorkingYears']\n",
    "    y=data['YearsAtCompany']\n",
    "    ax.scatter(x,y,label=str(i))\n",
    "plot.ylabel(\"Total Working Years\")\n",
    "plot.xlabel(\"Years at Company\")\n",
    "plot.legend(loc=\"best\")\n",
    "plot.title(\"Any Correlation?\")\n",
    "plot.bar(x,y)\n",
    "plot.show()"
   ]
  },
  {
   "cell_type": "markdown",
   "metadata": {},
   "source": [
    "### Interpretation - Most of the employees work for longer time in this company"
   ]
  },
  {
   "cell_type": "code",
   "execution_count": 108,
   "metadata": {},
   "outputs": [
    {
     "data": {
      "image/png": "[encoded data removed]",
      "text/plain": [
       "<Figure size 432x288 with 1 Axes>"
      ]
     },
     "metadata": {
      "needs_background": "light"
     },
     "output_type": "display_data"
    }
   ],
   "source": [
    "fig, ax = plot.subplots(1)\n",
    "for i in range(1):\n",
    "    x=data['Age'] \n",
    "    y=data['MonthlyIncome'], \n",
    "    ax.scatter(x,y, label=str(i))\n",
    "plot.xlabel(\"Age\") \n",
    "plot.ylabel(\"MonthlyIncome\") \n",
    "plot.legend(loc=\"best\") \n",
    "plot.title(\"Any correlation?\") \n",
    "plot.show()"
   ]
  },
  {
   "cell_type": "markdown",
   "metadata": {},
   "source": [
    "#### Salary is not proportional to age in most of the cases and most of the people earn below 7.5 lpa"
   ]
  }
 ],
 "metadata": {
  "kernelspec": {
   "display_name": "Python 3",
   "language": "python",
   "name": "python3"
  },
  "language_info": {
   "codemirror_mode": {
    "name": "ipython",
    "version": 3
   },
   "file_extension": ".py",
   "mimetype": "text/x-python",
   "name": "python",
   "nbconvert_exporter": "python",
   "pygments_lexer": "ipython3",
   "version": "3.7.1"
  }
 },
 "nbformat": 4,
 "nbformat_minor": 2
}
