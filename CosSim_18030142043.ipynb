{
 "cells": [
  {
   "cell_type": "markdown",
   "metadata": {},
   "source": [
    "## NAME : Subodh\n",
    "## PRN  : 18030142043"
   ]
  },
  {
   "cell_type": "code",
   "execution_count": 1,
   "metadata": {
    "collapsed": true
   },
   "outputs": [],
   "source": [
    "import numpy as np\n",
    "import pandas as pd\n",
    "from numpy import dot\n",
    "from numpy.linalg import norm"
   ]
  },
  {
   "cell_type": "code",
   "execution_count": 2,
   "metadata": {
    "collapsed": true
   },
   "outputs": [],
   "source": [
    "def co_sim(a,b):\n",
    "    sim = (dot(a, b)/(norm(a)*norm(b)))\n",
    "    return sim"
   ]
  },
  {
   "cell_type": "code",
   "execution_count": 3,
   "metadata": {
    "collapsed": false
   },
   "outputs": [
    {
     "name": "stdout",
     "output_type": "stream",
     "text": [
      "400000 word vectors are added.\n"
     ]
    }
   ],
   "source": [
    "embeddings_index = dict()\n",
    "with open(\"/Users/mac/Desktop/glove.6B.300d.txt\", encoding='UTF-8') as f:\n",
    "    for line in f:\n",
    "        values = line.split()\n",
    "        word = values[0]\n",
    "        coefs = np.asarray(values[1:], dtype='float32')\n",
    "        embeddings_index[word] = coefs\n",
    "print('%s word vectors are added.' % len(embeddings_index))"
   ]
  },
  {
   "cell_type": "markdown",
   "metadata": {},
   "source": [
    "Implement Cosine Similarity and find top 10 nearest words to following words:\n",
    "\n",
    "1. wikipedia\n",
    "\n",
    "2. software\n",
    "\n",
    "3. jupiter\n",
    "\n",
    "4. wise"
   ]
  },
  {
   "cell_type": "markdown",
   "metadata": {},
   "source": [
    "### Finding nearest top 10 words using cosine similarity"
   ]
  },
  {
   "cell_type": "code",
   "execution_count": 4,
   "metadata": {
    "collapsed": false
   },
   "outputs": [
    {
     "data": {
      "text/html": [
       "<div>\n",
       "<table border=\"1\" class=\"dataframe\">\n",
       "  <thead>\n",
       "    <tr style=\"text-align: right;\">\n",
       "      <th></th>\n",
       "      <th>jupiter</th>\n",
       "      <th>software</th>\n",
       "      <th>wikipedia</th>\n",
       "      <th>wise</th>\n",
       "    </tr>\n",
       "  </thead>\n",
       "  <tbody>\n",
       "    <tr>\n",
       "      <th>kunonga</th>\n",
       "      <td>0.038917</td>\n",
       "      <td>-0.141017</td>\n",
       "      <td>0.040765</td>\n",
       "      <td>-0.094842</td>\n",
       "    </tr>\n",
       "    <tr>\n",
       "      <th>actuary</th>\n",
       "      <td>0.022646</td>\n",
       "      <td>0.080281</td>\n",
       "      <td>-0.071448</td>\n",
       "      <td>0.034571</td>\n",
       "    </tr>\n",
       "    <tr>\n",
       "      <th>co-anchored</th>\n",
       "      <td>-0.042561</td>\n",
       "      <td>-0.095013</td>\n",
       "      <td>0.061979</td>\n",
       "      <td>-0.063877</td>\n",
       "    </tr>\n",
       "    <tr>\n",
       "      <th>prohibition-era</th>\n",
       "      <td>-0.098046</td>\n",
       "      <td>-0.062532</td>\n",
       "      <td>0.057254</td>\n",
       "      <td>-0.046517</td>\n",
       "    </tr>\n",
       "    <tr>\n",
       "      <th>attapatu</th>\n",
       "      <td>-0.088616</td>\n",
       "      <td>-0.162417</td>\n",
       "      <td>0.077995</td>\n",
       "      <td>-0.087361</td>\n",
       "    </tr>\n",
       "    <tr>\n",
       "      <th>shamshad</th>\n",
       "      <td>-0.076207</td>\n",
       "      <td>-0.111445</td>\n",
       "      <td>-0.123426</td>\n",
       "      <td>-0.089628</td>\n",
       "    </tr>\n",
       "    <tr>\n",
       "      <th>contrition</th>\n",
       "      <td>-0.088160</td>\n",
       "      <td>-0.115650</td>\n",
       "      <td>-0.014935</td>\n",
       "      <td>-0.050589</td>\n",
       "    </tr>\n",
       "    <tr>\n",
       "      <th>mcpon</th>\n",
       "      <td>-0.034446</td>\n",
       "      <td>-0.124918</td>\n",
       "      <td>-0.061737</td>\n",
       "      <td>-0.035792</td>\n",
       "    </tr>\n",
       "    <tr>\n",
       "      <th>career-defining</th>\n",
       "      <td>-0.003384</td>\n",
       "      <td>-0.085532</td>\n",
       "      <td>-0.022440</td>\n",
       "      <td>-0.082371</td>\n",
       "    </tr>\n",
       "    <tr>\n",
       "      <th>duhamel</th>\n",
       "      <td>-0.047253</td>\n",
       "      <td>-0.118043</td>\n",
       "      <td>-0.022874</td>\n",
       "      <td>-0.022140</td>\n",
       "    </tr>\n",
       "  </tbody>\n",
       "</table>\n",
       "</div>"
      ],
      "text/plain": [
       "                  jupiter  software  wikipedia      wise\n",
       "kunonga          0.038917 -0.141017   0.040765 -0.094842\n",
       "actuary          0.022646  0.080281  -0.071448  0.034571\n",
       "co-anchored     -0.042561 -0.095013   0.061979 -0.063877\n",
       "prohibition-era -0.098046 -0.062532   0.057254 -0.046517\n",
       "attapatu        -0.088616 -0.162417   0.077995 -0.087361\n",
       "shamshad        -0.076207 -0.111445  -0.123426 -0.089628\n",
       "contrition      -0.088160 -0.115650  -0.014935 -0.050589\n",
       "mcpon           -0.034446 -0.124918  -0.061737 -0.035792\n",
       "career-defining -0.003384 -0.085532  -0.022440 -0.082371\n",
       "duhamel         -0.047253 -0.118043  -0.022874 -0.022140"
      ]
     },
     "execution_count": 4,
     "metadata": {},
     "output_type": "execute_result"
    }
   ],
   "source": [
    "dictionry = {near:[co_sim(embeddings_index.get(near),embeddings_index.get(words)) \n",
    "for words in list(embeddings_index.keys())] \n",
    "       for near in ['wikipedia','software','jupiter','wise']}\n",
    "df = pd.DataFrame(dictionry,index=list(embeddings_index.keys()))\n",
    "df.head(10)"
   ]
  },
  {
   "cell_type": "markdown",
   "metadata": {},
   "source": [
    "### All above numbers are representation of words."
   ]
  },
  {
   "cell_type": "code",
   "execution_count": 5,
   "metadata": {
    "collapsed": false
   },
   "outputs": [],
   "source": [
    "c_wp =list(df.sort_values(['wikipedia'],ascending=False)[1:11].index)\n",
    "c_s =list(df.sort_values(['software'],ascending=False)[1:11].index)\n",
    "c_j=list(df.sort_values(['jupiter'],ascending=False)[1:11].index)\n",
    "c_w=list(df.sort_values(['wise'],ascending=False)[1:11].index)"
   ]
  },
  {
   "cell_type": "code",
   "execution_count": 6,
   "metadata": {},
   "outputs": [],
   "source": [
    "sim_dict = { 'Wikipedia' : c_wp, 'Software' : c_s, 'Jupiter' : c_j, 'Wise' : c_w}"
   ]
  },
  {
   "cell_type": "code",
   "execution_count": 7,
   "metadata": {},
   "outputs": [
    {
     "data": {
      "text/html": [
       "<div>\n",
       "<table border=\"1\" class=\"dataframe\">\n",
       "  <thead>\n",
       "    <tr style=\"text-align: right;\">\n",
       "      <th></th>\n",
       "      <th>Jupiter</th>\n",
       "      <th>Software</th>\n",
       "      <th>Wikipedia</th>\n",
       "      <th>Wise</th>\n",
       "    </tr>\n",
       "  </thead>\n",
       "  <tbody>\n",
       "    <tr>\n",
       "      <th>0</th>\n",
       "      <td>moons</td>\n",
       "      <td>computer</td>\n",
       "      <td>encyclopedia</td>\n",
       "      <td>foolish</td>\n",
       "    </tr>\n",
       "    <tr>\n",
       "      <th>1</th>\n",
       "      <td>planets</td>\n",
       "      <td>microsoft</td>\n",
       "      <td>wikimedia</td>\n",
       "      <td>prudent</td>\n",
       "    </tr>\n",
       "    <tr>\n",
       "      <th>2</th>\n",
       "      <td>uranus</td>\n",
       "      <td>hardware</td>\n",
       "      <td>wiki</td>\n",
       "      <td>smart</td>\n",
       "    </tr>\n",
       "    <tr>\n",
       "      <th>3</th>\n",
       "      <td>planet</td>\n",
       "      <td>computers</td>\n",
       "      <td>facebook</td>\n",
       "      <td>shrewd</td>\n",
       "    </tr>\n",
       "    <tr>\n",
       "      <th>4</th>\n",
       "      <td>saturn</td>\n",
       "      <td>internet</td>\n",
       "      <td>blog</td>\n",
       "      <td>advice</td>\n",
       "    </tr>\n",
       "    <tr>\n",
       "      <th>5</th>\n",
       "      <td>neptune</td>\n",
       "      <td>server</td>\n",
       "      <td>conservapedia</td>\n",
       "      <td>good</td>\n",
       "    </tr>\n",
       "    <tr>\n",
       "      <th>6</th>\n",
       "      <td>mars</td>\n",
       "      <td>pc</td>\n",
       "      <td>youtube</td>\n",
       "      <td>savvy</td>\n",
       "    </tr>\n",
       "    <tr>\n",
       "      <th>7</th>\n",
       "      <td>comet</td>\n",
       "      <td>users</td>\n",
       "      <td>britannica</td>\n",
       "      <td>intelligent</td>\n",
       "    </tr>\n",
       "    <tr>\n",
       "      <th>8</th>\n",
       "      <td>io</td>\n",
       "      <td>systems</td>\n",
       "      <td>websites</td>\n",
       "      <td>sensible</td>\n",
       "    </tr>\n",
       "    <tr>\n",
       "      <th>9</th>\n",
       "      <td>orbits</td>\n",
       "      <td>desktop</td>\n",
       "      <td>blogs</td>\n",
       "      <td>thoughtful</td>\n",
       "    </tr>\n",
       "  </tbody>\n",
       "</table>\n",
       "</div>"
      ],
      "text/plain": [
       "   Jupiter   Software      Wikipedia         Wise\n",
       "0    moons   computer   encyclopedia      foolish\n",
       "1  planets  microsoft      wikimedia      prudent\n",
       "2   uranus   hardware           wiki        smart\n",
       "3   planet  computers       facebook       shrewd\n",
       "4   saturn   internet           blog       advice\n",
       "5  neptune     server  conservapedia         good\n",
       "6     mars         pc        youtube        savvy\n",
       "7    comet      users     britannica  intelligent\n",
       "8       io    systems       websites     sensible\n",
       "9   orbits    desktop          blogs   thoughtful"
      ]
     },
     "execution_count": 7,
     "metadata": {},
     "output_type": "execute_result"
    }
   ],
   "source": [
    "sim_df = pd.DataFrame(sim_dict)\n",
    "sim_df"
   ]
  },
  {
   "cell_type": "code",
   "execution_count": null,
   "metadata": {},
   "outputs": [],
   "source": []
  }
 ],
 "metadata": {
  "anaconda-cloud": {},
  "kernelspec": {
   "display_name": "Python [default]",
   "language": "python",
   "name": "python3"
  },
  "language_info": {
   "codemirror_mode": {
    "name": "ipython",
    "version": 3
   },
   "file_extension": ".py",
   "mimetype": "text/x-python",
   "name": "python",
   "nbconvert_exporter": "python",
   "pygments_lexer": "ipython3",
   "version": "3.5.4"
  }
 },
 "nbformat": 4,
 "nbformat_minor": 2
}
