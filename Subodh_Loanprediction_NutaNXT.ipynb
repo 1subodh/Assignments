{
 "cells": [
  {
   "cell_type": "markdown",
   "metadata": {},
   "source": [
    "#### Name - Subodh D\n",
    "#### MSc CA - Data Science \n",
    "#### PRN - 18030142043\n",
    "#### Email - sus1842043@sicsr.ac.in,replytosubodh@gmail.com"
   ]
  },
  {
   "cell_type": "markdown",
   "metadata": {},
   "source": [
    "'"
   ]
  },
  {
   "cell_type": "markdown",
   "metadata": {},
   "source": [
    "## Loan Approval Prediction"
   ]
  },
  {
   "cell_type": "markdown",
   "metadata": {},
   "source": [
    "#### Importing libraries"
   ]
  },
  {
   "cell_type": "code",
   "execution_count": 16,
   "metadata": {},
   "outputs": [],
   "source": [
    "# data analysis\n",
    "import numpy as np\n",
    "import pandas as pd \n",
    "\n",
    "# visualization\n",
    "import seaborn as sns\n",
    "import matplotlib.pyplot as plt\n",
    "%matplotlib inline\n",
    "\n",
    "# machine learning algorithms\n",
    "from sklearn.svm import SVC, LinearSVC\n",
    "from sklearn.naive_bayes import GaussianNB\n",
    "from sklearn.neighbors import KNeighborsClassifier\n",
    "from sklearn.model_selection import train_test_split, cross_val_score\n",
    "from sklearn.metrics import classification_report,accuracy_score,confusion_matrix\n",
    "\n",
    "#supressing warnings \n",
    "import warnings\n",
    "warnings.filterwarnings('ignore')"
   ]
  },
  {
   "cell_type": "markdown",
   "metadata": {},
   "source": [
    "#### Cleaning and importing data files"
   ]
  },
  {
   "cell_type": "code",
   "execution_count": 34,
   "metadata": {},
   "outputs": [],
   "source": [
    "approved   = '/Users/home/Desktop/dataset/LoanStats3a.csv/LoanStats3a.csv'\n",
    "with open(approved, 'r') as f:\n",
    "    lines = f.readlines()\n",
    "with open(approved, 'w') as f:\n",
    "    for line in lines:\n",
    "        if line.strip('\\n') != 'Notes offered by Prospectus (https://www.lendingclub.com/info/prospectus.action)'or line.strip('\\n') != 'Loans that do not meet the credit policy)' or line.strip('\\n') != 'Total amount funded in policy code 1: 460296150' or line.strip('\\n') != 'Total amount funded in policy code 2: 0':\n",
    "            f.write(line)       \n",
    "f.close()"
   ]
  },
  {
   "cell_type": "code",
   "execution_count": null,
   "metadata": {},
   "outputs": [],
   "source": []
  },
  {
   "cell_type": "code",
   "execution_count": 37,
   "metadata": {},
   "outputs": [
    {
     "data": {
      "text/plain": [
       "False"
      ]
     },
     "execution_count": 37,
     "metadata": {},
     "output_type": "execute_result"
    }
   ],
   "source": [
    "True and False"
   ]
  },
  {
   "cell_type": "code",
   "execution_count": null,
   "metadata": {},
   "outputs": [],
   "source": []
  },
  {
   "cell_type": "code",
   "execution_count": 36,
   "metadata": {},
   "outputs": [
    {
     "data": {
      "text/plain": [
       "True"
      ]
     },
     "execution_count": 36,
     "metadata": {},
     "output_type": "execute_result"
    }
   ],
   "source": [
    "True or False"
   ]
  },
  {
   "cell_type": "code",
   "execution_count": null,
   "metadata": {},
   "outputs": [],
   "source": []
  },
  {
   "cell_type": "code",
   "execution_count": null,
   "metadata": {},
   "outputs": [],
   "source": []
  },
  {
   "cell_type": "code",
   "execution_count": 27,
   "metadata": {},
   "outputs": [],
   "source": [
    "rejected   = '/Users/home/Desktop/dataset/RejectStatsA.csv/RejectStatsA.csv'\n",
    "with open(rejected, 'r') as f:\n",
    "    lines = f.readlines()\n",
    "with open(rejected, 'w') as f:\n",
    "    for line in lines:\n",
    "        if line.strip('\\n') != 'Notes offered by Prospectus (https://www.lendingclub.com/info/prospectus.action)':\n",
    "            f.write(line)\n",
    "f.close()"
   ]
  },
  {
   "cell_type": "code",
   "execution_count": 30,
   "metadata": {},
   "outputs": [
    {
     "name": "stdout",
     "output_type": "stream",
     "text": [
      "No Python documentation found for '\"35000.00\",\"2012-12-31\",\"other\",\"597\",\"4.13%\",\"211xx\",\"MD\",\"< 1 year\",\"0\"'.\n",
      "Use help() to get the interactive help utility.\n",
      "Use help(str) for help on the str class.\n",
      "\n"
     ]
    }
   ],
   "source": [
    "help(line.strip('\\n'))"
   ]
  },
  {
   "cell_type": "code",
   "execution_count": null,
   "metadata": {},
   "outputs": [],
   "source": []
  },
  {
   "cell_type": "code",
   "execution_count": null,
   "metadata": {},
   "outputs": [],
   "source": []
  },
  {
   "cell_type": "code",
   "execution_count": null,
   "metadata": {},
   "outputs": [],
   "source": []
  },
  {
   "cell_type": "code",
   "execution_count": 33,
   "metadata": {},
   "outputs": [
    {
     "data": {
      "text/plain": [
       "{'dfapproved Shape': (42539, 1),\n",
       " 'Columns': Index(['Notes offered by Prospectus (https://www.lendingclub.com/info/prospectus.action)'], dtype='object')}"
      ]
     },
     "execution_count": 33,
     "metadata": {},
     "output_type": "execute_result"
    }
   ],
   "source": [
    "approved   = '/Users/home/Desktop/dataset/LoanStats3a.csv/LoanStats3a.csv'\n",
    "dfapproved = pd.read_csv(approved)\n",
    "{ 'dfapproved Shape' : dfapproved.shape,'Columns' : dfapproved.columns }"
   ]
  },
  {
   "cell_type": "code",
   "execution_count": null,
   "metadata": {},
   "outputs": [],
   "source": []
  },
  {
   "cell_type": "code",
   "execution_count": null,
   "metadata": {},
   "outputs": [],
   "source": []
  },
  {
   "cell_type": "code",
   "execution_count": 23,
   "metadata": {},
   "outputs": [
    {
     "data": {
      "text/plain": [
       "{'dfrejected Shape': (755491, 9),\n",
       " 'Columns': Index(['Amount Requested', 'Application Date', 'Loan Title', 'Risk_Score',\n",
       "        'Debt-To-Income Ratio', 'Zip Code', 'State', 'Employment Length',\n",
       "        'Policy Code'],\n",
       "       dtype='object')}"
      ]
     },
     "execution_count": 23,
     "metadata": {},
     "output_type": "execute_result"
    }
   ],
   "source": [
    "rejected   = '/Users/home/Desktop/dataset/RejectStatsA.csv/RejectStatsA.csv'\n",
    "dfrejected = pd.read_csv(rejected)\n",
    "{ 'dfrejected Shape' : dfrejected.shape,'Columns' : dfrejected.columns }"
   ]
  },
  {
   "cell_type": "code",
   "execution_count": null,
   "metadata": {},
   "outputs": [],
   "source": []
  },
  {
   "cell_type": "markdown",
   "metadata": {},
   "source": [
    "#### Formatting column names"
   ]
  },
  {
   "cell_type": "code",
   "execution_count": null,
   "metadata": {},
   "outputs": [],
   "source": [
    "dfapproved.columns = dfapproved.columns.str.replace(' ', '_') # replacing whitespaces to underscore.\n",
    "dfrejected.columns = dfrejected.columns.str.replace(' ', '_') # replacing whitespaces to underscore.\n",
    "dfrejected.columns = dfrejected.columns.str.replace('-', '_') # replacing dash sign.\n",
    "dfrejected.columns = dfrejected.columns.str.lower() # changing from camel-case to lower case\n",
    "(dfapproved.columns,dfrejected.columns)"
   ]
  },
  {
   "cell_type": "markdown",
   "metadata": {},
   "source": [
    "#### Printing all column names and there positions"
   ]
  },
  {
   "cell_type": "code",
   "execution_count": null,
   "metadata": {},
   "outputs": [],
   "source": [
    "print({'Column Name': 'Column Number'})\n",
    "for dc,cn in zip(dfapproved.columns,range(1,dfapproved.shape[1]+1)):\n",
    "    print({dc: (str(cn) , dfapproved[dc].dtype)})"
   ]
  },
  {
   "cell_type": "code",
   "execution_count": null,
   "metadata": {},
   "outputs": [],
   "source": [
    "print({'Column Name': 'Column Number'})\n",
    "for dc,cn in zip(dfrejected.columns,range(1,dfrejected.shape[1]+1)):\n",
    "    print({dc:str(cn)})"
   ]
  },
  {
   "cell_type": "markdown",
   "metadata": {},
   "source": [
    "#### Understanding only numerical part of dataframe"
   ]
  },
  {
   "cell_type": "code",
   "execution_count": null,
   "metadata": {},
   "outputs": [],
   "source": [
    "dfapproved.iloc[:,0:28].describe()"
   ]
  },
  {
   "cell_type": "code",
   "execution_count": null,
   "metadata": {},
   "outputs": [],
   "source": [
    "dfapproved.iloc[:,27:54].describe()"
   ]
  },
  {
   "cell_type": "code",
   "execution_count": null,
   "metadata": {},
   "outputs": [],
   "source": [
    "dfrejected.describe()"
   ]
  },
  {
   "cell_type": "code",
   "execution_count": 24,
   "metadata": {},
   "outputs": [
    {
     "name": "stdout",
     "output_type": "stream",
     "text": [
      "<class 'pandas.core.frame.DataFrame'>\n",
      "RangeIndex: 850775 entries, 0 to 850774\n",
      "Columns: 144 entries, id to settlement_term\n",
      "dtypes: object(144)\n",
      "memory usage: 934.7+ MB\n"
     ]
    }
   ],
   "source": [
    "dfapproved.info()"
   ]
  },
  {
   "cell_type": "code",
   "execution_count": null,
   "metadata": {},
   "outputs": [],
   "source": []
  },
  {
   "cell_type": "code",
   "execution_count": null,
   "metadata": {},
   "outputs": [],
   "source": [
    "dfrejected.info()"
   ]
  },
  {
   "cell_type": "markdown",
   "metadata": {},
   "source": [
    "#### Checking if some column is duplicated specially in approved frame as it is large frame."
   ]
  },
  {
   "cell_type": "code",
   "execution_count": null,
   "metadata": {},
   "outputs": [],
   "source": [
    "(dfapproved.columns.value_counts().any() > 1,dfrejected.columns.value_counts().any() > 1)"
   ]
  },
  {
   "cell_type": "code",
   "execution_count": null,
   "metadata": {},
   "outputs": [],
   "source": [
    "dfapproved.head(5)"
   ]
  },
  {
   "cell_type": "code",
   "execution_count": null,
   "metadata": {},
   "outputs": [],
   "source": [
    "dfrejected.head(5)"
   ]
  },
  {
   "cell_type": "code",
   "execution_count": 21,
   "metadata": {},
   "outputs": [
    {
     "data": {
      "text/plain": [
       "id                                            99.991185\n",
       "member_id                                     99.997767\n",
       "loan_amnt                                      0.006582\n",
       "funded_amnt                                    0.006582\n",
       "funded_amnt_inv                                0.006582\n",
       "term                                           0.006582\n",
       "int_rate                                       0.006582\n",
       "installment                                    0.006582\n",
       "grade                                          0.006582\n",
       "sub_grade                                      0.006582\n",
       "emp_title                                      6.179777\n",
       "emp_length                                     2.620669\n",
       "home_ownership                                 0.006582\n",
       "annual_inc                                     0.015985\n",
       "verification_status                            0.006582\n",
       "issue_d                                        0.006582\n",
       "loan_status                                    0.006582\n",
       "pymnt_plan                                     0.006582\n",
       "url                                           99.997767\n",
       "desc                                          31.255737\n",
       "purpose                                        0.006582\n",
       "title                                          0.037143\n",
       "zip_code                                       0.006582\n",
       "addr_state                                     0.006582\n",
       "dti                                            0.006582\n",
       "delinq_2yrs                                    0.074755\n",
       "earliest_cr_line                               0.074755\n",
       "inq_last_6mths                                 0.074755\n",
       "mths_since_last_delinq                        63.304164\n",
       "mths_since_last_record                        91.415004\n",
       "                                                ...    \n",
       "sec_app_mort_acc                              99.997767\n",
       "sec_app_open_acc                              99.997767\n",
       "sec_app_revol_util                            99.997767\n",
       "sec_app_open_act_il                           99.997767\n",
       "sec_app_num_rev_accts                         99.997767\n",
       "sec_app_chargeoff_within_12_mths              99.997767\n",
       "sec_app_collections_12_mths_ex_med            99.997767\n",
       "sec_app_mths_since_last_major_derog           99.997767\n",
       "hardship_flag                                  0.006582\n",
       "hardship_type                                 99.997767\n",
       "hardship_reason                               99.997767\n",
       "hardship_status                               99.997767\n",
       "deferral_term                                 99.997767\n",
       "hardship_amount                               99.997767\n",
       "hardship_start_date                           99.997767\n",
       "hardship_end_date                             99.997767\n",
       "payment_plan_start_date                       99.997767\n",
       "hardship_length                               99.997767\n",
       "hardship_dpd                                  99.997767\n",
       "hardship_loan_status                          99.997767\n",
       "orig_projected_additional_accrued_interest    99.997767\n",
       "hardship_payoff_balance_amount                99.997767\n",
       "hardship_last_payment_amount                  99.997767\n",
       "debt_settlement_flag                           0.006582\n",
       "debt_settlement_flag_date                     99.621639\n",
       "settlement_status                             99.621639\n",
       "settlement_date                               99.621639\n",
       "settlement_amount                             99.621639\n",
       "settlement_percentage                         99.621639\n",
       "settlement_term                               99.621639\n",
       "Length: 144, dtype: float64"
      ]
     },
     "execution_count": 21,
     "metadata": {},
     "output_type": "execute_result"
    }
   ],
   "source": [
    "dfapproved.isna().mean().round(8)*100"
   ]
  },
  {
   "cell_type": "code",
   "execution_count": null,
   "metadata": {},
   "outputs": [],
   "source": []
  },
  {
   "cell_type": "code",
   "execution_count": null,
   "metadata": {},
   "outputs": [],
   "source": []
  },
  {
   "cell_type": "code",
   "execution_count": null,
   "metadata": {},
   "outputs": [],
   "source": []
  },
  {
   "cell_type": "code",
   "execution_count": null,
   "metadata": {},
   "outputs": [],
   "source": [
    "thresh = len(dfapproved) * .5\n",
    "dfapproved.dropna(thresh = thresh, axis = 1, inplace = True)\n",
    "dfapproved.shape"
   ]
  },
  {
   "cell_type": "code",
   "execution_count": 25,
   "metadata": {},
   "outputs": [
    {
     "data": {
      "text/plain": [
       "Amount Requested        0.000000\n",
       "Application Date        0.000000\n",
       "Loan Title              0.001853\n",
       "Risk_Score              3.167344\n",
       "Debt-To-Income Ratio    0.000000\n",
       "Zip Code                0.002912\n",
       "State                   0.002780\n",
       "Employment Length       1.076121\n",
       "Policy Code             0.000000\n",
       "dtype: float64"
      ]
     },
     "execution_count": 25,
     "metadata": {},
     "output_type": "execute_result"
    }
   ],
   "source": [
    "dfrejected.isna().mean().round(8)*100"
   ]
  },
  {
   "cell_type": "code",
   "execution_count": null,
   "metadata": {},
   "outputs": [],
   "source": []
  },
  {
   "cell_type": "code",
   "execution_count": null,
   "metadata": {},
   "outputs": [],
   "source": [
    "dfapproved.groupby(['term']).count().plot(kind='bar',legend=False,colors='red')\n",
    "plt.title('Distribution of application') \n",
    "plt.show()"
   ]
  },
  {
   "cell_type": "markdown",
   "metadata": {},
   "source": [
    "#### Analysis - Mostly people have taken shorted term loans"
   ]
  },
  {
   "cell_type": "code",
   "execution_count": null,
   "metadata": {},
   "outputs": [],
   "source": [
    "dfapproved.groupby(['home_ownership']).count().plot(kind='bar',legend=False,colors='red')\n",
    "plt.title('Home ownership status of applicants') \n",
    "plt.show()"
   ]
  },
  {
   "cell_type": "code",
   "execution_count": null,
   "metadata": {},
   "outputs": [],
   "source": [
    "sns.set(rc={'figure.figsize':(20,20)})\n",
    "sns.countplot(dfapproved['addr_state'])\n",
    "plt.title('Geological distribution')\n",
    "plt.show()"
   ]
  },
  {
   "cell_type": "markdown",
   "metadata": {},
   "source": [
    "#### Analysis - California residents are highest who got approved loan."
   ]
  },
  {
   "cell_type": "code",
   "execution_count": null,
   "metadata": {},
   "outputs": [],
   "source": [
    "plt.figure(figsize=(25, 25))\n",
    "corr = dfapproved.corr()\n",
    "sns.heatmap(corr, annot=True)\n",
    "plt.show()"
   ]
  },
  {
   "cell_type": "code",
   "execution_count": null,
   "metadata": {},
   "outputs": [],
   "source": [
    "# Common function to find any correlations in the approved dataframe.\n",
    "def getAnyCorrelation(xcol,ycol):\n",
    "    fig, ax = plt.subplots(1)\n",
    "    for i in range(1):\n",
    "        x=dfapproved[xcol]\n",
    "        y=dfapproved[ycol]\n",
    "        marker=\"o\",\n",
    "        alpha=0.2,\n",
    "        ax.scatter(x,y, label=str(i))\n",
    "    plt.ylabel(ycol)\n",
    "    plt.xlabel(xcol)\n",
    "    plt.title(\"Correlation between \"+xcol+\" & \"+ycol,fontsize = 16)\n",
    "    plt.show()"
   ]
  },
  {
   "cell_type": "markdown",
   "metadata": {},
   "source": [
    "##### sample co-relation "
   ]
  },
  {
   "cell_type": "code",
   "execution_count": null,
   "metadata": {},
   "outputs": [],
   "source": [
    "getAnyCorrelation('total_pymnt','funded_amnt')"
   ]
  },
  {
   "cell_type": "markdown",
   "metadata": {},
   "source": [
    "# There are many co-related features within the approved dataframe but we can not use them as they indicate the 1 possibility only.The rejected dataframe has only few features so we have to find analogous featues with both frames."
   ]
  },
  {
   "cell_type": "markdown",
   "metadata": {},
   "source": [
    "#### Identifying similar column in both frames using data dictionary"
   ]
  },
  {
   "cell_type": "code",
   "execution_count": null,
   "metadata": {},
   "outputs": [],
   "source": [
    "(dfapproved.funded_amnt.isnull().any(),dfrejected.amount_requested.isnull().any())"
   ]
  },
  {
   "cell_type": "code",
   "execution_count": null,
   "metadata": {},
   "outputs": [],
   "source": [
    "dfrejected.risk_score.isnull().any() # checking and handling missing values in risk score."
   ]
  },
  {
   "cell_type": "code",
   "execution_count": null,
   "metadata": {},
   "outputs": [],
   "source": [
    "dfrejected.risk_score.mean()"
   ]
  },
  {
   "cell_type": "markdown",
   "metadata": {},
   "source": [
    "### Risk Score could have been good feature but there is any analogous feature in approved dataframe beacuse fico high and \n",
    "### low fico columns contains null and vantage score is also not present in dataset."
   ]
  },
  {
   "cell_type": "code",
   "execution_count": null,
   "metadata": {},
   "outputs": [],
   "source": [
    "(dfrejected.risk_score.fillna(dfrejected.risk_score.mean(),inplace=True),dfrejected.risk_score.isnull().any(),dfrejected.risk_score.mean())"
   ]
  },
  {
   "cell_type": "markdown",
   "metadata": {},
   "source": [
    "'"
   ]
  },
  {
   "cell_type": "code",
   "execution_count": null,
   "metadata": {},
   "outputs": [],
   "source": [
    "(dfapproved.dti.isnull().any(),dfrejected.debt_to_income_ratio.isnull().any())"
   ]
  },
  {
   "cell_type": "code",
   "execution_count": null,
   "metadata": {},
   "outputs": [],
   "source": [
    "(dfapproved.dti.head(),dfrejected.debt_to_income_ratio.head())"
   ]
  },
  {
   "cell_type": "markdown",
   "metadata": {},
   "source": [
    "##### Converting rejected debt to income and approved debt to income to float."
   ]
  },
  {
   "cell_type": "code",
   "execution_count": null,
   "metadata": {},
   "outputs": [],
   "source": [
    "#dfapproved.dti = dfapproved.dti.str.lstrip(' ').astype('float')\n",
    "dfrejected.debt_to_income_ratio = dfrejected.debt_to_income_ratio.str.rstrip('%').astype('float')\n",
    "(dfapproved.dti.head(7),dfrejected.debt_to_income_ratio.head(7))"
   ]
  },
  {
   "cell_type": "markdown",
   "metadata": {},
   "source": [
    "#### Filling na strings in null containg fields."
   ]
  },
  {
   "cell_type": "code",
   "execution_count": null,
   "metadata": {},
   "outputs": [],
   "source": [
    "(dfapproved.addr_state.isna().any(),dfrejected.state.isna().any())"
   ]
  },
  {
   "cell_type": "code",
   "execution_count": null,
   "metadata": {},
   "outputs": [],
   "source": [
    "dfrejected.state = dfrejected.state.fillna('NOTAVAILABLE')\n",
    "dfrejected.state.isna().any()"
   ]
  },
  {
   "cell_type": "code",
   "execution_count": null,
   "metadata": {},
   "outputs": [],
   "source": [
    "sns.set(rc={'figure.figsize':(20,20)})\n",
    "sns.countplot(dfrejected['state'])\n",
    "plt.title('Geological distribution')\n",
    "plt.show()"
   ]
  },
  {
   "cell_type": "markdown",
   "metadata": {},
   "source": [
    "#### Analysis - Rejected loans are mostly from California also."
   ]
  },
  {
   "cell_type": "code",
   "execution_count": null,
   "metadata": {},
   "outputs": [],
   "source": []
  },
  {
   "cell_type": "markdown",
   "metadata": {},
   "source": [
    "#### Mapping states of both columns in approved and rejected"
   ]
  },
  {
   "cell_type": "code",
   "execution_count": null,
   "metadata": {},
   "outputs": [],
   "source": [
    "states =[]\n",
    "states.extend(dfrejected.state.values.flatten())\n",
    "states.extend(dfapproved.addr_state.values.flatten())\n",
    "states = list(set(states))\n",
    "states"
   ]
  },
  {
   "cell_type": "markdown",
   "metadata": {},
   "source": [
    "### Value to variable mapping and replacing based on values in dataframe columns - considering unique of both columns."
   ]
  },
  {
   "cell_type": "code",
   "execution_count": null,
   "metadata": {},
   "outputs": [],
   "source": [
    "dict = {}\n",
    "for rn in range(0,len(states)):\n",
    "    dict[states[rn]] = str(rn)\n",
    "dict"
   ]
  },
  {
   "cell_type": "code",
   "execution_count": null,
   "metadata": {},
   "outputs": [],
   "source": [
    "dfapproved.addr_state.replace(dict,inplace=True)\n",
    "dfapproved.addr_state = dfapproved.addr_state.astype(int)\n",
    "dfapproved.addr_state.head()"
   ]
  },
  {
   "cell_type": "code",
   "execution_count": null,
   "metadata": {},
   "outputs": [],
   "source": [
    "dfrejected.state.replace(dict,inplace=True)\n",
    "dfrejected.state = dfrejected.state.astype(int)\n",
    "dfrejected.state.head()"
   ]
  },
  {
   "cell_type": "code",
   "execution_count": null,
   "metadata": {},
   "outputs": [],
   "source": [
    "(dfapproved.emp_length.dtype,dfapproved.emp_length.isnull().any(),\n",
    "dfrejected.employment_length.dtype,dfrejected.employment_length.isnull().any()\n",
    ")"
   ]
  },
  {
   "cell_type": "markdown",
   "metadata": {},
   "source": [
    "#### First filling null with NA string and then after mapping filling with mode "
   ]
  },
  {
   "cell_type": "code",
   "execution_count": null,
   "metadata": {},
   "outputs": [],
   "source": [
    "dfapproved.emp_length = dfapproved.emp_length.fillna('NA')\n",
    "dfrejected.employment_length = dfrejected.employment_length.fillna('NA')"
   ]
  },
  {
   "cell_type": "code",
   "execution_count": null,
   "metadata": {},
   "outputs": [],
   "source": [
    "(dfapproved.emp_length.dtype,dfapproved.emp_length.isnull().any(),\n",
    "dfrejected.employment_length.dtype,dfrejected.employment_length.isnull().any()\n",
    ")"
   ]
  },
  {
   "cell_type": "code",
   "execution_count": null,
   "metadata": {},
   "outputs": [],
   "source": [
    "dfrejected.groupby(['employment_length']).count().plot(kind='bar',legend=False,colors='red')\n",
    "plt.title('Distribution of application') \n",
    "plt.show()"
   ]
  },
  {
   "cell_type": "markdown",
   "metadata": {},
   "source": [
    "#### Analysis - Entry levery employee face rejections in loan"
   ]
  },
  {
   "cell_type": "code",
   "execution_count": null,
   "metadata": {},
   "outputs": [],
   "source": [
    "el =[]\n",
    "el.extend(dfapproved.emp_length.values.flatten())\n",
    "el.extend(dfrejected.employment_length.values.flatten())\n",
    "el = list(set(el))"
   ]
  },
  {
   "cell_type": "markdown",
   "metadata": {},
   "source": [
    "### Mapping value and variable and replacing the dataframe column from fprmed dictionary.\n"
   ]
  },
  {
   "cell_type": "code",
   "execution_count": null,
   "metadata": {},
   "outputs": [],
   "source": [
    "dict = {}\n",
    "for rn in range(0,len(el)):\n",
    "    dict[el[rn]] = str(rn)\n",
    "dict"
   ]
  },
  {
   "cell_type": "code",
   "execution_count": null,
   "metadata": {},
   "outputs": [],
   "source": [
    "dfapproved.emp_length.replace(dict,inplace=True)\n",
    "dfrejected.employment_length.replace(dict,inplace=True)"
   ]
  },
  {
   "cell_type": "code",
   "execution_count": null,
   "metadata": {},
   "outputs": [],
   "source": [
    "dfapproved.emp_length = dfapproved.emp_length.astype(int)\n",
    "dfapproved.emp_length.head()"
   ]
  },
  {
   "cell_type": "code",
   "execution_count": null,
   "metadata": {},
   "outputs": [],
   "source": [
    "dfrejected.employment_length = dfrejected.employment_length.astype(int)\n",
    "dfrejected.employment_length.head()"
   ]
  },
  {
   "cell_type": "code",
   "execution_count": null,
   "metadata": {},
   "outputs": [],
   "source": [
    "(dfapproved.emp_length.mode(),dfrejected.employment_length.mode())"
   ]
  },
  {
   "cell_type": "code",
   "execution_count": null,
   "metadata": {},
   "outputs": [],
   "source": [
    "dict = {1:12,9:12}\n",
    "dfapproved.emp_length.replace(dict,inplace=True)"
   ]
  },
  {
   "cell_type": "code",
   "execution_count": null,
   "metadata": {},
   "outputs": [],
   "source": [
    "dict = {1:13,9:13}\n",
    "dfrejected.employment_length.replace(dict,inplace=True)"
   ]
  },
  {
   "cell_type": "markdown",
   "metadata": {},
   "source": [
    "#### Mapping names of similar columns and chosing only indivisual loan in approved ones - without co- borrower\n",
    "."
   ]
  },
  {
   "cell_type": "code",
   "execution_count": null,
   "metadata": {},
   "outputs": [],
   "source": [
    "dfappvf = dfapproved[['application_type','issue_d','funded_amnt','dti','addr_state','emp_length']]\n",
    "dfappvf.rename(columns = {'issue_d':'adt','funded_amnt':'amount','addr_state':'state'},inplace = True)"
   ]
  },
  {
   "cell_type": "code",
   "execution_count": null,
   "metadata": {},
   "outputs": [],
   "source": [
    "set(dfappvf.application_type.values) # All loans are of indivisuals .There are not any co-borrower loans"
   ]
  },
  {
   "cell_type": "code",
   "execution_count": null,
   "metadata": {},
   "outputs": [],
   "source": [
    "dfappvf = dfappvf.iloc[:,1:6]\n",
    "dfappvf.head(7)"
   ]
  },
  {
   "cell_type": "code",
   "execution_count": null,
   "metadata": {},
   "outputs": [],
   "source": [
    "dfappvf.adt=(pd.to_datetime('01-'+dfappvf.adt.str.slice(0,4)+'20'+dfappvf.adt.str.slice(4,6)))"
   ]
  },
  {
   "cell_type": "code",
   "execution_count": null,
   "metadata": {},
   "outputs": [],
   "source": [
    "(dfappvf.head(),dfappvf.dtypes)"
   ]
  },
  {
   "cell_type": "code",
   "execution_count": null,
   "metadata": {},
   "outputs": [],
   "source": [
    "dfappvf.amount = dfappvf.amount.astype('float')"
   ]
  },
  {
   "cell_type": "markdown",
   "metadata": {},
   "source": [
    "#### Setting target 1 for approved and 0 for rejected."
   ]
  },
  {
   "cell_type": "code",
   "execution_count": null,
   "metadata": {},
   "outputs": [],
   "source": [
    "dfappvf['target'] = 1\n",
    "(dfappvf.head(),dfappvf.dtypes)"
   ]
  },
  {
   "cell_type": "code",
   "execution_count": null,
   "metadata": {},
   "outputs": [],
   "source": [
    "dfrejf = dfrejected[['application_date','amount_requested','debt_to_income_ratio','state','employment_length']]\n",
    "dfrejf.rename(columns = {'application_date':'rdt','amount_requested':'amount','debt_to_income_ratio':'dti','employment_length':'emp_length'},inplace = True)\n",
    "dfrejf.rdt = pd.to_datetime(dfrejf.rdt)\n",
    "(dfrejf.head(),dfrejf.dtypes)"
   ]
  },
  {
   "cell_type": "code",
   "execution_count": null,
   "metadata": {},
   "outputs": [],
   "source": [
    "dfrejf['target'] = 0\n",
    "dfrejf.head()"
   ]
  },
  {
   "cell_type": "markdown",
   "metadata": {},
   "source": [
    "### Taking train and test data from specific time period mentioned in the problem statement.Using time masks."
   ]
  },
  {
   "cell_type": "code",
   "execution_count": null,
   "metadata": {},
   "outputs": [],
   "source": [
    "mask1 = (dfappvf.adt > '2007-01-01') & (dfappvf.adt <= '2011-01-01')\n",
    "frame1 = dfappvf.loc[mask1]\n",
    "frame1 = frame1.iloc[:,1:6]\n",
    "(frame1.head(),frame1.shape)"
   ]
  },
  {
   "cell_type": "code",
   "execution_count": null,
   "metadata": {},
   "outputs": [],
   "source": [
    "mask2 = (dfrejf.rdt > '01-01-2007') & (dfrejf.rdt <= '01-01-2012')\n",
    "frame2 = dfrejf.loc[mask2]\n",
    "frame2 = frame2.iloc[:,1:6]\n",
    "(frame2.head(),frame2.shape)"
   ]
  },
  {
   "cell_type": "markdown",
   "metadata": {},
   "source": [
    "### Merging frames to get features and target separated."
   ]
  },
  {
   "cell_type": "code",
   "execution_count": null,
   "metadata": {},
   "outputs": [],
   "source": [
    "frames = (frame1,frame2)\n",
    "train = pd.concat(frames,ignore_index=True)\n",
    "(train.head(),train.shape)"
   ]
  },
  {
   "cell_type": "markdown",
   "metadata": {},
   "source": [
    "#### Histogram shows the distribution of values in the dataframe column."
   ]
  },
  {
   "cell_type": "code",
   "execution_count": null,
   "metadata": {},
   "outputs": [],
   "source": [
    "train.hist(bins=7)\n",
    "plt.show()"
   ]
  },
  {
   "cell_type": "code",
   "execution_count": null,
   "metadata": {},
   "outputs": [],
   "source": [
    "trainx = train.iloc[:,0:4]\n",
    "trainy = train.iloc[:,4:5]"
   ]
  },
  {
   "cell_type": "code",
   "execution_count": null,
   "metadata": {},
   "outputs": [],
   "source": [
    "trainx.head()"
   ]
  },
  {
   "cell_type": "code",
   "execution_count": null,
   "metadata": {},
   "outputs": [],
   "source": [
    "trainy.tail()"
   ]
  },
  {
   "cell_type": "code",
   "execution_count": null,
   "metadata": {},
   "outputs": [],
   "source": [
    "mask3 = (dfappvf.adt > '2008-01-01') & (dfappvf.adt <= '2008-12-01')\n",
    "frame3 = dfappvf.loc[mask3]\n",
    "frame3 = frame3.iloc[:,1:6]\n",
    "(frame3.head(),frame3.shape)"
   ]
  },
  {
   "cell_type": "code",
   "execution_count": null,
   "metadata": {},
   "outputs": [],
   "source": [
    "mask4 = (dfrejf.rdt > '01-01-2008') & (dfrejf.rdt <= '01-12-2008')\n",
    "frame4 = dfrejf.loc[mask4]\n",
    "frame4 = frame4.iloc[:,1:6]\n",
    "(frame4.head(),frame4.shape)"
   ]
  },
  {
   "cell_type": "code",
   "execution_count": null,
   "metadata": {},
   "outputs": [],
   "source": [
    "frames = (frame3,frame4)\n",
    "test = pd.concat(frames ,ignore_index=True)\n",
    "(test.head(),test.shape)"
   ]
  },
  {
   "cell_type": "code",
   "execution_count": null,
   "metadata": {},
   "outputs": [],
   "source": [
    "test.hist(bins=7)\n",
    "plt.show()"
   ]
  },
  {
   "cell_type": "code",
   "execution_count": null,
   "metadata": {},
   "outputs": [],
   "source": [
    "testx = test.iloc[:,0:4]\n",
    "testy = test.iloc[:,4:5]"
   ]
  },
  {
   "cell_type": "code",
   "execution_count": null,
   "metadata": {},
   "outputs": [],
   "source": [
    "testx.head()"
   ]
  },
  {
   "cell_type": "code",
   "execution_count": null,
   "metadata": {},
   "outputs": [],
   "source": [
    "testy.tail()"
   ]
  },
  {
   "cell_type": "code",
   "execution_count": null,
   "metadata": {},
   "outputs": [],
   "source": [
    "x = trainx.append(testx)\n",
    "y = trainy.append(testy)\n",
    "x.head()"
   ]
  },
  {
   "cell_type": "code",
   "execution_count": null,
   "metadata": {},
   "outputs": [],
   "source": [
    "plt.figure(figsize=(10, 10))\n",
    "corr = x.corr()\n",
    "sns.heatmap(corr, annot=True)\n",
    "plt.show()"
   ]
  },
  {
   "cell_type": "code",
   "execution_count": null,
   "metadata": {},
   "outputs": [],
   "source": [
    "x.hist(figsize=(10,10), grid = False, layout=(3,3), bins = 30)\n",
    "plt.show()"
   ]
  },
  {
   "cell_type": "code",
   "execution_count": null,
   "metadata": {},
   "outputs": [],
   "source": [
    "from sklearn.model_selection import StratifiedKFold\n",
    "from sklearn import preprocessing\n",
    "skf = StratifiedKFold(n_splits=10,shuffle= True)\n",
    "skf.get_n_splits(x,y)\n",
    "print(skf)\n",
    "\n",
    "x = preprocessing.normalize(x)\n",
    "y = preprocessing.normalize(y)\n",
    "trainx = preprocessing.normalize(trainx)\n",
    "trainy = preprocessing.normalize(trainy)\n",
    "testx = preprocessing.normalize(testx)\n",
    "testy = preprocessing.normalize(testy)\n"
   ]
  },
  {
   "cell_type": "code",
   "execution_count": null,
   "metadata": {},
   "outputs": [],
   "source": [
    "(x.shape,y.shape)"
   ]
  },
  {
   "cell_type": "markdown",
   "metadata": {},
   "source": [
    "## Using 10 CV with different models"
   ]
  },
  {
   "cell_type": "code",
   "execution_count": null,
   "metadata": {},
   "outputs": [],
   "source": [
    "from sklearn import model_selection\n",
    "from sklearn.linear_model import LogisticRegression\n",
    "from sklearn.naive_bayes import GaussianNB\n",
    "print({'Model Name' : 'Average Result'})\n",
    "def model_cross_valid(X,Y):\n",
    "    seed = 7\n",
    "    kfold = model_selection.KFold(n_splits=10, random_state=seed)\n",
    "    def bulid_model(model_name):\n",
    "        model = model_name()\n",
    "        return model\n",
    "    scoring = 'neg_mean_squared_error'\n",
    "    for model_name in [LogisticRegression,GaussianNB,KNeighborsClassifier,]:\n",
    "    #for model_name in [LinearRegression,Ridge,Lasso,ElasticNet,KNeighborsRegressor,DecisionTreeRegressor,SVR,RandomForestRegressor,AdaBoostRegressor,GradientBoostingRegressor]:\n",
    "        model = bulid_model(model_name)\n",
    "        results = model_selection.cross_val_score(model, X, Y, cv=kfold, scoring=scoring)\n",
    "        print({model_name:results.mean()}) \n",
    "model_cross_valid(x,y)\n"
   ]
  },
  {
   "cell_type": "markdown",
   "metadata": {},
   "source": [
    "### Without using 10 CV "
   ]
  },
  {
   "cell_type": "markdown",
   "metadata": {},
   "source": [
    "### 1. Applying Logistic Regression Model"
   ]
  },
  {
   "cell_type": "code",
   "execution_count": null,
   "metadata": {},
   "outputs": [],
   "source": [
    "logreg = LogisticRegression()\n",
    "logreg.fit(trainx, trainy)\n",
    "ypred = logreg.predict(testx)\n",
    "acc_log = round(logreg.score(trainx, trainy) * 100, 2)\n",
    "acc_log"
   ]
  },
  {
   "cell_type": "code",
   "execution_count": null,
   "metadata": {},
   "outputs": [],
   "source": [
    "print(classification_report(ypred,testy))"
   ]
  },
  {
   "cell_type": "code",
   "execution_count": null,
   "metadata": {},
   "outputs": [],
   "source": [
    "confusion_matrix(ypred,testy)"
   ]
  },
  {
   "cell_type": "code",
   "execution_count": null,
   "metadata": {},
   "outputs": [],
   "source": [
    "ga_lr = round(accuracy_score(ypred,testy)*100,2)\n",
    "print('Accuracy of the Model:',ga_lr)"
   ]
  },
  {
   "cell_type": "markdown",
   "metadata": {},
   "source": [
    "### 2. Applying Gaussian Naive Bayes Model"
   ]
  },
  {
   "cell_type": "code",
   "execution_count": null,
   "metadata": {},
   "outputs": [],
   "source": [
    "from sklearn.metrics import confusion_matrix,classification_report\n",
    "gaussian = GaussianNB()\n",
    "gaussian.fit(trainx, trainy)\n",
    "ypred = gaussian.predict(testx)\n",
    "acc_gaussian = round(gaussian.score(trainx, trainy) * 100, 5)\n",
    "acc_gaussian"
   ]
  },
  {
   "cell_type": "code",
   "execution_count": null,
   "metadata": {},
   "outputs": [],
   "source": [
    "print(classification_report(ypred,testy))"
   ]
  },
  {
   "cell_type": "code",
   "execution_count": null,
   "metadata": {},
   "outputs": [],
   "source": [
    "confusion_matrix(ypred,testy)"
   ]
  },
  {
   "cell_type": "code",
   "execution_count": null,
   "metadata": {},
   "outputs": [],
   "source": [
    "ga_gnb = round(accuracy_score(ypred,testy)*100,2)\n",
    "print('Accuracy of the Model:',ga_gnb)"
   ]
  },
  {
   "cell_type": "markdown",
   "metadata": {},
   "source": [
    "### 3. Applying KNN Model"
   ]
  },
  {
   "cell_type": "code",
   "execution_count": null,
   "metadata": {},
   "outputs": [],
   "source": [
    "print({'Value of k ' : 'Accuracy'})\n",
    "for k in range(1,4):\n",
    "    knn = KNeighborsClassifier(n_neighbors = k)\n",
    "    knn.fit(trainx, trainy)\n",
    "    y_pred = knn.predict(testx)\n",
    "    acc_knn = round(knn.score(trainx, trainy) * 100, 2)\n",
    "    print({k : acc_knn})"
   ]
  },
  {
   "cell_type": "code",
   "execution_count": null,
   "metadata": {},
   "outputs": [],
   "source": [
    "print(classification_report(ypred,testy))"
   ]
  },
  {
   "cell_type": "code",
   "execution_count": null,
   "metadata": {},
   "outputs": [],
   "source": [
    "confusion_matrix(ypred,testy)"
   ]
  },
  {
   "cell_type": "code",
   "execution_count": null,
   "metadata": {},
   "outputs": [],
   "source": [
    "ga_knn = accuracy_score(ypred,testy)*100\n",
    "print('Accuracy of the Model:',ga_knn)"
   ]
  },
  {
   "cell_type": "markdown",
   "metadata": {},
   "source": [
    "## Classification Models for Loan Prediction"
   ]
  },
  {
   "cell_type": "code",
   "execution_count": null,
   "metadata": {},
   "outputs": [],
   "source": [
    "loan_models = pd.DataFrame({\n",
    "    'Model': ['LR', 'KNN highest k', 'Naive Bayes'],\n",
    "    'G_Score': [acc_log, acc_knn, acc_gaussian],   \n",
    "    'Model_Acc_G':[ga_lr,ga_knn,ga_gnb]\n",
    "})\n",
    "loan_models.sort_values(by='G_Score', ascending=False)"
   ]
  },
  {
   "cell_type": "markdown",
   "metadata": {},
   "source": [
    "### Skewed distribution and not much corelation is the reason for such mixed accuracy in different model."
   ]
  },
  {
   "cell_type": "code",
   "execution_count": null,
   "metadata": {},
   "outputs": [],
   "source": []
  },
  {
   "cell_type": "code",
   "execution_count": null,
   "metadata": {},
   "outputs": [],
   "source": []
  },
  {
   "cell_type": "code",
   "execution_count": null,
   "metadata": {},
   "outputs": [],
   "source": []
  }
 ],
 "metadata": {
  "kernelspec": {
   "display_name": "Python 3",
   "language": "python",
   "name": "python3"
  },
  "language_info": {
   "codemirror_mode": {
    "name": "ipython",
    "version": 3
   },
   "file_extension": ".py",
   "mimetype": "text/x-python",
   "name": "python",
   "nbconvert_exporter": "python",
   "pygments_lexer": "ipython3",
   "version": "3.6.5"
  }
 },
 "nbformat": 4,
 "nbformat_minor": 2
}
