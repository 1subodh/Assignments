{
 "cells": [
  {
   "cell_type": "markdown",
   "metadata": {},
   "source": [
    "## NAME : Subodh\n",
    "## PRN  : 18030142043"
   ]
  },
  {
   "cell_type": "code",
   "execution_count": 1,
   "metadata": {
    "collapsed": true
   },
   "outputs": [],
   "source": [
    "import numpy as np\n",
    "import pandas as pd\n",
    "from numpy import dot\n",
    "from numpy.linalg import norm"
   ]
  },
  {
   "cell_type": "code",
   "execution_count": 2,
   "metadata": {
    "collapsed": true
   },
   "outputs": [],
   "source": [
    "def co_sim(a,b):\n",
    "    sim = (dot(a, b)/(norm(a)*norm(b)))\n",
    "    return sim"
   ]
  },
  {
   "cell_type": "code",
   "execution_count": 3,
   "metadata": {
    "collapsed": false
   },
   "outputs": [
    {
     "name": "stdout",
     "output_type": "stream",
     "text": [
      "400000 word vectors are added.\n"
     ]
    }
   ],
   "source": [
    "embeddings_index = dict()\n",
    "with open(\"/Users/mac/Desktop/glove.6B.300d.txt\", encoding='UTF-8') as f:\n",
    "    for line in f:\n",
    "        values = line.split()\n",
    "        word = values[0]\n",
    "        coefs = np.asarray(values[1:], dtype='float32')\n",
    "        embeddings_index[word] = coefs\n",
    "print('%s word vectors are added.' % len(embeddings_index))"
   ]
  },
  {
   "cell_type": "markdown",
   "metadata": {},
   "source": [
    "Implement Cosine Similarity and find top 10 nearest words to following words:\n",
    "\n",
    "1. wikipedia\n",
    "\n",
    "2. software\n",
    "\n",
    "3. jupiter\n",
    "\n",
    "4. wise"
   ]
  },
  {
   "cell_type": "markdown",
   "metadata": {},
   "source": [
    "### Finding nearest top 10 words using cosine similarity"
   ]
  },
  {
   "cell_type": "code",
   "execution_count": 4,
   "metadata": {
    "collapsed": false
   },
   "outputs": [
    {
     "data": {
      "text/html": [
       "<div>\n",
       "<table border=\"1\" class=\"dataframe\">\n",
       "  <thead>\n",
       "    <tr style=\"text-align: right;\">\n",
       "      <th></th>\n",
       "      <th>jupiter</th>\n",
       "      <th>software</th>\n",
       "      <th>wikipedia</th>\n",
       "      <th>wise</th>\n",
       "    </tr>\n",
       "  </thead>\n",
       "  <tbody>\n",
       "    <tr>\n",
       "      <th>biloela</th>\n",
       "      <td>-0.146673</td>\n",
       "      <td>-0.132335</td>\n",
       "      <td>0.003595</td>\n",
       "      <td>-0.194119</td>\n",
       "    </tr>\n",
       "    <tr>\n",
       "      <th>pordes</th>\n",
       "      <td>0.018339</td>\n",
       "      <td>-0.114080</td>\n",
       "      <td>-0.011066</td>\n",
       "      <td>-0.003387</td>\n",
       "    </tr>\n",
       "    <tr>\n",
       "      <th>narcissism</th>\n",
       "      <td>0.022203</td>\n",
       "      <td>-0.115797</td>\n",
       "      <td>0.042936</td>\n",
       "      <td>-0.035422</td>\n",
       "    </tr>\n",
       "    <tr>\n",
       "      <th>huba</th>\n",
       "      <td>-0.082752</td>\n",
       "      <td>-0.169065</td>\n",
       "      <td>-0.016564</td>\n",
       "      <td>-0.052008</td>\n",
       "    </tr>\n",
       "    <tr>\n",
       "      <th>chiniquy</th>\n",
       "      <td>-0.015884</td>\n",
       "      <td>-0.052434</td>\n",
       "      <td>0.061345</td>\n",
       "      <td>-0.165177</td>\n",
       "    </tr>\n",
       "    <tr>\n",
       "      <th>ovenproof</th>\n",
       "      <td>-0.034999</td>\n",
       "      <td>-0.070400</td>\n",
       "      <td>-0.086868</td>\n",
       "      <td>0.033604</td>\n",
       "    </tr>\n",
       "    <tr>\n",
       "      <th>reoccurs</th>\n",
       "      <td>-0.126265</td>\n",
       "      <td>-0.030795</td>\n",
       "      <td>-0.051006</td>\n",
       "      <td>-0.172851</td>\n",
       "    </tr>\n",
       "    <tr>\n",
       "      <th>2,034</th>\n",
       "      <td>-0.111071</td>\n",
       "      <td>-0.123686</td>\n",
       "      <td>-0.026816</td>\n",
       "      <td>-0.165825</td>\n",
       "    </tr>\n",
       "    <tr>\n",
       "      <th>claudie</th>\n",
       "      <td>0.086986</td>\n",
       "      <td>-0.074277</td>\n",
       "      <td>-0.071852</td>\n",
       "      <td>-0.129221</td>\n",
       "    </tr>\n",
       "    <tr>\n",
       "      <th>ariz.</th>\n",
       "      <td>0.177409</td>\n",
       "      <td>0.081124</td>\n",
       "      <td>-0.009211</td>\n",
       "      <td>0.088156</td>\n",
       "    </tr>\n",
       "  </tbody>\n",
       "</table>\n",
       "</div>"
      ],
      "text/plain": [
       "             jupiter  software  wikipedia      wise\n",
       "biloela    -0.146673 -0.132335   0.003595 -0.194119\n",
       "pordes      0.018339 -0.114080  -0.011066 -0.003387\n",
       "narcissism  0.022203 -0.115797   0.042936 -0.035422\n",
       "huba       -0.082752 -0.169065  -0.016564 -0.052008\n",
       "chiniquy   -0.015884 -0.052434   0.061345 -0.165177\n",
       "ovenproof  -0.034999 -0.070400  -0.086868  0.033604\n",
       "reoccurs   -0.126265 -0.030795  -0.051006 -0.172851\n",
       "2,034      -0.111071 -0.123686  -0.026816 -0.165825\n",
       "claudie     0.086986 -0.074277  -0.071852 -0.129221\n",
       "ariz.       0.177409  0.081124  -0.009211  0.088156"
      ]
     },
     "execution_count": 4,
     "metadata": {},
     "output_type": "execute_result"
    }
   ],
   "source": [
    "dictionry = {near:[co_sim(embeddings_index.get(near),embeddings_index.get(words)) \n",
    "for words in list(embeddings_index.keys())] \n",
    "       for near in ['wikipedia','software','jupiter','wise']}\n",
    "df = pd.DataFrame(dictionry,index=list(embeddings_index.keys()))\n",
    "df.head(10)"
   ]
  },
  {
   "cell_type": "markdown",
   "metadata": {},
   "source": [
    "### All above numbers are representation of words."
   ]
  },
  {
   "cell_type": "code",
   "execution_count": 5,
   "metadata": {
    "collapsed": false
   },
   "outputs": [],
   "source": [
    "c_wp =list(df.sort_values(['wikipedia'],ascending=False)[1:11].index)\n",
    "c_s =list(df.sort_values(['software'],ascending=False)[1:11].index)\n",
    "c_j=list(df.sort_values(['jupiter'],ascending=False)[1:11].index)\n",
    "c_w=list(df.sort_values(['wise'],ascending=False)[1:11].index)"
   ]
  },
  {
   "cell_type": "code",
   "execution_count": 6,
   "metadata": {},
   "outputs": [],
   "source": [
    "sim_dict = { 'Wikipedia' : c_wp, 'Software' : c_s, 'Jupyter' : c_j, 'Wise' : c_w}"
   ]
  },
  {
   "cell_type": "code",
   "execution_count": 8,
   "metadata": {},
   "outputs": [
    {
     "data": {
      "text/html": [
       "<div>\n",
       "<table border=\"1\" class=\"dataframe\">\n",
       "  <thead>\n",
       "    <tr style=\"text-align: right;\">\n",
       "      <th></th>\n",
       "      <th>Jupyter</th>\n",
       "      <th>Software</th>\n",
       "      <th>Wikipedia</th>\n",
       "      <th>Wise</th>\n",
       "    </tr>\n",
       "  </thead>\n",
       "  <tbody>\n",
       "    <tr>\n",
       "      <th>0</th>\n",
       "      <td>moons</td>\n",
       "      <td>computer</td>\n",
       "      <td>encyclopedia</td>\n",
       "      <td>foolish</td>\n",
       "    </tr>\n",
       "    <tr>\n",
       "      <th>1</th>\n",
       "      <td>planets</td>\n",
       "      <td>microsoft</td>\n",
       "      <td>wikimedia</td>\n",
       "      <td>prudent</td>\n",
       "    </tr>\n",
       "    <tr>\n",
       "      <th>2</th>\n",
       "      <td>uranus</td>\n",
       "      <td>hardware</td>\n",
       "      <td>wiki</td>\n",
       "      <td>smart</td>\n",
       "    </tr>\n",
       "    <tr>\n",
       "      <th>3</th>\n",
       "      <td>planet</td>\n",
       "      <td>computers</td>\n",
       "      <td>facebook</td>\n",
       "      <td>shrewd</td>\n",
       "    </tr>\n",
       "    <tr>\n",
       "      <th>4</th>\n",
       "      <td>saturn</td>\n",
       "      <td>internet</td>\n",
       "      <td>blog</td>\n",
       "      <td>advice</td>\n",
       "    </tr>\n",
       "    <tr>\n",
       "      <th>5</th>\n",
       "      <td>neptune</td>\n",
       "      <td>server</td>\n",
       "      <td>conservapedia</td>\n",
       "      <td>good</td>\n",
       "    </tr>\n",
       "    <tr>\n",
       "      <th>6</th>\n",
       "      <td>mars</td>\n",
       "      <td>pc</td>\n",
       "      <td>youtube</td>\n",
       "      <td>savvy</td>\n",
       "    </tr>\n",
       "    <tr>\n",
       "      <th>7</th>\n",
       "      <td>comet</td>\n",
       "      <td>users</td>\n",
       "      <td>britannica</td>\n",
       "      <td>intelligent</td>\n",
       "    </tr>\n",
       "    <tr>\n",
       "      <th>8</th>\n",
       "      <td>io</td>\n",
       "      <td>systems</td>\n",
       "      <td>websites</td>\n",
       "      <td>sensible</td>\n",
       "    </tr>\n",
       "    <tr>\n",
       "      <th>9</th>\n",
       "      <td>orbits</td>\n",
       "      <td>desktop</td>\n",
       "      <td>blogs</td>\n",
       "      <td>thoughtful</td>\n",
       "    </tr>\n",
       "  </tbody>\n",
       "</table>\n",
       "</div>"
      ],
      "text/plain": [
       "   Jupyter   Software      Wikipedia         Wise\n",
       "0    moons   computer   encyclopedia      foolish\n",
       "1  planets  microsoft      wikimedia      prudent\n",
       "2   uranus   hardware           wiki        smart\n",
       "3   planet  computers       facebook       shrewd\n",
       "4   saturn   internet           blog       advice\n",
       "5  neptune     server  conservapedia         good\n",
       "6     mars         pc        youtube        savvy\n",
       "7    comet      users     britannica  intelligent\n",
       "8       io    systems       websites     sensible\n",
       "9   orbits    desktop          blogs   thoughtful"
      ]
     },
     "execution_count": 8,
     "metadata": {},
     "output_type": "execute_result"
    }
   ],
   "source": [
    "sim_df = pd.DataFrame(sim_dict)\n",
    "sim_df"
   ]
  },
  {
   "cell_type": "code",
   "execution_count": null,
   "metadata": {},
   "outputs": [],
   "source": []
  }
 ],
 "metadata": {
  "anaconda-cloud": {},
  "kernelspec": {
   "display_name": "Python [default]",
   "language": "python",
   "name": "python3"
  },
  "language_info": {
   "codemirror_mode": {
    "name": "ipython",
    "version": 3
   },
   "file_extension": ".py",
   "mimetype": "text/x-python",
   "name": "python",
   "nbconvert_exporter": "python",
   "pygments_lexer": "ipython3",
   "version": "3.5.4"
  }
 },
 "nbformat": 4,
 "nbformat_minor": 2
}
