{
 "cells": [
  {
   "cell_type": "code",
   "execution_count": 1,
   "metadata": {},
   "outputs": [
    {
     "name": "stdout",
     "output_type": "stream",
     "text": [
      "\n",
      "\n",
      "SoftMax Function using 1D Array:\n",
      "SoftMax Result for arr1d:\n",
      "[[2.06106005e-09 4.53978686e-05 9.99954600e-01]]\n",
      "\n",
      "\n",
      "SoftMax Function using 2D Array:\n",
      "Given Array, arr2d: [[ 10  20  30]\n",
      " [ 40  50  60]\n",
      " [ 10 101 100]]\n",
      "[[9.35762297e-14 1.00000000e+00 9.35762297e-14]\n",
      " [6.63967720e-36 7.09547416e-23 1.00000000e+00]\n",
      " [3.97544974e-31 4.24835426e-18 1.00000000e+00]]\n",
      "\n",
      "\n",
      "SoftMax Function using 3D Array:\n",
      "SoftMax Result for arr3d:\n",
      "[[8.75651076e-27 9.35762297e-14 1.00000000e+00]\n",
      " [8.75651076e-27 9.35762297e-14 1.00000000e+00]\n",
      " [8.75651076e-27 9.35762297e-14 1.00000000e+00]]\n"
     ]
    }
   ],
   "source": [
    "\"\"\"\n",
    "@Name : Subodh Dharmadhikari\n",
    "@PRN : 18030142043\n",
    "@MSc CA (Data Science)\n",
    "\"\"\"\n",
    "import numpy as nump\n",
    "\n",
    "def softmaxFunc(arr):\n",
    "    arr = arr if type(arr) is nump.ndarray else nump.array(arr)\n",
    "    softmax_val = list()\n",
    "    for x in nump.nditer(arr,flags=['external_loop'],order='F'):\n",
    "        softmax_val.append([j/sum([nump.exp(i) for i in x]) for j in [nump.exp(i) for i in x]])\n",
    "    return nump.array(softmax_val)\n",
    "\n",
    "print(\"\\n\\nSoftMax Function using 1D Array:\")\n",
    "arr1d = nump.array([10,20,30])\n",
    "print(\"SoftMax Result for arr1d:\")\n",
    "print(softmaxFunc(arr1d))\n",
    "\n",
    "print(\"\\n\\nSoftMax Function using 2D Array:\")\n",
    "arr2d = nump.array([[10,20,30],[40,50,60],[10,101,100]])\n",
    "print(\"Given Array, arr2d:\",arr2d)\n",
    "print(softmaxFunc(arr2d))\n",
    "\n",
    "print(\"\\n\\nSoftMax Function using 3D Array:\")\n",
    "arr3d = nump.array([[[10,20,30]],[[40,50,60]],[[70,80,90]]])\n",
    "print(\"SoftMax Result for arr3d:\")\n",
    "\n",
    "print(softmaxFunc(arr3d))\n"
   ]
  },
  {
   "cell_type": "code",
   "execution_count": null,
   "metadata": {},
   "outputs": [],
   "source": []
  }
 ],
 "metadata": {
  "kernelspec": {
   "display_name": "Python [default]",
   "language": "python",
   "name": "python3"
  },
  "language_info": {
   "codemirror_mode": {
    "name": "ipython",
    "version": 3
   },
   "file_extension": ".py",
   "mimetype": "text/x-python",
   "name": "python",
   "nbconvert_exporter": "python",
   "pygments_lexer": "ipython3",
   "version": "3.5.4"
  }
 },
 "nbformat": 4,
 "nbformat_minor": 2
}
