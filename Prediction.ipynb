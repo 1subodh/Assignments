{
 "cells": [
  {
   "cell_type": "markdown",
   "metadata": {},
   "source": [
    "##### Course - Predective Analysis \n",
    "##### MSc.CA.DS.sem2\n",
    "### 'Assignment T2'\n",
    "##### PRN  - 18030142043\n",
    "##### Name - Subodh"
   ]
  },
  {
   "cell_type": "markdown",
   "metadata": {},
   "source": [
    "### Domain - Healthcare"
   ]
  },
  {
   "cell_type": "markdown",
   "metadata": {},
   "source": [
    "#### Substances are chemicals that affect body and brain.Different substances can have different effects. Some effects of drugs include health consequences that are long lasting and permanent. They affect social life and crimes in society.US government provide subsidies to help people for rehab.Some inssurances also supports rehab they need approximate data of treatment time required to monitor private rehab centres.This is sample data for assignment.Working on more history data can give more meaningful insights such disease treatment and cost."
   ]
  },
  {
   "cell_type": "markdown",
   "metadata": {},
   "source": [
    "#### Dataset Source - open data - reffered from \n",
    "#### https://datafiles.samhsa.gov/study-series/treatment-episode-data-set-admissions-teds-nid13518"
   ]
  },
  {
   "cell_type": "markdown",
   "metadata": {},
   "source": [
    "#### About dataset"
   ]
  },
  {
   "cell_type": "markdown",
   "metadata": {},
   "source": [
    "#### The Treatment Episode Data Set is a data of admissions to rehab facilities in USA. States require substance abuse treatment programs to report their publically-funded admissions to higher authorities.Some states collect only their publically-funded admissions while other states others."
   ]
  },
  {
   "cell_type": "markdown",
   "metadata": {},
   "source": [
    "###### Importing required libraries"
   ]
  },
  {
   "cell_type": "code",
   "execution_count": 1,
   "metadata": {},
   "outputs": [],
   "source": [
    "%matplotlib    inline\n",
    "import pandas  as pd\n",
    "import numpy   as np\n",
    "import seaborn as sb\n",
    "import matplotlib.pyplot as plot"
   ]
  },
  {
   "cell_type": "markdown",
   "metadata": {},
   "source": [
    "##### Importing source csv file into dataframe using pandas"
   ]
  },
  {
   "cell_type": "code",
   "execution_count": 2,
   "metadata": {},
   "outputs": [
    {
     "data": {
      "text/plain": [
       "(1699261, 62)"
      ]
     },
     "execution_count": 2,
     "metadata": {},
     "output_type": "execute_result"
    }
   ],
   "source": [
    "csvpath   = '/Users/mac/Desktop/samhda.csv'\n",
    "dataframe = pd.read_csv(csvpath)\n",
    "data      = dataframe.copy()\n",
    "data.shape"
   ]
  },
  {
   "cell_type": "markdown",
   "metadata": {},
   "source": [
    "#### Printing all columns"
   ]
  },
  {
   "cell_type": "code",
   "execution_count": 3,
   "metadata": {},
   "outputs": [
    {
     "name": "stdout",
     "output_type": "stream",
     "text": [
      "{'Column Name - CASEID    ': 'Column Number - 1'}\n",
      "{'Column Name - STFIPS    ': 'Column Number - 2'}\n",
      "{'Column Name - AGE    ': 'Column Number - 3'}\n",
      "{'Column Name - SERVICES    ': 'Column Number - 4'}\n",
      "{'Column Name - SUB1    ': 'Column Number - 5'}\n",
      "{'Column Name - SUB2    ': 'Column Number - 6'}\n",
      "{'Column Name - SUB3    ': 'Column Number - 7'}\n",
      "{'Column Name - DETCRIM    ': 'Column Number - 8'}\n",
      "{'Column Name - NOPRIOR    ': 'Column Number - 9'}\n",
      "{'Column Name - PSOURCE    ': 'Column Number - 10'}\n",
      "{'Column Name - ARRESTS    ': 'Column Number - 11'}\n",
      "{'Column Name - RACE    ': 'Column Number - 12'}\n",
      "{'Column Name - ETHNIC    ': 'Column Number - 13'}\n",
      "{'Column Name - SEX    ': 'Column Number - 14'}\n",
      "{'Column Name - EDUC    ': 'Column Number - 15'}\n",
      "{'Column Name - EMPLOY    ': 'Column Number - 16'}\n",
      "{'Column Name - METHUSE    ': 'Column Number - 17'}\n",
      "{'Column Name - PSYPROB    ': 'Column Number - 18'}\n",
      "{'Column Name - PREG    ': 'Column Number - 19'}\n",
      "{'Column Name - VET    ': 'Column Number - 20'}\n",
      "{'Column Name - LIVARAG    ': 'Column Number - 21'}\n",
      "{'Column Name - PRIMINC    ': 'Column Number - 22'}\n",
      "{'Column Name - HLTHINS    ': 'Column Number - 23'}\n",
      "{'Column Name - PRIMPAY    ': 'Column Number - 24'}\n",
      "{'Column Name - DETNLF    ': 'Column Number - 25'}\n",
      "{'Column Name - MARSTAT    ': 'Column Number - 26'}\n",
      "{'Column Name - DAYWAIT    ': 'Column Number - 27'}\n",
      "{'Column Name - ROUTE1    ': 'Column Number - 28'}\n",
      "{'Column Name - FREQ1    ': 'Column Number - 29'}\n",
      "{'Column Name - FRSTUSE1    ': 'Column Number - 30'}\n",
      "{'Column Name - ROUTE2    ': 'Column Number - 31'}\n",
      "{'Column Name - FREQ2    ': 'Column Number - 32'}\n",
      "{'Column Name - FRSTUSE2    ': 'Column Number - 33'}\n",
      "{'Column Name - ROUTE3    ': 'Column Number - 34'}\n",
      "{'Column Name - FREQ3    ': 'Column Number - 35'}\n",
      "{'Column Name - FRSTUSE3    ': 'Column Number - 36'}\n",
      "{'Column Name - FREQ_ATND_SELF_HELP    ': 'Column Number - 37'}\n",
      "{'Column Name - DSMCRIT    ': 'Column Number - 38'}\n",
      "{'Column Name - ALCFLG    ': 'Column Number - 39'}\n",
      "{'Column Name - COKEFLG    ': 'Column Number - 40'}\n",
      "{'Column Name - MARFLG    ': 'Column Number - 41'}\n",
      "{'Column Name - HERFLG    ': 'Column Number - 42'}\n",
      "{'Column Name - METHFLG    ': 'Column Number - 43'}\n",
      "{'Column Name - OPSYNFLG    ': 'Column Number - 44'}\n",
      "{'Column Name - PCPFLG    ': 'Column Number - 45'}\n",
      "{'Column Name - HALLFLG    ': 'Column Number - 46'}\n",
      "{'Column Name - MTHAMFLG    ': 'Column Number - 47'}\n",
      "{'Column Name - AMPHFLG    ': 'Column Number - 48'}\n",
      "{'Column Name - STIMFLG    ': 'Column Number - 49'}\n",
      "{'Column Name - BENZFLG    ': 'Column Number - 50'}\n",
      "{'Column Name - TRNQFLG    ': 'Column Number - 51'}\n",
      "{'Column Name - BARBFLG    ': 'Column Number - 52'}\n",
      "{'Column Name - SEDHPFLG    ': 'Column Number - 53'}\n",
      "{'Column Name - INHFLG    ': 'Column Number - 54'}\n",
      "{'Column Name - OTCFLG    ': 'Column Number - 55'}\n",
      "{'Column Name - OTHERFLG    ': 'Column Number - 56'}\n",
      "{'Column Name - DIVISION    ': 'Column Number - 57'}\n",
      "{'Column Name - REGION    ': 'Column Number - 58'}\n",
      "{'Column Name - ALCDRUG    ': 'Column Number - 59'}\n",
      "{'Column Name - YEAR    ': 'Column Number - 60'}\n",
      "{'Column Name - CBSA10    ': 'Column Number - 61'}\n",
      "{'Column Name - IDU    ': 'Column Number - 62'}\n"
     ]
    }
   ],
   "source": [
    "for dc,cn in zip(data.columns,range(1,63)) :\n",
    "    print({'Column Name - '+dc+'    '      : 'Column Number - '+str(cn)})"
   ]
  },
  {
   "cell_type": "code",
   "execution_count": 4,
   "metadata": {},
   "outputs": [],
   "source": [
    "df = data.head(17152)"
   ]
  },
  {
   "cell_type": "code",
   "execution_count": 5,
   "metadata": {},
   "outputs": [],
   "source": [
    "d = df[['CASEID','AGE','SEX','DAYWAIT','NOPRIOR','SUB1','SUB2','FREQ1','FREQ2',\n",
    "'ROUTE1','FRSTUSE1','IDU','ALCFLG','COKEFLG','MARFLG','HERFLG','OPSYNFLG','MTHAMFLG',\n",
    "'ALCDRUG','DSMCRIT','PSYPROB','SERVICES']]"
   ]
  },
  {
   "cell_type": "markdown",
   "metadata": {},
   "source": [
    "#### Adding strings again because of assignment requirement"
   ]
  },
  {
   "cell_type": "code",
   "execution_count": 6,
   "metadata": {},
   "outputs": [
    {
     "data": {
      "text/plain": [
       "0    FEMALE\n",
       "1    FEMALE\n",
       "2    FEMALE\n",
       "3    FEMALE\n",
       "4    FEMALE\n",
       "Name: SEX, dtype: object"
      ]
     },
     "execution_count": 6,
     "metadata": {},
     "output_type": "execute_result"
    }
   ],
   "source": [
    "import warnings\n",
    "warnings.filterwarnings('ignore')\n",
    "d['SEX'] = data['SEX'].astype('str')\n",
    "d['SEX'].replace('1','MALE',inplace=True)\n",
    "d['SEX'].replace('2','FEMALE',inplace=True)\n",
    "d['SEX'].head()"
   ]
  },
  {
   "cell_type": "code",
   "execution_count": 7,
   "metadata": {},
   "outputs": [
    {
     "data": {
      "text/plain": [
       "0    NO\n",
       "1    NO\n",
       "2    NO\n",
       "3    NO\n",
       "4    NO\n",
       "Name: PSYPROB, dtype: object"
      ]
     },
     "execution_count": 7,
     "metadata": {},
     "output_type": "execute_result"
    }
   ],
   "source": [
    "d['PSYPROB'] = data['SEX'].astype('str')\n",
    "d['PSYPROB'].replace('1','YES',inplace=True)\n",
    "d['PSYPROB'].replace('2','NO',inplace=True)\n",
    "d['PSYPROB'].head()"
   ]
  },
  {
   "cell_type": "code",
   "execution_count": 8,
   "metadata": {},
   "outputs": [
    {
     "data": {
      "text/plain": [
       "0    0\n",
       "1    1\n",
       "2    0\n",
       "3    0\n",
       "4    0\n",
       "Name: IDU, dtype: object"
      ]
     },
     "execution_count": 8,
     "metadata": {},
     "output_type": "execute_result"
    }
   ],
   "source": [
    "d['IDU'] = data['IDU'].astype('str')\n",
    "d['IDU'].replace('IDU NOT REPORTED','0',inplace=True)\n",
    "d['IDU'].replace('IDU REPORTED','1',inplace=True)\n",
    "d['IDU'].replace('NO SUBSTANCES REPORTED','2',inplace=True)\n",
    "d['IDU'].head()"
   ]
  },
  {
   "cell_type": "markdown",
   "metadata": {},
   "source": [
    "#### Adding null(imputation) again because of assignment requierment - Category -9 mostly deals with non available information."
   ]
  },
  {
   "cell_type": "code",
   "execution_count": 9,
   "metadata": {},
   "outputs": [],
   "source": [
    "d['FREQ1'].replace(-9,np.nan,inplace=True)\n",
    "d['FREQ1'] = df['FREQ1'].astype('int64')"
   ]
  },
  {
   "cell_type": "markdown",
   "metadata": {},
   "source": [
    "#### Removing nulls using mode"
   ]
  },
  {
   "cell_type": "code",
   "execution_count": 10,
   "metadata": {},
   "outputs": [],
   "source": [
    "d['FREQ1'] = d['FREQ1'].fillna(d['FREQ1'].mode())"
   ]
  },
  {
   "cell_type": "code",
   "execution_count": 11,
   "metadata": {},
   "outputs": [],
   "source": [
    "d.to_csv('/Users/mac/Desktop/s/PDA/sample.csv')"
   ]
  },
  {
   "cell_type": "markdown",
   "metadata": {},
   "source": [
    "#### Taking few dimentions in sample data"
   ]
  },
  {
   "cell_type": "code",
   "execution_count": 12,
   "metadata": {},
   "outputs": [
    {
     "data": {
      "text/html": [
       "<div>\n",
       "<table border=\"1\" class=\"dataframe\">\n",
       "  <thead>\n",
       "    <tr style=\"text-align: right;\">\n",
       "      <th></th>\n",
       "      <th>CASEID</th>\n",
       "      <th>AGE</th>\n",
       "      <th>SEX</th>\n",
       "      <th>DAYWAIT</th>\n",
       "      <th>NOPRIOR</th>\n",
       "      <th>SUB1</th>\n",
       "      <th>SUB2</th>\n",
       "      <th>FREQ1</th>\n",
       "      <th>FREQ2</th>\n",
       "      <th>ROUTE1</th>\n",
       "      <th>...</th>\n",
       "      <th>ALCFLG</th>\n",
       "      <th>COKEFLG</th>\n",
       "      <th>MARFLG</th>\n",
       "      <th>HERFLG</th>\n",
       "      <th>OPSYNFLG</th>\n",
       "      <th>MTHAMFLG</th>\n",
       "      <th>ALCDRUG</th>\n",
       "      <th>DSMCRIT</th>\n",
       "      <th>PSYPROB</th>\n",
       "      <th>SERVICES</th>\n",
       "    </tr>\n",
       "  </thead>\n",
       "  <tbody>\n",
       "    <tr>\n",
       "      <th>0</th>\n",
       "      <td>20161483389</td>\n",
       "      <td>6</td>\n",
       "      <td>FEMALE</td>\n",
       "      <td>0</td>\n",
       "      <td>1</td>\n",
       "      <td>5</td>\n",
       "      <td>7</td>\n",
       "      <td>3</td>\n",
       "      <td>3</td>\n",
       "      <td>1</td>\n",
       "      <td>...</td>\n",
       "      <td>1</td>\n",
       "      <td>0</td>\n",
       "      <td>0</td>\n",
       "      <td>1</td>\n",
       "      <td>1</td>\n",
       "      <td>0</td>\n",
       "      <td>3</td>\n",
       "      <td>-9</td>\n",
       "      <td>NO</td>\n",
       "      <td>7</td>\n",
       "    </tr>\n",
       "    <tr>\n",
       "      <th>1</th>\n",
       "      <td>20161390991</td>\n",
       "      <td>6</td>\n",
       "      <td>FEMALE</td>\n",
       "      <td>0</td>\n",
       "      <td>0</td>\n",
       "      <td>11</td>\n",
       "      <td>4</td>\n",
       "      <td>1</td>\n",
       "      <td>2</td>\n",
       "      <td>4</td>\n",
       "      <td>...</td>\n",
       "      <td>0</td>\n",
       "      <td>0</td>\n",
       "      <td>1</td>\n",
       "      <td>0</td>\n",
       "      <td>1</td>\n",
       "      <td>0</td>\n",
       "      <td>2</td>\n",
       "      <td>-9</td>\n",
       "      <td>NO</td>\n",
       "      <td>7</td>\n",
       "    </tr>\n",
       "    <tr>\n",
       "      <th>2</th>\n",
       "      <td>20161368664</td>\n",
       "      <td>5</td>\n",
       "      <td>FEMALE</td>\n",
       "      <td>0</td>\n",
       "      <td>3</td>\n",
       "      <td>5</td>\n",
       "      <td>10</td>\n",
       "      <td>1</td>\n",
       "      <td>1</td>\n",
       "      <td>2</td>\n",
       "      <td>...</td>\n",
       "      <td>1</td>\n",
       "      <td>0</td>\n",
       "      <td>0</td>\n",
       "      <td>1</td>\n",
       "      <td>0</td>\n",
       "      <td>1</td>\n",
       "      <td>3</td>\n",
       "      <td>-9</td>\n",
       "      <td>NO</td>\n",
       "      <td>7</td>\n",
       "    </tr>\n",
       "    <tr>\n",
       "      <th>3</th>\n",
       "      <td>20161332383</td>\n",
       "      <td>6</td>\n",
       "      <td>FEMALE</td>\n",
       "      <td>0</td>\n",
       "      <td>0</td>\n",
       "      <td>5</td>\n",
       "      <td>10</td>\n",
       "      <td>3</td>\n",
       "      <td>2</td>\n",
       "      <td>2</td>\n",
       "      <td>...</td>\n",
       "      <td>0</td>\n",
       "      <td>0</td>\n",
       "      <td>1</td>\n",
       "      <td>1</td>\n",
       "      <td>0</td>\n",
       "      <td>1</td>\n",
       "      <td>2</td>\n",
       "      <td>-9</td>\n",
       "      <td>NO</td>\n",
       "      <td>7</td>\n",
       "    </tr>\n",
       "    <tr>\n",
       "      <th>4</th>\n",
       "      <td>20161405955</td>\n",
       "      <td>6</td>\n",
       "      <td>FEMALE</td>\n",
       "      <td>0</td>\n",
       "      <td>4</td>\n",
       "      <td>2</td>\n",
       "      <td>1</td>\n",
       "      <td>3</td>\n",
       "      <td>-9</td>\n",
       "      <td>1</td>\n",
       "      <td>...</td>\n",
       "      <td>1</td>\n",
       "      <td>0</td>\n",
       "      <td>0</td>\n",
       "      <td>0</td>\n",
       "      <td>0</td>\n",
       "      <td>0</td>\n",
       "      <td>1</td>\n",
       "      <td>-9</td>\n",
       "      <td>NO</td>\n",
       "      <td>7</td>\n",
       "    </tr>\n",
       "  </tbody>\n",
       "</table>\n",
       "<p>5 rows × 22 columns</p>\n",
       "</div>"
      ],
      "text/plain": [
       "        CASEID  AGE     SEX  DAYWAIT  NOPRIOR  SUB1  SUB2  FREQ1  FREQ2  \\\n",
       "0  20161483389    6  FEMALE        0        1     5     7      3      3   \n",
       "1  20161390991    6  FEMALE        0        0    11     4      1      2   \n",
       "2  20161368664    5  FEMALE        0        3     5    10      1      1   \n",
       "3  20161332383    6  FEMALE        0        0     5    10      3      2   \n",
       "4  20161405955    6  FEMALE        0        4     2     1      3     -9   \n",
       "\n",
       "   ROUTE1    ...     ALCFLG  COKEFLG  MARFLG  HERFLG  OPSYNFLG  MTHAMFLG  \\\n",
       "0       1    ...          1        0       0       1         1         0   \n",
       "1       4    ...          0        0       1       0         1         0   \n",
       "2       2    ...          1        0       0       1         0         1   \n",
       "3       2    ...          0        0       1       1         0         1   \n",
       "4       1    ...          1        0       0       0         0         0   \n",
       "\n",
       "   ALCDRUG  DSMCRIT  PSYPROB  SERVICES  \n",
       "0        3       -9       NO         7  \n",
       "1        2       -9       NO         7  \n",
       "2        3       -9       NO         7  \n",
       "3        2       -9       NO         7  \n",
       "4        1       -9       NO         7  \n",
       "\n",
       "[5 rows x 22 columns]"
      ]
     },
     "execution_count": 12,
     "metadata": {},
     "output_type": "execute_result"
    }
   ],
   "source": [
    "csvpath   = '/Users/mac/Desktop/s/PDA/sample.csv'\n",
    "dataframe = pd.read_csv(csvpath,index_col=0)\n",
    "df        = dataframe.copy()\n",
    "df.head(5)"
   ]
  },
  {
   "cell_type": "markdown",
   "metadata": {},
   "source": [
    "##### Checking dimentions of dataframe and column names"
   ]
  },
  {
   "cell_type": "code",
   "execution_count": 13,
   "metadata": {},
   "outputs": [
    {
     "data": {
      "text/plain": [
       "{'Columns': Index(['CASEID', 'AGE', 'SEX', 'DAYWAIT', 'NOPRIOR', 'SUB1', 'SUB2', 'FREQ1',\n",
       "        'FREQ2', 'ROUTE1', 'FRSTUSE1', 'IDU', 'ALCFLG', 'COKEFLG', 'MARFLG',\n",
       "        'HERFLG', 'OPSYNFLG', 'MTHAMFLG', 'ALCDRUG', 'DSMCRIT', 'PSYPROB',\n",
       "        'SERVICES'],\n",
       "       dtype='object'), 'Dataframe Shape': (17152, 22)}"
      ]
     },
     "execution_count": 13,
     "metadata": {},
     "output_type": "execute_result"
    }
   ],
   "source": [
    "{ 'Dataframe Shape' : df.shape,'Columns' : df.columns }"
   ]
  },
  {
   "cell_type": "markdown",
   "metadata": {},
   "source": [
    "##### Removing spaces if exists before or after of column name string. Similarly other extra things can be removed like special character or something appearing which needs to be removed for easy usage of column name of dataframe."
   ]
  },
  {
   "cell_type": "code",
   "execution_count": 14,
   "metadata": {},
   "outputs": [
    {
     "data": {
      "text/plain": [
       "Index(['CASEID', 'AGE', 'SEX', 'DAYWAIT', 'NOPRIOR', 'SUB1', 'SUB2', 'FREQ1',\n",
       "       'FREQ2', 'ROUTE1', 'FRSTUSE1', 'IDU', 'ALCFLG', 'COKEFLG', 'MARFLG',\n",
       "       'HERFLG', 'OPSYNFLG', 'MTHAMFLG', 'ALCDRUG', 'DSMCRIT', 'PSYPROB',\n",
       "       'SERVICES'],\n",
       "      dtype='object')"
      ]
     },
     "execution_count": 14,
     "metadata": {},
     "output_type": "execute_result"
    }
   ],
   "source": [
    "df.columns.str.replace(' ','')"
   ]
  },
  {
   "cell_type": "markdown",
   "metadata": {},
   "source": [
    "##### Checking if any columns are duplicated with anyone other column"
   ]
  },
  {
   "cell_type": "code",
   "execution_count": 15,
   "metadata": {},
   "outputs": [
    {
     "data": {
      "text/plain": [
       "False"
      ]
     },
     "execution_count": 15,
     "metadata": {},
     "output_type": "execute_result"
    }
   ],
   "source": [
    "df.columns.value_counts().any() > 1 "
   ]
  },
  {
   "cell_type": "markdown",
   "metadata": {},
   "source": [
    "#####  All columns and their respective numbers"
   ]
  },
  {
   "cell_type": "code",
   "execution_count": 16,
   "metadata": {},
   "outputs": [
    {
     "name": "stdout",
     "output_type": "stream",
     "text": [
      "{'Column Name - CASEID    ': 'Column Number - 1'}\n",
      "{'Column Name - AGE    ': 'Column Number - 2'}\n",
      "{'Column Name - SEX    ': 'Column Number - 3'}\n",
      "{'Column Name - DAYWAIT    ': 'Column Number - 4'}\n",
      "{'Column Name - NOPRIOR    ': 'Column Number - 5'}\n",
      "{'Column Name - SUB1    ': 'Column Number - 6'}\n",
      "{'Column Name - SUB2    ': 'Column Number - 7'}\n",
      "{'Column Name - FREQ1    ': 'Column Number - 8'}\n",
      "{'Column Name - FREQ2    ': 'Column Number - 9'}\n",
      "{'Column Name - ROUTE1    ': 'Column Number - 10'}\n",
      "{'Column Name - FRSTUSE1    ': 'Column Number - 11'}\n",
      "{'Column Name - IDU    ': 'Column Number - 12'}\n",
      "{'Column Name - ALCFLG    ': 'Column Number - 13'}\n",
      "{'Column Name - COKEFLG    ': 'Column Number - 14'}\n",
      "{'Column Name - MARFLG    ': 'Column Number - 15'}\n",
      "{'Column Name - HERFLG    ': 'Column Number - 16'}\n",
      "{'Column Name - OPSYNFLG    ': 'Column Number - 17'}\n",
      "{'Column Name - MTHAMFLG    ': 'Column Number - 18'}\n",
      "{'Column Name - ALCDRUG    ': 'Column Number - 19'}\n",
      "{'Column Name - DSMCRIT    ': 'Column Number - 20'}\n",
      "{'Column Name - PSYPROB    ': 'Column Number - 21'}\n",
      "{'Column Name - SERVICES    ': 'Column Number - 22'}\n"
     ]
    }
   ],
   "source": [
    "for dc,cn in zip(df.columns,range(1,23)) :\n",
    "    print({'Column Name - '+dc+'    '    : 'Column Number - '+str(cn)})"
   ]
  },
  {
   "cell_type": "code",
   "execution_count": 17,
   "metadata": {},
   "outputs": [
    {
     "data": {
      "text/plain": [
       "CASEID       int64\n",
       "AGE          int64\n",
       "SEX         object\n",
       "DAYWAIT      int64\n",
       "NOPRIOR      int64\n",
       "SUB1         int64\n",
       "SUB2         int64\n",
       "FREQ1        int64\n",
       "FREQ2        int64\n",
       "ROUTE1       int64\n",
       "FRSTUSE1     int64\n",
       "IDU          int64\n",
       "ALCFLG       int64\n",
       "COKEFLG      int64\n",
       "MARFLG       int64\n",
       "HERFLG       int64\n",
       "OPSYNFLG     int64\n",
       "MTHAMFLG     int64\n",
       "ALCDRUG      int64\n",
       "DSMCRIT      int64\n",
       "PSYPROB     object\n",
       "SERVICES     int64\n",
       "dtype: object"
      ]
     },
     "execution_count": 17,
     "metadata": {},
     "output_type": "execute_result"
    }
   ],
   "source": [
    "df.dtypes"
   ]
  },
  {
   "cell_type": "markdown",
   "metadata": {},
   "source": [
    "#####  revel or flatten can be used to represent values in the form of array.They both return list.Printing unique values across all the columns."
   ]
  },
  {
   "cell_type": "code",
   "execution_count": 18,
   "metadata": {},
   "outputs": [
    {
     "data": {
      "text/plain": [
       "[{'CASEID': array([20161483389, 20161390991, 20161368664, ..., 20160917053,\n",
       "         20161193122, 20161221516])},\n",
       " {'AGE': array([ 6,  5,  3,  8,  7,  4,  9, 12, 10, 11,  2,  1])},\n",
       " {'SEX': array(['FEMALE', 'MALE'], dtype=object)},\n",
       " {'DAYWAIT': array([ 0, -9,  1,  3,  2,  4])},\n",
       " {'NOPRIOR': array([ 1,  0,  3,  4,  5,  2, -9])},\n",
       " {'SUB1': array([ 5, 11,  2,  4, 10,  7,  3, 19, 13, 16, -9, 12,  9, 17, 18,  6,  1])},\n",
       " {'SUB2': array([ 7,  4, 10,  1,  2,  5, 19, -9,  9, 13,  3, 11, 16, 17,  6, 12, 18])},\n",
       " {'FREQ1': array([ 3,  1,  2, -9])},\n",
       " {'FREQ2': array([ 3,  2,  1, -9])},\n",
       " {'ROUTE1': array([ 1,  4,  2,  3, -9,  5])},\n",
       " {'FRSTUSE1': array([ 6,  5,  2,  3,  4,  1,  7, -9])},\n",
       " {'IDU': array([ 0,  1, -9])},\n",
       " {'ALCFLG': array([1, 0])},\n",
       " {'COKEFLG': array([0, 1])},\n",
       " {'MARFLG': array([0, 1])},\n",
       " {'HERFLG': array([1, 0])},\n",
       " {'OPSYNFLG': array([1, 0])},\n",
       " {'MTHAMFLG': array([0, 1])},\n",
       " {'ALCDRUG': array([3, 2, 1, 0])},\n",
       " {'PSYPROB': array(['NO', 'YES'], dtype=object)},\n",
       " {'SERVICES': array([7, 6, 5, 2, 1, 4])}]"
      ]
     },
     "execution_count": 18,
     "metadata": {},
     "output_type": "execute_result"
    }
   ],
   "source": [
    "unqval = [{'CASEID' : pd.unique(df[['CASEID']].values.flatten())},\n",
    "        {'AGE' : pd.unique(df[['AGE']].values.flatten())},\n",
    "        {'SEX' : pd.unique(df[['SEX']].values.flatten())},\n",
    "        {'DAYWAIT' : pd.unique(df[['DAYWAIT']].values.flatten())},\n",
    "        {'NOPRIOR' : pd.unique(df[['NOPRIOR']].values.flatten())},\n",
    "        {'SUB1' : pd.unique(df[['SUB1']].values.flatten())},\n",
    "        {'SUB2' : pd.unique(df[['SUB2']].values.flatten())},\n",
    "        {'FREQ1' : pd.unique(df[['FREQ1']].values.flatten())},\n",
    "        {'FREQ2' : pd.unique(df[['FREQ2']].values.flatten())},\n",
    "        {'ROUTE1' : pd.unique(df[['ROUTE1']].values.ravel())},\n",
    "        {'FRSTUSE1' : pd.unique(df[['FRSTUSE1']].values.ravel())},\n",
    "        {'IDU' : pd.unique(df[['IDU']].values.ravel())},\n",
    "        {'ALCFLG' : pd.unique(df[['ALCFLG']].values.ravel())},\n",
    "        {'COKEFLG' : pd.unique(df[['COKEFLG']].values.ravel())},\n",
    "        {'MARFLG' : pd.unique(df[['MARFLG']].values.ravel())},\n",
    "        {'HERFLG' : pd.unique(df[['HERFLG']].values.ravel())},\n",
    "        {'OPSYNFLG' : pd.unique(df[['OPSYNFLG']].values.ravel())},\n",
    "        {'MTHAMFLG' : pd.unique(df[['MTHAMFLG']].values.ravel())},\n",
    "        {'ALCDRUG' : pd.unique(df[['ALCDRUG']].values.ravel())},\n",
    "        {'PSYPROB' : pd.unique(df[['PSYPROB']].values.ravel())},\n",
    "        {'SERVICES' : pd.unique(df[['SERVICES']].values.ravel())}             \n",
    "        ]\n",
    "unqval"
   ]
  },
  {
   "cell_type": "markdown",
   "metadata": {},
   "source": [
    "##### Getting information of datframe from higher level - it contains 3 objects (string values)"
   ]
  },
  {
   "cell_type": "code",
   "execution_count": 19,
   "metadata": {},
   "outputs": [
    {
     "name": "stdout",
     "output_type": "stream",
     "text": [
      "<class 'pandas.core.frame.DataFrame'>\n",
      "Int64Index: 17152 entries, 0 to 17151\n",
      "Data columns (total 22 columns):\n",
      "CASEID      17152 non-null int64\n",
      "AGE         17152 non-null int64\n",
      "SEX         17152 non-null object\n",
      "DAYWAIT     17152 non-null int64\n",
      "NOPRIOR     17152 non-null int64\n",
      "SUB1        17152 non-null int64\n",
      "SUB2        17152 non-null int64\n",
      "FREQ1       17152 non-null int64\n",
      "FREQ2       17152 non-null int64\n",
      "ROUTE1      17152 non-null int64\n",
      "FRSTUSE1    17152 non-null int64\n",
      "IDU         17152 non-null int64\n",
      "ALCFLG      17152 non-null int64\n",
      "COKEFLG     17152 non-null int64\n",
      "MARFLG      17152 non-null int64\n",
      "HERFLG      17152 non-null int64\n",
      "OPSYNFLG    17152 non-null int64\n",
      "MTHAMFLG    17152 non-null int64\n",
      "ALCDRUG     17152 non-null int64\n",
      "DSMCRIT     17152 non-null int64\n",
      "PSYPROB     17152 non-null object\n",
      "SERVICES    17152 non-null int64\n",
      "dtypes: int64(20), object(2)\n",
      "memory usage: 3.0+ MB\n"
     ]
    }
   ],
   "source": [
    "df.info()"
   ]
  },
  {
   "cell_type": "code",
   "execution_count": 20,
   "metadata": {},
   "outputs": [
    {
     "data": {
      "text/html": [
       "<div>\n",
       "<table border=\"1\" class=\"dataframe\">\n",
       "  <thead>\n",
       "    <tr style=\"text-align: right;\">\n",
       "      <th></th>\n",
       "      <th>CASEID</th>\n",
       "      <th>AGE</th>\n",
       "      <th>DAYWAIT</th>\n",
       "      <th>NOPRIOR</th>\n",
       "      <th>SUB1</th>\n",
       "      <th>SUB2</th>\n",
       "      <th>FREQ1</th>\n",
       "      <th>FREQ2</th>\n",
       "      <th>ROUTE1</th>\n",
       "      <th>FRSTUSE1</th>\n",
       "      <th>IDU</th>\n",
       "    </tr>\n",
       "  </thead>\n",
       "  <tbody>\n",
       "    <tr>\n",
       "      <th>count</th>\n",
       "      <td>1.715200e+04</td>\n",
       "      <td>17152.000000</td>\n",
       "      <td>17152.000000</td>\n",
       "      <td>17152.000000</td>\n",
       "      <td>17152.000000</td>\n",
       "      <td>17152.000000</td>\n",
       "      <td>17152.000000</td>\n",
       "      <td>17152.000000</td>\n",
       "      <td>17152.000000</td>\n",
       "      <td>17152.000000</td>\n",
       "      <td>17152.000000</td>\n",
       "    </tr>\n",
       "    <tr>\n",
       "      <th>mean</th>\n",
       "      <td>2.016126e+10</td>\n",
       "      <td>6.444088</td>\n",
       "      <td>0.011777</td>\n",
       "      <td>1.294018</td>\n",
       "      <td>4.597365</td>\n",
       "      <td>1.217759</td>\n",
       "      <td>1.782183</td>\n",
       "      <td>-3.897038</td>\n",
       "      <td>1.850222</td>\n",
       "      <td>3.422691</td>\n",
       "      <td>0.142432</td>\n",
       "    </tr>\n",
       "    <tr>\n",
       "      <th>std</th>\n",
       "      <td>2.265911e+05</td>\n",
       "      <td>2.503037</td>\n",
       "      <td>0.479880</td>\n",
       "      <td>1.650648</td>\n",
       "      <td>3.388644</td>\n",
       "      <td>7.058811</td>\n",
       "      <td>1.883435</td>\n",
       "      <td>5.470655</td>\n",
       "      <td>1.350702</td>\n",
       "      <td>2.069453</td>\n",
       "      <td>0.732602</td>\n",
       "    </tr>\n",
       "    <tr>\n",
       "      <th>min</th>\n",
       "      <td>2.016091e+10</td>\n",
       "      <td>1.000000</td>\n",
       "      <td>-9.000000</td>\n",
       "      <td>-9.000000</td>\n",
       "      <td>-9.000000</td>\n",
       "      <td>-9.000000</td>\n",
       "      <td>-9.000000</td>\n",
       "      <td>-9.000000</td>\n",
       "      <td>-9.000000</td>\n",
       "      <td>-9.000000</td>\n",
       "      <td>-9.000000</td>\n",
       "    </tr>\n",
       "    <tr>\n",
       "      <th>25%</th>\n",
       "      <td>2.016107e+10</td>\n",
       "      <td>5.000000</td>\n",
       "      <td>0.000000</td>\n",
       "      <td>0.000000</td>\n",
       "      <td>2.000000</td>\n",
       "      <td>1.000000</td>\n",
       "      <td>1.000000</td>\n",
       "      <td>-9.000000</td>\n",
       "      <td>1.000000</td>\n",
       "      <td>2.000000</td>\n",
       "      <td>0.000000</td>\n",
       "    </tr>\n",
       "    <tr>\n",
       "      <th>50%</th>\n",
       "      <td>2.016123e+10</td>\n",
       "      <td>6.000000</td>\n",
       "      <td>0.000000</td>\n",
       "      <td>1.000000</td>\n",
       "      <td>4.000000</td>\n",
       "      <td>1.000000</td>\n",
       "      <td>2.000000</td>\n",
       "      <td>-9.000000</td>\n",
       "      <td>2.000000</td>\n",
       "      <td>3.000000</td>\n",
       "      <td>0.000000</td>\n",
       "    </tr>\n",
       "    <tr>\n",
       "      <th>75%</th>\n",
       "      <td>2.016145e+10</td>\n",
       "      <td>8.000000</td>\n",
       "      <td>0.000000</td>\n",
       "      <td>2.000000</td>\n",
       "      <td>7.000000</td>\n",
       "      <td>4.000000</td>\n",
       "      <td>3.000000</td>\n",
       "      <td>2.000000</td>\n",
       "      <td>2.000000</td>\n",
       "      <td>5.000000</td>\n",
       "      <td>0.000000</td>\n",
       "    </tr>\n",
       "    <tr>\n",
       "      <th>max</th>\n",
       "      <td>2.016170e+10</td>\n",
       "      <td>12.000000</td>\n",
       "      <td>4.000000</td>\n",
       "      <td>5.000000</td>\n",
       "      <td>19.000000</td>\n",
       "      <td>19.000000</td>\n",
       "      <td>3.000000</td>\n",
       "      <td>3.000000</td>\n",
       "      <td>5.000000</td>\n",
       "      <td>7.000000</td>\n",
       "      <td>1.000000</td>\n",
       "    </tr>\n",
       "  </tbody>\n",
       "</table>\n",
       "</div>"
      ],
      "text/plain": [
       "             CASEID           AGE       DAYWAIT       NOPRIOR          SUB1  \\\n",
       "count  1.715200e+04  17152.000000  17152.000000  17152.000000  17152.000000   \n",
       "mean   2.016126e+10      6.444088      0.011777      1.294018      4.597365   \n",
       "std    2.265911e+05      2.503037      0.479880      1.650648      3.388644   \n",
       "min    2.016091e+10      1.000000     -9.000000     -9.000000     -9.000000   \n",
       "25%    2.016107e+10      5.000000      0.000000      0.000000      2.000000   \n",
       "50%    2.016123e+10      6.000000      0.000000      1.000000      4.000000   \n",
       "75%    2.016145e+10      8.000000      0.000000      2.000000      7.000000   \n",
       "max    2.016170e+10     12.000000      4.000000      5.000000     19.000000   \n",
       "\n",
       "               SUB2         FREQ1         FREQ2        ROUTE1      FRSTUSE1  \\\n",
       "count  17152.000000  17152.000000  17152.000000  17152.000000  17152.000000   \n",
       "mean       1.217759      1.782183     -3.897038      1.850222      3.422691   \n",
       "std        7.058811      1.883435      5.470655      1.350702      2.069453   \n",
       "min       -9.000000     -9.000000     -9.000000     -9.000000     -9.000000   \n",
       "25%        1.000000      1.000000     -9.000000      1.000000      2.000000   \n",
       "50%        1.000000      2.000000     -9.000000      2.000000      3.000000   \n",
       "75%        4.000000      3.000000      2.000000      2.000000      5.000000   \n",
       "max       19.000000      3.000000      3.000000      5.000000      7.000000   \n",
       "\n",
       "                IDU  \n",
       "count  17152.000000  \n",
       "mean       0.142432  \n",
       "std        0.732602  \n",
       "min       -9.000000  \n",
       "25%        0.000000  \n",
       "50%        0.000000  \n",
       "75%        0.000000  \n",
       "max        1.000000  "
      ]
     },
     "execution_count": 20,
     "metadata": {},
     "output_type": "execute_result"
    }
   ],
   "source": [
    "df.iloc[:,0:12].describe()"
   ]
  },
  {
   "cell_type": "code",
   "execution_count": 21,
   "metadata": {},
   "outputs": [
    {
     "data": {
      "text/html": [
       "<div>\n",
       "<table border=\"1\" class=\"dataframe\">\n",
       "  <thead>\n",
       "    <tr style=\"text-align: right;\">\n",
       "      <th></th>\n",
       "      <th>ALCFLG</th>\n",
       "      <th>COKEFLG</th>\n",
       "      <th>MARFLG</th>\n",
       "      <th>HERFLG</th>\n",
       "      <th>OPSYNFLG</th>\n",
       "      <th>MTHAMFLG</th>\n",
       "      <th>ALCDRUG</th>\n",
       "      <th>DSMCRIT</th>\n",
       "      <th>SERVICES</th>\n",
       "    </tr>\n",
       "  </thead>\n",
       "  <tbody>\n",
       "    <tr>\n",
       "      <th>count</th>\n",
       "      <td>17152.000000</td>\n",
       "      <td>17152.000000</td>\n",
       "      <td>17152.000000</td>\n",
       "      <td>17152.000000</td>\n",
       "      <td>17152.000000</td>\n",
       "      <td>17152.000000</td>\n",
       "      <td>17152.000000</td>\n",
       "      <td>17152.0</td>\n",
       "      <td>17152.000000</td>\n",
       "    </tr>\n",
       "    <tr>\n",
       "      <th>mean</th>\n",
       "      <td>0.520347</td>\n",
       "      <td>0.102670</td>\n",
       "      <td>0.394590</td>\n",
       "      <td>0.131996</td>\n",
       "      <td>0.145756</td>\n",
       "      <td>0.215893</td>\n",
       "      <td>2.079349</td>\n",
       "      <td>-9.0</td>\n",
       "      <td>5.552414</td>\n",
       "    </tr>\n",
       "    <tr>\n",
       "      <th>std</th>\n",
       "      <td>0.499600</td>\n",
       "      <td>0.303537</td>\n",
       "      <td>0.488777</td>\n",
       "      <td>0.338497</td>\n",
       "      <td>0.352871</td>\n",
       "      <td>0.411453</td>\n",
       "      <td>0.729730</td>\n",
       "      <td>0.0</td>\n",
       "      <td>1.698052</td>\n",
       "    </tr>\n",
       "    <tr>\n",
       "      <th>min</th>\n",
       "      <td>0.000000</td>\n",
       "      <td>0.000000</td>\n",
       "      <td>0.000000</td>\n",
       "      <td>0.000000</td>\n",
       "      <td>0.000000</td>\n",
       "      <td>0.000000</td>\n",
       "      <td>0.000000</td>\n",
       "      <td>-9.0</td>\n",
       "      <td>1.000000</td>\n",
       "    </tr>\n",
       "    <tr>\n",
       "      <th>25%</th>\n",
       "      <td>0.000000</td>\n",
       "      <td>0.000000</td>\n",
       "      <td>0.000000</td>\n",
       "      <td>0.000000</td>\n",
       "      <td>0.000000</td>\n",
       "      <td>0.000000</td>\n",
       "      <td>2.000000</td>\n",
       "      <td>-9.0</td>\n",
       "      <td>5.000000</td>\n",
       "    </tr>\n",
       "    <tr>\n",
       "      <th>50%</th>\n",
       "      <td>1.000000</td>\n",
       "      <td>0.000000</td>\n",
       "      <td>0.000000</td>\n",
       "      <td>0.000000</td>\n",
       "      <td>0.000000</td>\n",
       "      <td>0.000000</td>\n",
       "      <td>2.000000</td>\n",
       "      <td>-9.0</td>\n",
       "      <td>6.000000</td>\n",
       "    </tr>\n",
       "    <tr>\n",
       "      <th>75%</th>\n",
       "      <td>1.000000</td>\n",
       "      <td>0.000000</td>\n",
       "      <td>1.000000</td>\n",
       "      <td>0.000000</td>\n",
       "      <td>0.000000</td>\n",
       "      <td>0.000000</td>\n",
       "      <td>3.000000</td>\n",
       "      <td>-9.0</td>\n",
       "      <td>7.000000</td>\n",
       "    </tr>\n",
       "    <tr>\n",
       "      <th>max</th>\n",
       "      <td>1.000000</td>\n",
       "      <td>1.000000</td>\n",
       "      <td>1.000000</td>\n",
       "      <td>1.000000</td>\n",
       "      <td>1.000000</td>\n",
       "      <td>1.000000</td>\n",
       "      <td>3.000000</td>\n",
       "      <td>-9.0</td>\n",
       "      <td>7.000000</td>\n",
       "    </tr>\n",
       "  </tbody>\n",
       "</table>\n",
       "</div>"
      ],
      "text/plain": [
       "             ALCFLG       COKEFLG        MARFLG        HERFLG      OPSYNFLG  \\\n",
       "count  17152.000000  17152.000000  17152.000000  17152.000000  17152.000000   \n",
       "mean       0.520347      0.102670      0.394590      0.131996      0.145756   \n",
       "std        0.499600      0.303537      0.488777      0.338497      0.352871   \n",
       "min        0.000000      0.000000      0.000000      0.000000      0.000000   \n",
       "25%        0.000000      0.000000      0.000000      0.000000      0.000000   \n",
       "50%        1.000000      0.000000      0.000000      0.000000      0.000000   \n",
       "75%        1.000000      0.000000      1.000000      0.000000      0.000000   \n",
       "max        1.000000      1.000000      1.000000      1.000000      1.000000   \n",
       "\n",
       "           MTHAMFLG       ALCDRUG  DSMCRIT      SERVICES  \n",
       "count  17152.000000  17152.000000  17152.0  17152.000000  \n",
       "mean       0.215893      2.079349     -9.0      5.552414  \n",
       "std        0.411453      0.729730      0.0      1.698052  \n",
       "min        0.000000      0.000000     -9.0      1.000000  \n",
       "25%        0.000000      2.000000     -9.0      5.000000  \n",
       "50%        0.000000      2.000000     -9.0      6.000000  \n",
       "75%        0.000000      3.000000     -9.0      7.000000  \n",
       "max        1.000000      3.000000     -9.0      7.000000  "
      ]
     },
     "execution_count": 21,
     "metadata": {},
     "output_type": "execute_result"
    }
   ],
   "source": [
    "df.iloc[:,12:22].describe()"
   ]
  },
  {
   "cell_type": "code",
   "execution_count": 22,
   "metadata": {},
   "outputs": [
    {
     "data": {
      "text/plain": [
       "Index(['CASEID', 'AGE', 'SEX', 'DAYWAIT', 'NOPRIOR', 'SUB1', 'SUB2', 'FREQ1',\n",
       "       'FREQ2', 'ROUTE1', 'FRSTUSE1', 'IDU', 'ALCFLG', 'COKEFLG', 'MARFLG',\n",
       "       'HERFLG', 'OPSYNFLG', 'MTHAMFLG', 'ALCDRUG', 'DSMCRIT', 'PSYPROB',\n",
       "       'SERVICES'],\n",
       "      dtype='object')"
      ]
     },
     "execution_count": 22,
     "metadata": {},
     "output_type": "execute_result"
    }
   ],
   "source": [
    "df.columns"
   ]
  },
  {
   "cell_type": "markdown",
   "metadata": {},
   "source": [
    "##### Removing static unrelated columns "
   ]
  },
  {
   "cell_type": "code",
   "execution_count": 23,
   "metadata": {},
   "outputs": [
    {
     "data": {
      "text/plain": [
       "((17152, 22), None, None, (17152, 20))"
      ]
     },
     "execution_count": 23,
     "metadata": {},
     "output_type": "execute_result"
    }
   ],
   "source": [
    "(df.shape,\n",
    "df.drop(['CASEID'], inplace=True,axis=1),\n",
    "df.drop(['DAYWAIT'],inplace=True,axis=1),\n",
    "df.shape)"
   ]
  },
  {
   "cell_type": "code",
   "execution_count": 24,
   "metadata": {},
   "outputs": [
    {
     "data": {
      "text/html": [
       "<div>\n",
       "<table border=\"1\" class=\"dataframe\">\n",
       "  <thead>\n",
       "    <tr style=\"text-align: right;\">\n",
       "      <th></th>\n",
       "      <th>AGE</th>\n",
       "      <th>SEX</th>\n",
       "      <th>NOPRIOR</th>\n",
       "      <th>SUB1</th>\n",
       "      <th>SUB2</th>\n",
       "      <th>FREQ1</th>\n",
       "      <th>FREQ2</th>\n",
       "      <th>ROUTE1</th>\n",
       "      <th>FRSTUSE1</th>\n",
       "      <th>IDU</th>\n",
       "      <th>ALCFLG</th>\n",
       "      <th>COKEFLG</th>\n",
       "      <th>MARFLG</th>\n",
       "      <th>HERFLG</th>\n",
       "      <th>OPSYNFLG</th>\n",
       "      <th>MTHAMFLG</th>\n",
       "      <th>ALCDRUG</th>\n",
       "      <th>DSMCRIT</th>\n",
       "      <th>PSYPROB</th>\n",
       "      <th>SERVICES</th>\n",
       "    </tr>\n",
       "  </thead>\n",
       "  <tbody>\n",
       "    <tr>\n",
       "      <th>0</th>\n",
       "      <td>6</td>\n",
       "      <td>FEMALE</td>\n",
       "      <td>1</td>\n",
       "      <td>5</td>\n",
       "      <td>7</td>\n",
       "      <td>3</td>\n",
       "      <td>3</td>\n",
       "      <td>1</td>\n",
       "      <td>6</td>\n",
       "      <td>0</td>\n",
       "      <td>1</td>\n",
       "      <td>0</td>\n",
       "      <td>0</td>\n",
       "      <td>1</td>\n",
       "      <td>1</td>\n",
       "      <td>0</td>\n",
       "      <td>3</td>\n",
       "      <td>-9</td>\n",
       "      <td>NO</td>\n",
       "      <td>7</td>\n",
       "    </tr>\n",
       "    <tr>\n",
       "      <th>1</th>\n",
       "      <td>6</td>\n",
       "      <td>FEMALE</td>\n",
       "      <td>0</td>\n",
       "      <td>11</td>\n",
       "      <td>4</td>\n",
       "      <td>1</td>\n",
       "      <td>2</td>\n",
       "      <td>4</td>\n",
       "      <td>6</td>\n",
       "      <td>1</td>\n",
       "      <td>0</td>\n",
       "      <td>0</td>\n",
       "      <td>1</td>\n",
       "      <td>0</td>\n",
       "      <td>1</td>\n",
       "      <td>0</td>\n",
       "      <td>2</td>\n",
       "      <td>-9</td>\n",
       "      <td>NO</td>\n",
       "      <td>7</td>\n",
       "    </tr>\n",
       "    <tr>\n",
       "      <th>2</th>\n",
       "      <td>5</td>\n",
       "      <td>FEMALE</td>\n",
       "      <td>3</td>\n",
       "      <td>5</td>\n",
       "      <td>10</td>\n",
       "      <td>1</td>\n",
       "      <td>1</td>\n",
       "      <td>2</td>\n",
       "      <td>5</td>\n",
       "      <td>0</td>\n",
       "      <td>1</td>\n",
       "      <td>0</td>\n",
       "      <td>0</td>\n",
       "      <td>1</td>\n",
       "      <td>0</td>\n",
       "      <td>1</td>\n",
       "      <td>3</td>\n",
       "      <td>-9</td>\n",
       "      <td>NO</td>\n",
       "      <td>7</td>\n",
       "    </tr>\n",
       "  </tbody>\n",
       "</table>\n",
       "</div>"
      ],
      "text/plain": [
       "   AGE     SEX  NOPRIOR  SUB1  SUB2  FREQ1  FREQ2  ROUTE1  FRSTUSE1  IDU  \\\n",
       "0    6  FEMALE        1     5     7      3      3       1         6    0   \n",
       "1    6  FEMALE        0    11     4      1      2       4         6    1   \n",
       "2    5  FEMALE        3     5    10      1      1       2         5    0   \n",
       "\n",
       "   ALCFLG  COKEFLG  MARFLG  HERFLG  OPSYNFLG  MTHAMFLG  ALCDRUG  DSMCRIT  \\\n",
       "0       1        0       0       1         1         0        3       -9   \n",
       "1       0        0       1       0         1         0        2       -9   \n",
       "2       1        0       0       1         0         1        3       -9   \n",
       "\n",
       "  PSYPROB  SERVICES  \n",
       "0      NO         7  \n",
       "1      NO         7  \n",
       "2      NO         7  "
      ]
     },
     "execution_count": 24,
     "metadata": {},
     "output_type": "execute_result"
    }
   ],
   "source": [
    "df.head(3)"
   ]
  },
  {
   "cell_type": "markdown",
   "metadata": {},
   "source": [
    "#####  More men get admitted in Rehab than women"
   ]
  },
  {
   "cell_type": "code",
   "execution_count": 25,
   "metadata": {},
   "outputs": [
    {
     "data": {
      "image/png": "[encoded data removed]",
      "text/plain": [
       "<matplotlib.figure.Figure at 0x1a23c5b9b0>"
      ]
     },
     "metadata": {},
     "output_type": "display_data"
    }
   ],
   "source": [
    "import matplotlib.pyplot as plt\n",
    "df['SEX'].value_counts().plot(kind = \"pie\",title = 'Admitted Patients')\n",
    "plt.show()"
   ]
  },
  {
   "cell_type": "markdown",
   "metadata": {},
   "source": [
    "##### Most of people have taken some substances while admission."
   ]
  },
  {
   "cell_type": "code",
   "execution_count": 26,
   "metadata": {},
   "outputs": [
    {
     "data": {
      "image/png": "[encoded data removed]",
      "text/plain": [
       "<matplotlib.figure.Figure at 0x1a23a4c518>"
      ]
     },
     "metadata": {},
     "output_type": "display_data"
    }
   ],
   "source": [
    "df['IDU'].value_counts().plot( kind = \"pie\",\n",
    "                               title = 'Substance Reported at the time of addmission',\n",
    "                               labels = ['Yes','No','Not available']\n",
    "                                )\n",
    "plot.show()"
   ]
  },
  {
   "cell_type": "markdown",
   "metadata": {},
   "source": [
    "##### Patients develop other psychological because of substance abuse.  "
   ]
  },
  {
   "cell_type": "code",
   "execution_count": 27,
   "metadata": {},
   "outputs": [
    {
     "data": {
      "image/png": "[encoded data removed]",
      "text/plain": [
       "<matplotlib.figure.Figure at 0x1a23a174a8>"
      ]
     },
     "metadata": {},
     "output_type": "display_data"
    }
   ],
   "source": [
    "df['PSYPROB'].value_counts().plot(kind = \"bar\",\n",
    "                             title = 'Patients with other psychological problems'\n",
    "                            ,align='center')\n",
    "plt.show()"
   ]
  },
  {
   "cell_type": "markdown",
   "metadata": {},
   "source": [
    "##### Persons with recent frequency of consumption tend to spend more time in rehab."
   ]
  },
  {
   "cell_type": "code",
   "execution_count": 28,
   "metadata": {},
   "outputs": [
    {
     "data": {
      "image/png": "[encoded data removed]",
      "text/plain": [
       "<matplotlib.figure.Figure at 0x1a1e334748>"
      ]
     },
     "metadata": {},
     "output_type": "display_data"
    }
   ],
   "source": [
    "df['SERVICES'].groupby(df['IDU']).plot(kind=\"hist\")\n",
    "plt.show()"
   ]
  },
  {
   "cell_type": "markdown",
   "metadata": {},
   "source": [
    "##### Replacing strings with numbers.Use of any numbers would be fine."
   ]
  },
  {
   "cell_type": "code",
   "execution_count": 29,
   "metadata": {},
   "outputs": [
    {
     "data": {
      "text/plain": [
       "0    2\n",
       "1    2\n",
       "2    2\n",
       "3    2\n",
       "4    2\n",
       "Name: SEX, dtype: int64"
      ]
     },
     "execution_count": 29,
     "metadata": {},
     "output_type": "execute_result"
    }
   ],
   "source": [
    "df['SEX'].replace('MALE','1',inplace=True)\n",
    "df['SEX'].replace('FEMALE','2',inplace=True)\n",
    "df['SEX'] = df['SEX'].astype('int64')\n",
    "df['SEX'].head()"
   ]
  },
  {
   "cell_type": "code",
   "execution_count": 30,
   "metadata": {},
   "outputs": [
    {
     "data": {
      "text/plain": [
       "0    2\n",
       "1    2\n",
       "2    2\n",
       "3    2\n",
       "4    2\n",
       "Name: PSYPROB, dtype: int64"
      ]
     },
     "execution_count": 30,
     "metadata": {},
     "output_type": "execute_result"
    }
   ],
   "source": [
    "df['PSYPROB'].replace('YES','1',inplace=True)\n",
    "df['PSYPROB'].replace('NO','2',inplace=True)\n",
    "df['PSYPROB'] = df['PSYPROB'].astype('int64')\n",
    "df['PSYPROB'].head()"
   ]
  },
  {
   "cell_type": "code",
   "execution_count": 31,
   "metadata": {},
   "outputs": [
    {
     "data": {
      "text/plain": [
       "0    2\n",
       "1    2\n",
       "2    2\n",
       "3    2\n",
       "4    2\n",
       "Name: IDU, dtype: int64"
      ]
     },
     "execution_count": 31,
     "metadata": {},
     "output_type": "execute_result"
    }
   ],
   "source": [
    "df['IDU'].replace('IDU NOT REPORTED','0',inplace=True)\n",
    "df['IDU'].replace('IDU REPORTED','1',inplace=True)\n",
    "df['IDU'].replace('NO SUBSTANCES REPORTED','2',inplace=True)\n",
    "df['IDU'] = df['SEX'].astype('int64')\n",
    "df['IDU'].head()"
   ]
  },
  {
   "cell_type": "code",
   "execution_count": 32,
   "metadata": {},
   "outputs": [],
   "source": [
    "##### Mapping features"
   ]
  },
  {
   "cell_type": "code",
   "execution_count": 33,
   "metadata": {},
   "outputs": [
    {
     "name": "stdout",
     "output_type": "stream",
     "text": [
      "['AGE', 'SEX', 'NOPRIOR', 'SUB1', 'SUB2', 'FREQ1', 'FREQ2', 'ROUTE1', 'FRSTUSE1', 'IDU', 'ALCFLG', 'COKEFLG', 'MARFLG', 'HERFLG', 'OPSYNFLG', 'MTHAMFLG', 'ALCDRUG', 'DSMCRIT', 'PSYPROB']\n",
      "Index([], dtype='object')\n",
      "only numeric data features are shown in heatmap\n"
     ]
    }
   ],
   "source": [
    "features = list((df.columns[0:19]))\n",
    "print(features)\n",
    "target = df.columns[20:21]\n",
    "print(target)\n",
    "print('only numeric data features are shown in heatmap')"
   ]
  },
  {
   "cell_type": "code",
   "execution_count": 34,
   "metadata": {},
   "outputs": [],
   "source": [
    "##### Plotting heatmap to understand co-relation "
   ]
  },
  {
   "cell_type": "code",
   "execution_count": 35,
   "metadata": {},
   "outputs": [
    {
     "data": {
      "image/png": "[encoded data removed]",
      "text/plain": [
       "<matplotlib.figure.Figure at 0x1a1f19cba8>"
      ]
     },
     "metadata": {},
     "output_type": "display_data"
    }
   ],
   "source": [
    "f,ax = plot.subplots(figsize=(12,8))\n",
    "cr = df.corr()\n",
    "sb.heatmap(cr, mask=np.zeros_like(cr,dtype=np.bool), \n",
    "cmap=sb.diverging_palette(220,10, as_cmap=True),\n",
    "square=True, ax=ax)\n",
    "plot.show()"
   ]
  },
  {
   "cell_type": "code",
   "execution_count": 36,
   "metadata": {},
   "outputs": [],
   "source": [
    "##### Dropping column sex because its directly co-related with other column."
   ]
  },
  {
   "cell_type": "code",
   "execution_count": 37,
   "metadata": {},
   "outputs": [
    {
     "data": {
      "text/plain": [
       "((17152, 20), None, None, (17152, 18))"
      ]
     },
     "execution_count": 37,
     "metadata": {},
     "output_type": "execute_result"
    }
   ],
   "source": [
    "(df.shape,\n",
    "df.drop(['SEX'],inplace=True,axis=1),\n",
    "df.drop(['IDU'],inplace=True,axis=1),\n",
    "df.shape)"
   ]
  },
  {
   "cell_type": "markdown",
   "metadata": {},
   "source": [
    "#### Checking if dependant variables are removed"
   ]
  },
  {
   "cell_type": "code",
   "execution_count": 38,
   "metadata": {},
   "outputs": [
    {
     "data": {
      "image/png": "[encoded data removed]",
      "text/plain": [
       "<matplotlib.figure.Figure at 0x1a1f19c2e8>"
      ]
     },
     "metadata": {},
     "output_type": "display_data"
    }
   ],
   "source": [
    "f,ax = plot.subplots(figsize=(12,8))\n",
    "cr = df.corr()\n",
    "sb.heatmap(cr, mask=np.zeros_like(cr,dtype=np.bool), \n",
    "cmap=sb.diverging_palette(220,10, as_cmap=True),\n",
    "square=True, ax=ax)\n",
    "plot.show()"
   ]
  },
  {
   "cell_type": "code",
   "execution_count": null,
   "metadata": {},
   "outputs": [],
   "source": []
  },
  {
   "cell_type": "markdown",
   "metadata": {},
   "source": [
    "##### Split train , test predict with ilocation"
   ]
  },
  {
   "cell_type": "code",
   "execution_count": 39,
   "metadata": {},
   "outputs": [],
   "source": [
    "xdf = df.iloc[:,0:17]"
   ]
  },
  {
   "cell_type": "code",
   "execution_count": 40,
   "metadata": {},
   "outputs": [
    {
     "data": {
      "text/html": [
       "<div>\n",
       "<table border=\"1\" class=\"dataframe\">\n",
       "  <thead>\n",
       "    <tr style=\"text-align: right;\">\n",
       "      <th></th>\n",
       "      <th>AGE</th>\n",
       "      <th>NOPRIOR</th>\n",
       "      <th>SUB1</th>\n",
       "      <th>SUB2</th>\n",
       "      <th>FREQ1</th>\n",
       "      <th>FREQ2</th>\n",
       "      <th>ROUTE1</th>\n",
       "      <th>FRSTUSE1</th>\n",
       "      <th>ALCFLG</th>\n",
       "      <th>COKEFLG</th>\n",
       "      <th>MARFLG</th>\n",
       "      <th>HERFLG</th>\n",
       "      <th>OPSYNFLG</th>\n",
       "      <th>MTHAMFLG</th>\n",
       "      <th>ALCDRUG</th>\n",
       "      <th>DSMCRIT</th>\n",
       "      <th>PSYPROB</th>\n",
       "    </tr>\n",
       "  </thead>\n",
       "  <tbody>\n",
       "    <tr>\n",
       "      <th>0</th>\n",
       "      <td>6</td>\n",
       "      <td>1</td>\n",
       "      <td>5</td>\n",
       "      <td>7</td>\n",
       "      <td>3</td>\n",
       "      <td>3</td>\n",
       "      <td>1</td>\n",
       "      <td>6</td>\n",
       "      <td>1</td>\n",
       "      <td>0</td>\n",
       "      <td>0</td>\n",
       "      <td>1</td>\n",
       "      <td>1</td>\n",
       "      <td>0</td>\n",
       "      <td>3</td>\n",
       "      <td>-9</td>\n",
       "      <td>2</td>\n",
       "    </tr>\n",
       "    <tr>\n",
       "      <th>1</th>\n",
       "      <td>6</td>\n",
       "      <td>0</td>\n",
       "      <td>11</td>\n",
       "      <td>4</td>\n",
       "      <td>1</td>\n",
       "      <td>2</td>\n",
       "      <td>4</td>\n",
       "      <td>6</td>\n",
       "      <td>0</td>\n",
       "      <td>0</td>\n",
       "      <td>1</td>\n",
       "      <td>0</td>\n",
       "      <td>1</td>\n",
       "      <td>0</td>\n",
       "      <td>2</td>\n",
       "      <td>-9</td>\n",
       "      <td>2</td>\n",
       "    </tr>\n",
       "    <tr>\n",
       "      <th>2</th>\n",
       "      <td>5</td>\n",
       "      <td>3</td>\n",
       "      <td>5</td>\n",
       "      <td>10</td>\n",
       "      <td>1</td>\n",
       "      <td>1</td>\n",
       "      <td>2</td>\n",
       "      <td>5</td>\n",
       "      <td>1</td>\n",
       "      <td>0</td>\n",
       "      <td>0</td>\n",
       "      <td>1</td>\n",
       "      <td>0</td>\n",
       "      <td>1</td>\n",
       "      <td>3</td>\n",
       "      <td>-9</td>\n",
       "      <td>2</td>\n",
       "    </tr>\n",
       "    <tr>\n",
       "      <th>3</th>\n",
       "      <td>6</td>\n",
       "      <td>0</td>\n",
       "      <td>5</td>\n",
       "      <td>10</td>\n",
       "      <td>3</td>\n",
       "      <td>2</td>\n",
       "      <td>2</td>\n",
       "      <td>6</td>\n",
       "      <td>0</td>\n",
       "      <td>0</td>\n",
       "      <td>1</td>\n",
       "      <td>1</td>\n",
       "      <td>0</td>\n",
       "      <td>1</td>\n",
       "      <td>2</td>\n",
       "      <td>-9</td>\n",
       "      <td>2</td>\n",
       "    </tr>\n",
       "    <tr>\n",
       "      <th>4</th>\n",
       "      <td>6</td>\n",
       "      <td>4</td>\n",
       "      <td>2</td>\n",
       "      <td>1</td>\n",
       "      <td>3</td>\n",
       "      <td>-9</td>\n",
       "      <td>1</td>\n",
       "      <td>2</td>\n",
       "      <td>1</td>\n",
       "      <td>0</td>\n",
       "      <td>0</td>\n",
       "      <td>0</td>\n",
       "      <td>0</td>\n",
       "      <td>0</td>\n",
       "      <td>1</td>\n",
       "      <td>-9</td>\n",
       "      <td>2</td>\n",
       "    </tr>\n",
       "  </tbody>\n",
       "</table>\n",
       "</div>"
      ],
      "text/plain": [
       "   AGE  NOPRIOR  SUB1  SUB2  FREQ1  FREQ2  ROUTE1  FRSTUSE1  ALCFLG  COKEFLG  \\\n",
       "0    6        1     5     7      3      3       1         6       1        0   \n",
       "1    6        0    11     4      1      2       4         6       0        0   \n",
       "2    5        3     5    10      1      1       2         5       1        0   \n",
       "3    6        0     5    10      3      2       2         6       0        0   \n",
       "4    6        4     2     1      3     -9       1         2       1        0   \n",
       "\n",
       "   MARFLG  HERFLG  OPSYNFLG  MTHAMFLG  ALCDRUG  DSMCRIT  PSYPROB  \n",
       "0       0       1         1         0        3       -9        2  \n",
       "1       1       0         1         0        2       -9        2  \n",
       "2       0       1         0         1        3       -9        2  \n",
       "3       1       1         0         1        2       -9        2  \n",
       "4       0       0         0         0        1       -9        2  "
      ]
     },
     "execution_count": 40,
     "metadata": {},
     "output_type": "execute_result"
    }
   ],
   "source": [
    "xdf.head()"
   ]
  },
  {
   "cell_type": "markdown",
   "metadata": {},
   "source": [
    "##### The target column "
   ]
  },
  {
   "cell_type": "code",
   "execution_count": 41,
   "metadata": {},
   "outputs": [
    {
     "data": {
      "text/html": [
       "<div>\n",
       "<table border=\"1\" class=\"dataframe\">\n",
       "  <thead>\n",
       "    <tr style=\"text-align: right;\">\n",
       "      <th></th>\n",
       "      <th>SERVICES</th>\n",
       "    </tr>\n",
       "  </thead>\n",
       "  <tbody>\n",
       "    <tr>\n",
       "      <th>17149</th>\n",
       "      <td>7</td>\n",
       "    </tr>\n",
       "    <tr>\n",
       "      <th>17150</th>\n",
       "      <td>7</td>\n",
       "    </tr>\n",
       "    <tr>\n",
       "      <th>17151</th>\n",
       "      <td>7</td>\n",
       "    </tr>\n",
       "  </tbody>\n",
       "</table>\n",
       "</div>"
      ],
      "text/plain": [
       "       SERVICES\n",
       "17149         7\n",
       "17150         7\n",
       "17151         7"
      ]
     },
     "execution_count": 41,
     "metadata": {},
     "output_type": "execute_result"
    }
   ],
   "source": [
    "ydf = df.iloc[:,17:18]\n",
    "ydf.tail(3)"
   ]
  },
  {
   "cell_type": "markdown",
   "metadata": {},
   "source": [
    "##### Understanding distribution of target column - its exactly opposite of bell curve."
   ]
  },
  {
   "cell_type": "code",
   "execution_count": 42,
   "metadata": {},
   "outputs": [
    {
     "data": {
      "text/plain": [
       "{'SERVICES': array([7, 6, 5, 2, 1, 4])}"
      ]
     },
     "execution_count": 42,
     "metadata": {},
     "output_type": "execute_result"
    },
    {
     "data": {
      "image/png": "[encoded data removed]",
      "text/plain": [
       "<matplotlib.figure.Figure at 0x1a1fe039b0>"
      ]
     },
     "metadata": {},
     "output_type": "display_data"
    }
   ],
   "source": [
    "ydf.hist(bins=7), \n",
    "{'SERVICES' : pd.unique(ydf[['SERVICES']].values.ravel())}             "
   ]
  },
  {
   "cell_type": "markdown",
   "metadata": {},
   "source": [
    "##### Training and testing splitting across xdf and ydf - further final splitting"
   ]
  },
  {
   "cell_type": "code",
   "execution_count": 43,
   "metadata": {},
   "outputs": [],
   "source": [
    "from sklearn.model_selection import train_test_split\n",
    "xtrain,xtest,ytrain,ytest = train_test_split(xdf,ydf,test_size=0.30,random_state=0)"
   ]
  },
  {
   "cell_type": "markdown",
   "metadata": {},
   "source": [
    "##### Trying with logistic regression first for the case"
   ]
  },
  {
   "cell_type": "code",
   "execution_count": 44,
   "metadata": {},
   "outputs": [
    {
     "data": {
      "text/plain": [
       "47.73"
      ]
     },
     "execution_count": 44,
     "metadata": {},
     "output_type": "execute_result"
    }
   ],
   "source": [
    "from sklearn.linear_model import LogisticRegression\n",
    "logreg = LogisticRegression()\n",
    "logreg.fit(xtrain, ytrain)\n",
    "ypred = logreg.predict(xtest)\n",
    "acc_log = round(logreg.score(xtrain, ytrain) * 100, 2)\n",
    "acc_log"
   ]
  },
  {
   "cell_type": "markdown",
   "metadata": {},
   "source": [
    "##### Using Algorithms"
   ]
  },
  {
   "cell_type": "code",
   "execution_count": 45,
   "metadata": {},
   "outputs": [
    {
     "data": {
      "text/plain": [
       "37.28969"
      ]
     },
     "execution_count": 45,
     "metadata": {},
     "output_type": "execute_result"
    }
   ],
   "source": [
    "from sklearn.naive_bayes import GaussianNB\n",
    "from sklearn.metrics import confusion_matrix,classification_report\n",
    "gaussian = GaussianNB()\n",
    "gaussian.fit(xtrain, ytrain)\n",
    "ypred = gaussian.predict(xtest)\n",
    "acc_gaussian = round(gaussian.score(xtrain, ytrain) * 100, 5)\n",
    "acc_gaussian"
   ]
  },
  {
   "cell_type": "code",
   "execution_count": 46,
   "metadata": {},
   "outputs": [
    {
     "name": "stdout",
     "output_type": "stream",
     "text": [
      "[[  57  237   28   69   94  213]\n",
      " [   3  192   39   77  123  219]\n",
      " [   1   13  100  118   99  183]\n",
      " [   0   58   51  252  133  184]\n",
      " [   0   10   44   84  228  211]\n",
      " [   0   63   93  302  463 1105]]\n"
     ]
    }
   ],
   "source": [
    "print(confusion_matrix(ypred,ytest))"
   ]
  },
  {
   "cell_type": "code",
   "execution_count": 47,
   "metadata": {},
   "outputs": [
    {
     "name": "stdout",
     "output_type": "stream",
     "text": [
      "              precision    recall  f1-score   support\n",
      "\n",
      "           1       0.93      0.08      0.15       698\n",
      "           2       0.34      0.29      0.31       653\n",
      "           4       0.28      0.19      0.23       514\n",
      "           5       0.28      0.37      0.32       678\n",
      "           6       0.20      0.40      0.27       577\n",
      "           7       0.52      0.55      0.53      2026\n",
      "\n",
      "   micro avg       0.38      0.38      0.38      5146\n",
      "   macro avg       0.43      0.31      0.30      5146\n",
      "weighted avg       0.46      0.38      0.37      5146\n",
      "\n"
     ]
    }
   ],
   "source": [
    "print(classification_report(ypred,ytest))"
   ]
  },
  {
   "cell_type": "code",
   "execution_count": 48,
   "metadata": {},
   "outputs": [
    {
     "name": "stdout",
     "output_type": "stream",
     "text": [
      "[[   0    1    0    0    0    0]\n",
      " [  50  406   54   96  100   90]\n",
      " [   0    0    0    0    0    0]\n",
      " [   0   17   20  122   49   52]\n",
      " [   0    5   23   52   94   53]\n",
      " [  11  144  258  632  897 1920]]\n"
     ]
    }
   ],
   "source": [
    "from sklearn.svm import SVC\n",
    "svc = SVC(kernel ='linear', C = 3)\n",
    "svc.fit(xtrain, ytrain)\n",
    "ypred = svc.predict(xtest)\n",
    "acc_svc = round(svc.score(xtrain, ytrain) * 100 , 5)\n",
    "print(confusion_matrix(ypred,ytest))"
   ]
  },
  {
   "cell_type": "code",
   "execution_count": 49,
   "metadata": {},
   "outputs": [
    {
     "name": "stdout",
     "output_type": "stream",
     "text": [
      "              precision    recall  f1-score   support\n",
      "\n",
      "           1       0.00      0.00      0.00         1\n",
      "           2       0.71      0.51      0.59       796\n",
      "           4       0.00      0.00      0.00         0\n",
      "           5       0.14      0.47      0.21       260\n",
      "           6       0.08      0.41      0.14       227\n",
      "           7       0.91      0.50      0.64      3862\n",
      "\n",
      "   micro avg       0.49      0.49      0.49      5146\n",
      "   macro avg       0.31      0.32      0.26      5146\n",
      "weighted avg       0.80      0.49      0.59      5146\n",
      "\n"
     ]
    }
   ],
   "source": [
    "print(classification_report(ypred,ytest))"
   ]
  },
  {
   "cell_type": "code",
   "execution_count": 50,
   "metadata": {},
   "outputs": [
    {
     "name": "stdout",
     "output_type": "stream",
     "text": [
      "48.4591\n"
     ]
    }
   ],
   "source": [
    "print(acc_svc)"
   ]
  },
  {
   "cell_type": "code",
   "execution_count": 51,
   "metadata": {},
   "outputs": [
    {
     "name": "stdout",
     "output_type": "stream",
     "text": [
      "[87.31, 66.41, 65.38, 63.18, 61.19, 59.8, 58.51, 58.17, 57.45]\n"
     ]
    }
   ],
   "source": [
    "from sklearn.neighbors import KNeighborsClassifier\n",
    "k_range = range(1,10)\n",
    "k_scores = []\n",
    "for k in k_range:\n",
    "    knn = KNeighborsClassifier(n_neighbors=k)\n",
    "    knn.fit(xtrain, ytrain)\n",
    "    ypred = knn.predict(xtest)\n",
    "    scores = round(knn.score(xtrain, ytrain) * 100, 2)\n",
    "    k_scores.append(scores.mean())\n",
    "print(k_scores)"
   ]
  },
  {
   "cell_type": "code",
   "execution_count": 52,
   "metadata": {},
   "outputs": [
    {
     "name": "stdout",
     "output_type": "stream",
     "text": [
      "[[   9    7    4    3    3    4]\n",
      " [  41  392   38   81   85  110]\n",
      " [   1   10   59   50   40   73]\n",
      " [   1   37   47  291  147  189]\n",
      " [   3   23   68  123  304  275]\n",
      " [   6  104  139  354  561 1464]]\n"
     ]
    }
   ],
   "source": [
    "print(confusion_matrix(ypred,ytest))"
   ]
  },
  {
   "cell_type": "code",
   "execution_count": 53,
   "metadata": {},
   "outputs": [
    {
     "name": "stdout",
     "output_type": "stream",
     "text": [
      "              precision    recall  f1-score   support\n",
      "\n",
      "           1       0.15      0.30      0.20        30\n",
      "           2       0.68      0.52      0.59       747\n",
      "           4       0.17      0.25      0.20       233\n",
      "           5       0.32      0.41      0.36       712\n",
      "           6       0.27      0.38      0.31       796\n",
      "           7       0.69      0.56      0.62      2628\n",
      "\n",
      "   micro avg       0.49      0.49      0.49      5146\n",
      "   macro avg       0.38      0.40      0.38      5146\n",
      "weighted avg       0.55      0.49      0.51      5146\n",
      "\n"
     ]
    }
   ],
   "source": [
    "print(classification_report(ypred,ytest))"
   ]
  },
  {
   "cell_type": "code",
   "execution_count": null,
   "metadata": {},
   "outputs": [],
   "source": []
  },
  {
   "cell_type": "code",
   "execution_count": null,
   "metadata": {},
   "outputs": [],
   "source": []
  }
 ],
 "metadata": {
  "kernelspec": {
   "display_name": "Python [default]",
   "language": "python",
   "name": "python3"
  },
  "language_info": {
   "codemirror_mode": {
    "name": "ipython",
    "version": 3
   },
   "file_extension": ".py",
   "mimetype": "text/x-python",
   "name": "python",
   "nbconvert_exporter": "python",
   "pygments_lexer": "ipython3",
   "version": "3.5.4"
  }
 },
 "nbformat": 4,
 "nbformat_minor": 2
}
