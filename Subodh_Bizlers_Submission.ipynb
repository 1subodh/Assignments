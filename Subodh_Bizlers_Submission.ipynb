{
  "nbformat": 4,
  "nbformat_minor": 0,
  "metadata": {
    "kernelspec": {
      "name": "python3",
      "display_name": "Python 3"
    },
    "language_info": {
      "codemirror_mode": {
        "name": "ipython",
        "version": 3
      },
      "file_extension": ".py",
      "mimetype": "text/x-python",
      "name": "python",
      "nbconvert_exporter": "python",
      "pygments_lexer": "ipython3",
      "version": "3.6.7"
    },
    "colab": {
      "name": "C.ipynb",
      "version": "0.3.2",
      "provenance": [],
      "collapsed_sections": []
    },
    "accelerator": "GPU"
  },
  "cells": [
    {
      "cell_type": "code",
      "metadata": {
        "id": "piWg9PStFmuG",
        "colab_type": "code",
        "colab": {
          "base_uri": "https://localhost:8080/",
          "height": 34
        },
        "outputId": "9b31c7e3-8cd2-4c1c-a70d-3780b8665756"
      },
      "source": [
        "\n",
        "from keras import backend as K\n",
        "from keras.models import Sequential\n",
        "from keras.layers.normalization import BatchNormalization\n",
        "from keras.layers.convolutional import Convolution2D, MaxPooling2D, ZeroPadding2D\n",
        "from keras.layers.core import Activation, Flatten, Dropout, Dense\n",
        "from keras.constraints import maxnorm\n",
        "from keras.preprocessing.image import ImageDataGenerator\n",
        "from keras.optimizers import SGD\n",
        "from sklearn.preprocessing import LabelBinarizer\n",
        "from sklearn.model_selection import train_test_split \n",
        "from sklearn.metrics import classification_report\n",
        "from imutils import paths\n",
        "import matplotlib.pyplot as plt\n",
        "import numpy as np\n",
        "import argparse, random, pickle, cv2, os, matplotlib\n",
        "import seaborn as sb\n",
        "from sklearn.metrics import confusion_matrix\n",
        "import warnings\n",
        "warnings.filterwarnings('ignore')"
      ],
      "execution_count": 1,
      "outputs": [
        {
          "output_type": "stream",
          "text": [
            "Using TensorFlow backend.\n"
          ],
          "name": "stderr"
        }
      ]
    },
    {
      "cell_type": "code",
      "metadata": {
        "id": "TOByMiNEC7Af",
        "colab_type": "code",
        "colab": {}
      },
      "source": [
        "gen = ImageDataGenerator()\n",
        "trainX   = []\n",
        "trainY  = []\n",
        "testX = []\n",
        "testY = []"
      ],
      "execution_count": 0,
      "outputs": []
    },
    {
      "cell_type": "code",
      "metadata": {
        "id": "Bb4c5GXWC7Ai",
        "colab_type": "code",
        "colab": {}
      },
      "source": [
        "imagePaths = sorted(list(paths.list_images('blz/Train')))\n",
        "random.seed(42)\n",
        "random.shuffle(imagePaths)\n",
        "for imagePath in imagePaths:\n",
        "\timage = cv2.imread(imagePath)\n",
        "\timage = cv2.resize(image, (64, 64))\n",
        "\ttrainX.append(image)    \n",
        "\tgen.apply_transform(image,{'theta':40,'shear':40,'zx':0.4,'zy':0.4})\n",
        "\tgen.apply_transform(image,{'flip_horizontal':True})\n",
        "\tgen.apply_transform(image,{'zoom_rage':0.4})\n",
        "\ttrainX.append(image)\n",
        "\tlabel = imagePath.split(os.path.sep)[-2]\n",
        "\ttrainY.append(label)\n",
        "\ttrainY.append(label)"
      ],
      "execution_count": 0,
      "outputs": []
    },
    {
      "cell_type": "code",
      "metadata": {
        "id": "ui6bC0EaC7Al",
        "colab_type": "code",
        "outputId": "5aa97be1-3888-4a93-e454-1648a9a34135",
        "colab": {
          "base_uri": "https://localhost:8080/",
          "height": 34
        }
      },
      "source": [
        "len(trainX),len(trainY)"
      ],
      "execution_count": 4,
      "outputs": [
        {
          "output_type": "execute_result",
          "data": {
            "text/plain": [
              "(8572, 8572)"
            ]
          },
          "metadata": {
            "tags": []
          },
          "execution_count": 4
        }
      ]
    },
    {
      "cell_type": "code",
      "metadata": {
        "id": "8hNPXEGFC7An",
        "colab_type": "code",
        "colab": {}
      },
      "source": [
        "imagePaths = sorted(list(paths.list_images('blz/Test')))\n",
        "random.seed(42)\n",
        "random.shuffle(imagePaths)\n",
        "for imagePath in imagePaths:\n",
        "\timage = cv2.imread(imagePath)\n",
        "\timage = cv2.resize(image, (64, 64))\n",
        "\ttestX.append(image)    \n",
        "\tgen.apply_transform(image,{'theta':40,'shear':40,'zx':0.4,'zy':0.4})\n",
        "\tgen.apply_transform(image,{'flip_horizontal':True})\n",
        "\tgen.apply_transform(image,{'zoom_rage':0.4})\n",
        "\ttestX.append(image)\n",
        "\tlabel = imagePath.split(os.path.sep)[-2]\n",
        "\ttestY.append(label)\n",
        "\ttestY.append(label)"
      ],
      "execution_count": 0,
      "outputs": []
    },
    {
      "cell_type": "code",
      "metadata": {
        "id": "5raq0oftC7Ao",
        "colab_type": "code",
        "outputId": "9f2d06f8-06cc-4996-ba21-29aad409eed4",
        "colab": {
          "base_uri": "https://localhost:8080/",
          "height": 34
        }
      },
      "source": [
        "len(testX),len(testY)"
      ],
      "execution_count": 6,
      "outputs": [
        {
          "output_type": "execute_result",
          "data": {
            "text/plain": [
              "(88, 88)"
            ]
          },
          "metadata": {
            "tags": []
          },
          "execution_count": 6
        }
      ]
    },
    {
      "cell_type": "code",
      "metadata": {
        "id": "LMONpwYQC7Au",
        "colab_type": "code",
        "colab": {}
      },
      "source": [
        "d = {'t1' : 'A', 't2' : 'B' , 't3' : 'D', 't4' : 'C'}\n",
        "testY = [d.get(n, n) for n in testY]"
      ],
      "execution_count": 0,
      "outputs": []
    },
    {
      "cell_type": "code",
      "metadata": {
        "id": "Lpe-HKSyC7Ax",
        "colab_type": "code",
        "outputId": "f39f93af-db30-4925-e2b1-db2a3ec9e97e",
        "colab": {
          "base_uri": "https://localhost:8080/",
          "height": 153
        }
      },
      "source": [
        "trainX = np.array(trainX, dtype=\"float\") / 255.0\n",
        "trainY = np.array(trainY)\n",
        "testX = np.array(testX, dtype=\"float\") / 255.0\n",
        "testY = np.array(testY)\n",
        "(trainY,testY)"
      ],
      "execution_count": 8,
      "outputs": [
        {
          "output_type": "execute_result",
          "data": {
            "text/plain": [
              "(array(['B', 'B', 'C', ..., 'A', 'B', 'B'], dtype='<U1'),\n",
              " array(['A', 'A', 'A', 'A', 'A', 'A', 'C', 'C', 'C', 'C', 'B', 'B', 'D',\n",
              "        'D', 'D', 'D', 'A', 'A', 'C', 'C', 'D', 'D', 'B', 'B', 'D', 'D',\n",
              "        'B', 'B', 'B', 'B', 'D', 'D', 'C', 'C', 'C', 'C', 'D', 'D', 'B',\n",
              "        'B', 'D', 'D', 'B', 'B', 'D', 'D', 'D', 'D', 'C', 'C', 'A', 'A',\n",
              "        'B', 'B', 'B', 'B', 'C', 'C', 'C', 'C', 'D', 'D', 'C', 'C', 'A',\n",
              "        'A', 'D', 'D', 'A', 'A', 'C', 'C', 'A', 'A', 'A', 'A', 'B', 'B',\n",
              "        'B', 'B', 'B', 'B', 'A', 'A', 'A', 'A', 'C', 'C'], dtype='<U1'))"
            ]
          },
          "metadata": {
            "tags": []
          },
          "execution_count": 8
        }
      ]
    },
    {
      "cell_type": "code",
      "metadata": {
        "id": "vv2dObSBC7A2",
        "colab_type": "code",
        "colab": {}
      },
      "source": [
        "lb = LabelBinarizer()\n",
        "trainY = lb.fit_transform(trainY)\n",
        "testY = lb.transform(testY)"
      ],
      "execution_count": 0,
      "outputs": []
    },
    {
      "cell_type": "code",
      "metadata": {
        "id": "dzBqEBgDC7A4",
        "colab_type": "code",
        "outputId": "46ecf9ec-d777-4c97-d1f2-9f2eac830bf1",
        "colab": {
          "base_uri": "https://localhost:8080/",
          "height": 1000
        }
      },
      "source": [
        "model = Sequential()\n",
        "model.add(ZeroPadding2D((4,4),input_shape=(64,64,3)))\n",
        "\n",
        "model.add(Convolution2D(64,(3, 3), activation='relu', padding='same'))\n",
        "model.add(BatchNormalization())\n",
        "model.add(MaxPooling2D((2,2), strides=(2,2)))\n",
        "model.add(Convolution2D(128,(3, 3), activation='relu', padding='same'))\n",
        "model.add(MaxPooling2D((2,2), strides=(2,2)))\n",
        "model.add(Dropout(0.2))\n",
        "\n",
        "model.add(Convolution2D(128,(3, 3), activation='relu', padding='same'))\n",
        "model.add(BatchNormalization())\n",
        "model.add(MaxPooling2D((2,2), strides=(2,2)))\n",
        "model.add(Convolution2D(256,(3, 3), activation='relu', padding='same'))\n",
        "model.add(MaxPooling2D((2,2), strides=(2,2)))\n",
        "model.add(Dropout(0.2))\n",
        "\n",
        "model.add(Convolution2D(256,(3, 3), activation='relu', padding='same'))\n",
        "model.add(BatchNormalization())\n",
        "model.add(MaxPooling2D((2,2), strides=(2,2)))\n",
        "model.add(Convolution2D(512,(3, 3), activation='relu', padding='same'))\n",
        "model.add(MaxPooling2D((2,2), strides=(2,2)))\n",
        "model.add(Dropout(0.2))\n",
        "\n",
        "model.add(Flatten())\n",
        "model.add(Dense(1024, input_shape=(4096,), activation=\"relu\", kernel_constraint=maxnorm(3)))\n",
        "model.add(Dropout(0.2))\n",
        "model.add(Dense(128, activation='relu', kernel_constraint=maxnorm(3)))\n",
        "model.add(Dropout(0.2))\n",
        "model.add(Dense(len(lb.classes_), activation=\"softmax\", kernel_constraint=maxnorm(3)))\n",
        "model.summary()"
      ],
      "execution_count": 10,
      "outputs": [
        {
          "output_type": "stream",
          "text": [
            "WARNING: Logging before flag parsing goes to stderr.\n",
            "W0810 15:02:24.200105 140713386661760 deprecation_wrapper.py:119] From /usr/local/lib/python3.6/dist-packages/keras/backend/tensorflow_backend.py:74: The name tf.get_default_graph is deprecated. Please use tf.compat.v1.get_default_graph instead.\n",
            "\n",
            "W0810 15:02:24.218903 140713386661760 deprecation_wrapper.py:119] From /usr/local/lib/python3.6/dist-packages/keras/backend/tensorflow_backend.py:517: The name tf.placeholder is deprecated. Please use tf.compat.v1.placeholder instead.\n",
            "\n",
            "W0810 15:02:24.224703 140713386661760 deprecation_wrapper.py:119] From /usr/local/lib/python3.6/dist-packages/keras/backend/tensorflow_backend.py:4138: The name tf.random_uniform is deprecated. Please use tf.random.uniform instead.\n",
            "\n",
            "W0810 15:02:24.249912 140713386661760 deprecation_wrapper.py:119] From /usr/local/lib/python3.6/dist-packages/keras/backend/tensorflow_backend.py:174: The name tf.get_default_session is deprecated. Please use tf.compat.v1.get_default_session instead.\n",
            "\n",
            "W0810 15:02:24.251070 140713386661760 deprecation_wrapper.py:119] From /usr/local/lib/python3.6/dist-packages/keras/backend/tensorflow_backend.py:181: The name tf.ConfigProto is deprecated. Please use tf.compat.v1.ConfigProto instead.\n",
            "\n",
            "W0810 15:02:24.995805 140713386661760 deprecation_wrapper.py:119] From /usr/local/lib/python3.6/dist-packages/keras/backend/tensorflow_backend.py:1834: The name tf.nn.fused_batch_norm is deprecated. Please use tf.compat.v1.nn.fused_batch_norm instead.\n",
            "\n",
            "W0810 15:02:25.063548 140713386661760 deprecation_wrapper.py:119] From /usr/local/lib/python3.6/dist-packages/keras/backend/tensorflow_backend.py:3976: The name tf.nn.max_pool is deprecated. Please use tf.nn.max_pool2d instead.\n",
            "\n",
            "W0810 15:02:25.085186 140713386661760 deprecation.py:506] From /usr/local/lib/python3.6/dist-packages/keras/backend/tensorflow_backend.py:3445: calling dropout (from tensorflow.python.ops.nn_ops) with keep_prob is deprecated and will be removed in a future version.\n",
            "Instructions for updating:\n",
            "Please use `rate` instead of `keep_prob`. Rate should be set to `rate = 1 - keep_prob`.\n"
          ],
          "name": "stderr"
        },
        {
          "output_type": "stream",
          "text": [
            "_________________________________________________________________\n",
            "Layer (type)                 Output Shape              Param #   \n",
            "=================================================================\n",
            "zero_padding2d_1 (ZeroPaddin (None, 72, 72, 3)         0         \n",
            "_________________________________________________________________\n",
            "conv2d_1 (Conv2D)            (None, 72, 72, 64)        1792      \n",
            "_________________________________________________________________\n",
            "batch_normalization_1 (Batch (None, 72, 72, 64)        256       \n",
            "_________________________________________________________________\n",
            "max_pooling2d_1 (MaxPooling2 (None, 36, 36, 64)        0         \n",
            "_________________________________________________________________\n",
            "conv2d_2 (Conv2D)            (None, 36, 36, 128)       73856     \n",
            "_________________________________________________________________\n",
            "max_pooling2d_2 (MaxPooling2 (None, 18, 18, 128)       0         \n",
            "_________________________________________________________________\n",
            "dropout_1 (Dropout)          (None, 18, 18, 128)       0         \n",
            "_________________________________________________________________\n",
            "conv2d_3 (Conv2D)            (None, 18, 18, 128)       147584    \n",
            "_________________________________________________________________\n",
            "batch_normalization_2 (Batch (None, 18, 18, 128)       512       \n",
            "_________________________________________________________________\n",
            "max_pooling2d_3 (MaxPooling2 (None, 9, 9, 128)         0         \n",
            "_________________________________________________________________\n",
            "conv2d_4 (Conv2D)            (None, 9, 9, 256)         295168    \n",
            "_________________________________________________________________\n",
            "max_pooling2d_4 (MaxPooling2 (None, 4, 4, 256)         0         \n",
            "_________________________________________________________________\n",
            "dropout_2 (Dropout)          (None, 4, 4, 256)         0         \n",
            "_________________________________________________________________\n",
            "conv2d_5 (Conv2D)            (None, 4, 4, 256)         590080    \n",
            "_________________________________________________________________\n",
            "batch_normalization_3 (Batch (None, 4, 4, 256)         1024      \n",
            "_________________________________________________________________\n",
            "max_pooling2d_5 (MaxPooling2 (None, 2, 2, 256)         0         \n",
            "_________________________________________________________________\n",
            "conv2d_6 (Conv2D)            (None, 2, 2, 512)         1180160   \n",
            "_________________________________________________________________\n",
            "max_pooling2d_6 (MaxPooling2 (None, 1, 1, 512)         0         \n",
            "_________________________________________________________________\n",
            "dropout_3 (Dropout)          (None, 1, 1, 512)         0         \n",
            "_________________________________________________________________\n",
            "flatten_1 (Flatten)          (None, 512)               0         \n",
            "_________________________________________________________________\n",
            "dense_1 (Dense)              (None, 1024)              525312    \n",
            "_________________________________________________________________\n",
            "dropout_4 (Dropout)          (None, 1024)              0         \n",
            "_________________________________________________________________\n",
            "dense_2 (Dense)              (None, 128)               131200    \n",
            "_________________________________________________________________\n",
            "dropout_5 (Dropout)          (None, 128)               0         \n",
            "_________________________________________________________________\n",
            "dense_3 (Dense)              (None, 4)                 516       \n",
            "=================================================================\n",
            "Total params: 2,947,460\n",
            "Trainable params: 2,946,564\n",
            "Non-trainable params: 896\n",
            "_________________________________________________________________\n"
          ],
          "name": "stdout"
        }
      ]
    },
    {
      "cell_type": "code",
      "metadata": {
        "id": "2srsHz6qC7A6",
        "colab_type": "code",
        "outputId": "cf5a315f-4efe-4cb0-9816-7fa964801b40",
        "colab": {
          "base_uri": "https://localhost:8080/",
          "height": 88
        }
      },
      "source": [
        "BS = 16\n",
        "EPOCHS = 10\n",
        "print(\"[INFO] training network.....\")\n",
        "sgd = SGD(lr=0.007,momentum=0.9, decay=1e-6, nesterov=True,clipvalue=1)\n",
        "model.compile(loss=\"categorical_crossentropy\", optimizer=sgd,metrics=[\"accuracy\"])"
      ],
      "execution_count": 11,
      "outputs": [
        {
          "output_type": "stream",
          "text": [
            "W0810 15:02:25.431979 140713386661760 deprecation_wrapper.py:119] From /usr/local/lib/python3.6/dist-packages/keras/optimizers.py:790: The name tf.train.Optimizer is deprecated. Please use tf.compat.v1.train.Optimizer instead.\n",
            "\n"
          ],
          "name": "stderr"
        },
        {
          "output_type": "stream",
          "text": [
            "[INFO] training network.....\n"
          ],
          "name": "stdout"
        }
      ]
    },
    {
      "cell_type": "code",
      "metadata": {
        "id": "s8yu0OXoC7A-",
        "colab_type": "code",
        "outputId": "4a96fa41-2489-4c3b-85b8-58a7d3366c91",
        "colab": {
          "base_uri": "https://localhost:8080/",
          "height": 445
        }
      },
      "source": [
        "H = model.fit(trainX, trainY, validation_data = (testX , testY),  epochs=EPOCHS,   batch_size=BS)"
      ],
      "execution_count": 12,
      "outputs": [
        {
          "output_type": "stream",
          "text": [
            "W0810 15:02:25.554087 140713386661760 deprecation.py:323] From /usr/local/lib/python3.6/dist-packages/tensorflow/python/ops/math_grad.py:1250: add_dispatch_support.<locals>.wrapper (from tensorflow.python.ops.array_ops) is deprecated and will be removed in a future version.\n",
            "Instructions for updating:\n",
            "Use tf.where in 2.0, which has the same broadcast rule as np.where\n"
          ],
          "name": "stderr"
        },
        {
          "output_type": "stream",
          "text": [
            "Train on 8572 samples, validate on 88 samples\n",
            "Epoch 1/10\n",
            "8572/8572 [==============================] - 11s 1ms/step - loss: 0.8004 - acc: 0.6777 - val_loss: 1.8444 - val_acc: 0.5455\n",
            "Epoch 2/10\n",
            "8572/8572 [==============================] - 8s 957us/step - loss: 0.3383 - acc: 0.8882 - val_loss: 0.3985 - val_acc: 0.8636\n",
            "Epoch 3/10\n",
            "8572/8572 [==============================] - 8s 955us/step - loss: 0.2076 - acc: 0.9309 - val_loss: 0.7268 - val_acc: 0.8864\n",
            "Epoch 4/10\n",
            "8572/8572 [==============================] - 8s 960us/step - loss: 0.1383 - acc: 0.9537 - val_loss: 0.2665 - val_acc: 0.9091\n",
            "Epoch 5/10\n",
            "8572/8572 [==============================] - 8s 962us/step - loss: 0.0990 - acc: 0.9693 - val_loss: 0.3768 - val_acc: 0.9545\n",
            "Epoch 6/10\n",
            "8572/8572 [==============================] - 8s 960us/step - loss: 0.0817 - acc: 0.9748 - val_loss: 0.3995 - val_acc: 0.9091\n",
            "Epoch 7/10\n",
            "8572/8572 [==============================] - 8s 957us/step - loss: 0.0680 - acc: 0.9788 - val_loss: 0.1700 - val_acc: 0.9091\n",
            "Epoch 8/10\n",
            "8572/8572 [==============================] - 8s 954us/step - loss: 0.0470 - acc: 0.9848 - val_loss: 0.2279 - val_acc: 0.9545\n",
            "Epoch 9/10\n",
            "8572/8572 [==============================] - 8s 954us/step - loss: 0.0353 - acc: 0.9893 - val_loss: 0.5356 - val_acc: 0.8864\n",
            "Epoch 10/10\n",
            "8572/8572 [==============================] - 8s 958us/step - loss: 0.0388 - acc: 0.9872 - val_loss: 0.2340 - val_acc: 0.9545\n"
          ],
          "name": "stdout"
        }
      ]
    },
    {
      "cell_type": "code",
      "metadata": {
        "id": "FDSXA-qxC7BA",
        "colab_type": "code",
        "outputId": "e68220eb-8f06-4b98-d179-b83126568476",
        "colab": {
          "base_uri": "https://localhost:8080/",
          "height": 503
        }
      },
      "source": [
        "print(\"[INFO] evaluating network...\")\n",
        "predictions = model.predict(testX, batch_size=BS)\n",
        "print(classification_report(testY.argmax(axis=1),\n",
        "\tpredictions.argmax(axis=1), target_names=lb.classes_))\n",
        "N = np.arange(0, EPOCHS)\n",
        "plt.style.use(\"ggplot\")\n",
        "plt.figure()\n",
        "plt.plot(N, H.history[\"loss\"], label=\"train_loss\")\n",
        "plt.plot(N, H.history[\"val_loss\"], label=\"val_loss\")\n",
        "plt.plot(N, H.history[\"acc\"], label=\"train_acc\")\n",
        "plt.plot(N, H.history[\"val_acc\"], label=\"val_acc\")\n",
        "plt.title(\"Training Loss and Accuracy sliced VGG\")\n",
        "plt.xlabel(\"Epoch #\")\n",
        "plt.ylabel(\"Loss/Accuracy\")\n",
        "plt.legend()\n",
        "plt.show()"
      ],
      "execution_count": 13,
      "outputs": [
        {
          "output_type": "stream",
          "text": [
            "[INFO] evaluating network...\n",
            "              precision    recall  f1-score   support\n",
            "\n",
            "           A       0.91      0.91      0.91        22\n",
            "           B       1.00      1.00      1.00        22\n",
            "           C       0.92      1.00      0.96        22\n",
            "           D       1.00      0.91      0.95        22\n",
            "\n",
            "    accuracy                           0.95        88\n",
            "   macro avg       0.96      0.95      0.95        88\n",
            "weighted avg       0.96      0.95      0.95        88\n",
            "\n"
          ],
          "name": "stdout"
        },
        {
          "output_type": "display_data",
          "data": {
            "image/png": "[encoded data removed]",
            "text/plain": [
              "<Figure size 432x288 with 1 Axes>"
            ]
          },
          "metadata": {
            "tags": []
          }
        }
      ]
    },
    {
      "cell_type": "code",
      "metadata": {
        "id": "hFxlSGOrC7BB",
        "colab_type": "code",
        "outputId": "8bb3a56f-379b-41c0-f8d1-6d57b02215c9",
        "colab": {
          "base_uri": "https://localhost:8080/",
          "height": 1000
        }
      },
      "source": [
        "matrix = confusion_matrix(testY.argmax(axis=1),predictions.argmax(axis=1))\n",
        "f,ax = plt.subplots(figsize=(20,20))\n",
        "sb.heatmap(matrix, mask=np.zeros_like(matrix, dtype=np.bool),\n",
        "square=True, ax=ax, annot = True,fmt=\".3f\", linewidths=.5, cmap = 'Blues_r')\n",
        "ax.xaxis.set_ticklabels(lb.classes_); \n",
        "ax.yaxis.set_ticklabels(lb.classes_);\n",
        "plt.ylabel('Actual label');\n",
        "plt.xlabel('Predicted label');\n",
        "plt.title(\"Heatmap of confusion matrix\", size = 20);\n",
        "plt.autoscale()"
      ],
      "execution_count": 14,
      "outputs": [
        {
          "output_type": "display_data",
          "data": {
            "image/png": "[encoded data removed]",
            "text/plain": [
              "<Figure size 1440x1440 with 2 Axes>"
            ]
          },
          "metadata": {
            "tags": []
          }
        }
      ]
    },
    {
      "cell_type": "code",
      "metadata": {
        "id": "k3974y3aC7BD",
        "colab_type": "code",
        "colab": {}
      },
      "source": [
        ""
      ],
      "execution_count": 0,
      "outputs": []
    }
  ]
}