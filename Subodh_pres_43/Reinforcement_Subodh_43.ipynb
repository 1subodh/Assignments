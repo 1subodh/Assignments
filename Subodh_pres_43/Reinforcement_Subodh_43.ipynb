{
 "cells": [
  {
   "cell_type": "code",
   "execution_count": 1,
   "metadata": {},
   "outputs": [
    {
     "name": "stderr",
     "output_type": "stream",
     "text": [
      "Using TensorFlow backend.\n"
     ]
    }
   ],
   "source": [
    "import gym\n",
    "import numpy as np\n",
    "from keras.models     import Sequential\n",
    "from keras.layers     import Dense\n",
    "from keras.optimizers import Adam\n",
    "import random"
   ]
  },
  {
   "cell_type": "code",
   "execution_count": 2,
   "metadata": {},
   "outputs": [],
   "source": [
    "env = gym.make('CartPole-v1')\n",
    "env.reset()\n",
    "goal_steps = 500\n",
    "score_requirement = 60\n",
    "intial_games = 10000"
   ]
  },
  {
   "cell_type": "code",
   "execution_count": 3,
   "metadata": {},
   "outputs": [],
   "source": [
    "def playgame():\n",
    "    for step_index in range(goal_steps):\n",
    "        action = env.action_space.sample()\n",
    "        observation, reward, done, info = env.step(action)\n",
    "        print(\"Step {}:\".format(step_index))\n",
    "        print(\"action: {}\".format(action))\n",
    "        print(\"observation: {}\".format(observation))\n",
    "        print(\"reward: {}\".format(reward))\n",
    "        print(\"done: {}\".format(done))\n",
    "        print(\"info: {}\".format(info))\n",
    "        if done:\n",
    "            break\n",
    "    env.reset()"
   ]
  },
  {
   "cell_type": "code",
   "execution_count": 4,
   "metadata": {},
   "outputs": [
    {
     "name": "stdout",
     "output_type": "stream",
     "text": [
      "Step 0:\n",
      "action: 1\n",
      "observation: [ 0.00590369  0.15193039 -0.0484187  -0.28354717]\n",
      "reward: 1.0\n",
      "done: False\n",
      "info: {}\n",
      "Step 1:\n",
      "action: 0\n",
      "observation: [ 0.0089423  -0.04246872 -0.05408965 -0.00651977]\n",
      "reward: 1.0\n",
      "done: False\n",
      "info: {}\n",
      "Step 2:\n",
      "action: 1\n",
      "observation: [ 0.00809292  0.15338555 -0.05422004 -0.31576614]\n",
      "reward: 1.0\n",
      "done: False\n",
      "info: {}\n",
      "Step 3:\n",
      "action: 1\n",
      "observation: [ 0.01116063  0.34923622 -0.06053537 -0.6250433 ]\n",
      "reward: 1.0\n",
      "done: False\n",
      "info: {}\n",
      "Step 4:\n",
      "action: 1\n",
      "observation: [ 0.01814536  0.54514869 -0.07303623 -0.93616026]\n",
      "reward: 1.0\n",
      "done: False\n",
      "info: {}\n",
      "Step 5:\n",
      "action: 1\n",
      "observation: [ 0.02904833  0.7411756  -0.09175944 -1.25087029]\n",
      "reward: 1.0\n",
      "done: False\n",
      "info: {}\n",
      "Step 6:\n",
      "action: 0\n",
      "observation: [ 0.04387184  0.54734144 -0.11677684 -0.98828166]\n",
      "reward: 1.0\n",
      "done: False\n",
      "info: {}\n",
      "Step 7:\n",
      "action: 0\n",
      "observation: [ 0.05481867  0.35396012 -0.13654248 -0.73443968]\n",
      "reward: 1.0\n",
      "done: False\n",
      "info: {}\n",
      "Step 8:\n",
      "action: 1\n",
      "observation: [ 0.06189787  0.55067772 -0.15123127 -1.06678853]\n",
      "reward: 1.0\n",
      "done: False\n",
      "info: {}\n",
      "Step 9:\n",
      "action: 0\n",
      "observation: [ 0.07291143  0.3578447  -0.17256704 -0.82513311]\n",
      "reward: 1.0\n",
      "done: False\n",
      "info: {}\n",
      "Step 10:\n",
      "action: 0\n",
      "observation: [ 0.08006832  0.1654498  -0.1890697  -0.59131043]\n",
      "reward: 1.0\n",
      "done: False\n",
      "info: {}\n",
      "Step 11:\n",
      "action: 1\n",
      "observation: [ 0.08337732  0.36264533 -0.20089591 -0.93708846]\n",
      "reward: 1.0\n",
      "done: False\n",
      "info: {}\n",
      "Step 12:\n",
      "action: 0\n",
      "observation: [ 0.09063022  0.17071587 -0.21963768 -0.71365125]\n",
      "reward: 1.0\n",
      "done: True\n",
      "info: {}\n"
     ]
    }
   ],
   "source": [
    "playgame()"
   ]
  },
  {
   "cell_type": "code",
   "execution_count": 5,
   "metadata": {},
   "outputs": [],
   "source": [
    "def modeldp():\n",
    "    training_data = []\n",
    "    accepted_scores = []\n",
    "    for game_index in range(intial_games):\n",
    "        score = 0\n",
    "        game_memory = []\n",
    "        previous_observation = []\n",
    "        for step_index in range(goal_steps):\n",
    "            action = random.randrange(0, 2)\n",
    "            observation, reward, done, info = env.step(action)\n",
    "            if len(previous_observation) > 0:\n",
    "                game_memory.append([previous_observation, action])                \n",
    "            previous_observation = observation\n",
    "            score += reward\n",
    "            if done:\n",
    "                break            \n",
    "        if score >= score_requirement:\n",
    "            accepted_scores.append(score)\n",
    "            for data in game_memory:\n",
    "                if data[1] == 1:\n",
    "                    output = [0, 1]\n",
    "                elif data[1] == 0:\n",
    "                    output = [1, 0]\n",
    "                training_data.append([data[0], output])\n",
    "        \n",
    "        env.reset()\n",
    "\n",
    "    print(sum(accepted_scores)/len(accepted_scores))\n",
    "    \n",
    "    return training_data"
   ]
  },
  {
   "cell_type": "code",
   "execution_count": 6,
   "metadata": {},
   "outputs": [
    {
     "name": "stdout",
     "output_type": "stream",
     "text": [
      "69.84705882352941\n"
     ]
    }
   ],
   "source": [
    "training_data = modeldp()"
   ]
  },
  {
   "cell_type": "code",
   "execution_count": 7,
   "metadata": {},
   "outputs": [],
   "source": [
    "def build_model(input_size, output_size):\n",
    "    model = Sequential()\n",
    "    model.add(Dense(1024, input_dim=input_size, activation='relu'))\n",
    "    model.add(Dense(512, activation='relu'))\n",
    "    model.add(Dense(128, activation='relu'))\n",
    "    model.add(Dense(output_size, activation='linear'))\n",
    "    model.compile(loss='mse', optimizer=Adam())\n",
    "    return model"
   ]
  },
  {
   "cell_type": "code",
   "execution_count": 8,
   "metadata": {},
   "outputs": [],
   "source": [
    "def train_model(training_data):\n",
    "    X = np.array([i[0] for i in training_data]).reshape(-1, len(training_data[0][0]))\n",
    "    y = np.array([i[1] for i in training_data]).reshape(-1, len(training_data[0][1]))\n",
    "    model = build_model(input_size=len(X[0]), output_size=len(y[0]))\n",
    "    model.fit(X, y, epochs=20)\n",
    "    return model"
   ]
  },
  {
   "cell_type": "code",
   "execution_count": 9,
   "metadata": {},
   "outputs": [
    {
     "name": "stdout",
     "output_type": "stream",
     "text": [
      "WARNING:tensorflow:From /Users/home/anaconda3/lib/python3.6/site-packages/tensorflow/python/framework/op_def_library.py:263: colocate_with (from tensorflow.python.framework.ops) is deprecated and will be removed in a future version.\n",
      "Instructions for updating:\n",
      "Colocations handled automatically by placer.\n",
      "WARNING:tensorflow:From /Users/home/anaconda3/lib/python3.6/site-packages/tensorflow/python/ops/math_ops.py:3066: to_int32 (from tensorflow.python.ops.math_ops) is deprecated and will be removed in a future version.\n",
      "Instructions for updating:\n",
      "Use tf.cast instead.\n",
      "Epoch 1/20\n",
      "11704/11704 [==============================] - 2s 212us/step - loss: 0.2433\n",
      "Epoch 2/20\n",
      "11704/11704 [==============================] - 2s 170us/step - loss: 0.2349\n",
      "Epoch 3/20\n",
      "11704/11704 [==============================] - 2s 175us/step - loss: 0.2345\n",
      "Epoch 4/20\n",
      "11704/11704 [==============================] - 2s 168us/step - loss: 0.2329\n",
      "Epoch 5/20\n",
      "11704/11704 [==============================] - 2s 152us/step - loss: 0.2328\n",
      "Epoch 6/20\n",
      "11704/11704 [==============================] - 2s 173us/step - loss: 0.2326\n",
      "Epoch 7/20\n",
      "11704/11704 [==============================] - 2s 184us/step - loss: 0.2320\n",
      "Epoch 8/20\n",
      "11704/11704 [==============================] - 2s 168us/step - loss: 0.2319\n",
      "Epoch 9/20\n",
      "11704/11704 [==============================] - 2s 170us/step - loss: 0.2320\n",
      "Epoch 10/20\n",
      "11704/11704 [==============================] - 2s 172us/step - loss: 0.2313\n",
      "Epoch 11/20\n",
      "11704/11704 [==============================] - 2s 183us/step - loss: 0.2314\n",
      "Epoch 12/20\n",
      "11704/11704 [==============================] - 2s 177us/step - loss: 0.2307\n",
      "Epoch 13/20\n",
      "11704/11704 [==============================] - 2s 167us/step - loss: 0.2307\n",
      "Epoch 14/20\n",
      "11704/11704 [==============================] - 2s 168us/step - loss: 0.2303\n",
      "Epoch 15/20\n",
      "11704/11704 [==============================] - 2s 165us/step - loss: 0.2305\n",
      "Epoch 16/20\n",
      "11704/11704 [==============================] - 2s 178us/step - loss: 0.2298\n",
      "Epoch 17/20\n",
      "11704/11704 [==============================] - 2s 166us/step - loss: 0.2301\n",
      "Epoch 18/20\n",
      "11704/11704 [==============================] - 2s 180us/step - loss: 0.2303\n",
      "Epoch 19/20\n",
      "11704/11704 [==============================] - 2s 165us/step - loss: 0.2297\n",
      "Epoch 20/20\n",
      "11704/11704 [==============================] - 2s 165us/step - loss: 0.2297\n"
     ]
    }
   ],
   "source": [
    "trained_model = train_model(training_data)"
   ]
  },
  {
   "cell_type": "code",
   "execution_count": 10,
   "metadata": {},
   "outputs": [
    {
     "name": "stdout",
     "output_type": "stream",
     "text": [
      "[250.0, 500.0, 329.0, 352.0, 500.0, 500.0, 500.0, 243.0, 276.0, 500.0, 500.0, 500.0, 500.0, 245.0, 500.0, 500.0, 211.0, 343.0, 500.0, 500.0, 342.0, 281.0, 500.0, 500.0, 500.0, 343.0, 500.0, 500.0, 500.0, 309.0, 500.0, 500.0, 500.0, 318.0, 352.0, 500.0, 500.0, 500.0, 175.0, 500.0, 500.0, 500.0, 500.0, 196.0, 500.0, 210.0, 500.0, 500.0, 169.0, 500.0, 500.0, 500.0, 500.0, 500.0, 500.0, 500.0, 500.0, 500.0, 225.0, 500.0, 293.0, 193.0, 500.0, 213.0, 500.0, 500.0, 476.0, 500.0, 176.0, 500.0, 459.0, 500.0, 343.0, 221.0, 296.0, 500.0, 500.0, 192.0, 500.0, 203.0, 500.0, 201.0, 199.0, 209.0, 500.0, 289.0, 302.0, 237.0, 500.0, 289.0, 500.0, 500.0, 500.0, 500.0, 500.0, 400.0, 500.0, 500.0, 500.0, 500.0]\n",
      "Average Score: 413.6\n"
     ]
    }
   ],
   "source": [
    "scores =  []\n",
    "choices = []\n",
    "for each_game in range(100):\n",
    "    score = 0\n",
    "    prev_obs = []\n",
    "    for step_index in range(goal_steps):\n",
    "        #env.render()\n",
    "        if len(prev_obs)==0:\n",
    "            action = random.randrange(0,2)\n",
    "        else:\n",
    "            action = np.argmax(trained_model.predict(prev_obs.reshape(-1,len(prev_obs)))[0])\n",
    "        choices.append(action)\n",
    "        new_observation, reward, done, info = env.step(action)\n",
    "        prev_obs = new_observation\n",
    "        score+=reward\n",
    "        if done:\n",
    "            break\n",
    "    env.reset()\n",
    "    scores.append(score)\n",
    "print(scores)\n",
    "print('Average Score:',sum(scores)/len(scores))"
   ]
  },
  {
   "cell_type": "code",
   "execution_count": null,
   "metadata": {},
   "outputs": [],
   "source": []
  }
 ],
 "metadata": {
  "kernelspec": {
   "display_name": "Python 3",
   "language": "python",
   "name": "python3"
  },
  "language_info": {
   "codemirror_mode": {
    "name": "ipython",
    "version": 3
   },
   "file_extension": ".py",
   "mimetype": "text/x-python",
   "name": "python",
   "nbconvert_exporter": "python",
   "pygments_lexer": "ipython3",
   "version": "3.6.7"
  }
 },
 "nbformat": 4,
 "nbformat_minor": 2
}
