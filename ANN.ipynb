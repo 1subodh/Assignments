{
 "cells": [
  {
   "cell_type": "code",
   "execution_count": 157,
   "metadata": {},
   "outputs": [],
   "source": [
    "import matplotlib\n",
    "matplotlib.use(\"Agg\")\n",
    "#  import the necessary packages\n",
    "from keras.layers.core import Dropout\n",
    "from keras.preprocessing.image import ImageDataGenerator\n",
    "from sklearn.preprocessing import LabelBinarizer\n",
    "from sklearn.model_selection import train_test_split\n",
    "from sklearn.metrics import classification_report\n",
    "from keras.models import Sequential\n",
    "from keras.layers.core import Dense\n",
    "from keras.optimizers import SGD\n",
    "from imutils import paths\n",
    "import matplotlib.pyplot as plt\n",
    "import numpy as np\n",
    "import argparse\n",
    "import random\n",
    "import pickle\n",
    "import cv2\n",
    "from PIL import Image\n",
    "import os"
   ]
  },
  {
   "cell_type": "code",
   "execution_count": 158,
   "metadata": {},
   "outputs": [],
   "source": [
    "# initialize the data ,labels and datagenrator\n",
    "datagen = ImageDataGenerator()\n",
    "data = []\n",
    "labels = []"
   ]
  },
  {
   "cell_type": "code",
   "execution_count": 159,
   "metadata": {},
   "outputs": [],
   "source": [
    "# grab the image paths and randomly shuffle them\n",
    "imagePaths = sorted(list(paths.list_images('images/')))\n",
    "random.seed(42)\n",
    "random.shuffle(imagePaths)"
   ]
  },
  {
   "cell_type": "markdown",
   "metadata": {},
   "source": [
    "## Argumentation, Resize, Flatten and append to data,label lists\n",
    "### Flattening: 64x64x3 = 12288"
   ]
  },
  {
   "cell_type": "code",
   "execution_count": 160,
   "metadata": {},
   "outputs": [],
   "source": [
    "for imagePath in imagePaths:\n",
    "\timage = cv2.imread(imagePath)\n",
    "\timageo = image\n",
    "\tdatagen.apply_transform(imageo,{'theta':5,'shear':5,'zx':0.1,'zy':0.1})\n",
    "\tdatagen.apply_transform(imageo,{'flip_horizontal':True})\n",
    "\tdatagen.apply_transform(imageo,{'zoom_rage':0.2})\n",
    "\timage1 = cv2.resize(imageo, (64, 64)).flatten()    \n",
    "\tdata.append(image1)\n",
    "\tlabel1 = imagePath.split(os.path.sep)[-2]\n",
    "\tlabels.append(label1)\n",
    "# flatten the image into 64x64x3 = 12288\n",
    "\timage2 = cv2.resize(image, (64, 64)).flatten()\n",
    "\tdata.append(image2)\n",
    "\tlabel2 = imagePath.split(os.path.sep)[-2]\n",
    "# extract the class label from the image path and update the labels list\n",
    "\tlabels.append(label2)"
   ]
  },
  {
   "cell_type": "code",
   "execution_count": 161,
   "metadata": {},
   "outputs": [
    {
     "data": {
      "text/plain": [
       "array([255, 255, 255, ...,  49,  83, 137], dtype=uint8)"
      ]
     },
     "execution_count": 161,
     "metadata": {},
     "output_type": "execute_result"
    }
   ],
   "source": [
    "data[:1][0]"
   ]
  },
  {
   "cell_type": "code",
   "execution_count": 162,
   "metadata": {},
   "outputs": [
    {
     "data": {
      "text/plain": [
       "(226, 226)"
      ]
     },
     "execution_count": 162,
     "metadata": {},
     "output_type": "execute_result"
    }
   ],
   "source": [
    "len(data),len(labels)"
   ]
  },
  {
   "cell_type": "markdown",
   "metadata": {},
   "source": [
    "## Scale the raw pixel intensities to the range [0, 1] from [0, 255]"
   ]
  },
  {
   "cell_type": "code",
   "execution_count": 163,
   "metadata": {},
   "outputs": [],
   "source": [
    "# scale the raw pixel intensities to the range [0, 1]\n",
    "data = np.array(data, dtype=\"float\") / 255.0\n",
    "labels = np.array(labels)"
   ]
  },
  {
   "cell_type": "markdown",
   "metadata": {},
   "source": [
    "## Train, Test split of 75, 25"
   ]
  },
  {
   "cell_type": "code",
   "execution_count": 164,
   "metadata": {},
   "outputs": [],
   "source": [
    "# partition the data into training and testing splits using 75% of\n",
    "# the data for training and the remaining 25% for testing\n",
    "(trainX, testX, trainY, testY) = train_test_split(data,\n",
    "\tlabels, test_size=0.25, random_state=42)"
   ]
  },
  {
   "cell_type": "code",
   "execution_count": 165,
   "metadata": {},
   "outputs": [],
   "source": [
    "# convert the labels from integers to vectors (for 2-class, binary\n",
    "# classification you should use Keras' to_categorical function\n",
    "# instead as the scikit-learn's LabelBinarizer will not return a\n",
    "# vector)\n",
    "lb = LabelBinarizer()\n",
    "trainY = lb.fit_transform(trainY)\n",
    "testY = lb.transform(testY)"
   ]
  },
  {
   "cell_type": "code",
   "execution_count": 166,
   "metadata": {},
   "outputs": [],
   "source": [
    "# define the 3072-1024-128-3 architecture using Keras\n",
    "model = Sequential()\n",
    "model.add(Dense(1024, input_shape=(12288,), activation=\"relu\"))\n",
    "model.add(Dropout(0.2))\n",
    "model.add(Dense(128, activation=\"relu\")) #Hidden 1\n",
    "model.add(Dropout(0.2))\n",
    "model.add(Dense(len(lb.classes_), activation=\"softmax\")) #How many predictions do you want?"
   ]
  },
  {
   "cell_type": "code",
   "execution_count": 167,
   "metadata": {},
   "outputs": [
    {
     "name": "stdout",
     "output_type": "stream",
     "text": [
      "[INFO] training network...\n"
     ]
    }
   ],
   "source": [
    "# initialize our initial learning rate and # of epochs to train for\n",
    "INIT_LR = 0.007\n",
    "EPOCHS = 40\n",
    "# compile the model using SGD as our optimizer and categorical\n",
    "# cross-entropy loss (you'll want to use binary_crossentropy\n",
    "# for 2-class classification)\n",
    "print(\"[INFO] training network...\")\n",
    "opt = SGD(lr=INIT_LR)\n",
    "model.compile(loss=\"categorical_crossentropy\", optimizer=opt,\n",
    "\tmetrics=[\"accuracy\"])"
   ]
  },
  {
   "cell_type": "code",
   "execution_count": 168,
   "metadata": {},
   "outputs": [
    {
     "name": "stdout",
     "output_type": "stream",
     "text": [
      "Train on 169 samples, validate on 57 samples\n",
      "Epoch 1/40\n",
      "169/169 [==============================] - 1s 9ms/step - loss: 1.7449 - acc: 0.3373 - val_loss: 1.9842 - val_acc: 0.3333\n",
      "Epoch 2/40\n",
      "169/169 [==============================] - 1s 5ms/step - loss: 1.5511 - acc: 0.3787 - val_loss: 1.6478 - val_acc: 0.2807\n",
      "Epoch 3/40\n",
      "169/169 [==============================] - 1s 5ms/step - loss: 1.4775 - acc: 0.3669 - val_loss: 2.1346 - val_acc: 0.1579\n",
      "Epoch 4/40\n",
      "169/169 [==============================] - 1s 3ms/step - loss: 1.4756 - acc: 0.4497 - val_loss: 1.5155 - val_acc: 0.3158\n",
      "Epoch 5/40\n",
      "169/169 [==============================] - 1s 4ms/step - loss: 1.3257 - acc: 0.4911 - val_loss: 1.4909 - val_acc: 0.2982\n",
      "Epoch 6/40\n",
      "169/169 [==============================] - 1s 3ms/step - loss: 1.3793 - acc: 0.3787 - val_loss: 1.3990 - val_acc: 0.4386\n",
      "Epoch 7/40\n",
      "169/169 [==============================] - 1s 4ms/step - loss: 1.2081 - acc: 0.5148 - val_loss: 1.2909 - val_acc: 0.3860\n",
      "Epoch 8/40\n",
      "169/169 [==============================] - 1s 4ms/step - loss: 1.1268 - acc: 0.5444 - val_loss: 1.3890 - val_acc: 0.3860\n",
      "Epoch 9/40\n",
      "169/169 [==============================] - 1s 4ms/step - loss: 1.1280 - acc: 0.5917 - val_loss: 1.1758 - val_acc: 0.4912\n",
      "Epoch 10/40\n",
      "169/169 [==============================] - 1s 4ms/step - loss: 1.0103 - acc: 0.6686 - val_loss: 1.4295 - val_acc: 0.3333\n",
      "Epoch 11/40\n",
      "169/169 [==============================] - 1s 3ms/step - loss: 1.0184 - acc: 0.6627 - val_loss: 1.1041 - val_acc: 0.4912\n",
      "Epoch 12/40\n",
      "169/169 [==============================] - 1s 4ms/step - loss: 0.9180 - acc: 0.6864 - val_loss: 0.9618 - val_acc: 0.6842\n",
      "Epoch 13/40\n",
      "169/169 [==============================] - 1s 4ms/step - loss: 0.9445 - acc: 0.6568 - val_loss: 1.0386 - val_acc: 0.6140\n",
      "Epoch 14/40\n",
      "169/169 [==============================] - 1s 4ms/step - loss: 0.8829 - acc: 0.6746 - val_loss: 1.0995 - val_acc: 0.5263\n",
      "Epoch 15/40\n",
      "169/169 [==============================] - 1s 3ms/step - loss: 0.7299 - acc: 0.7811 - val_loss: 0.9491 - val_acc: 0.6316\n",
      "Epoch 16/40\n",
      "169/169 [==============================] - 1s 4ms/step - loss: 0.7593 - acc: 0.7811 - val_loss: 1.5551 - val_acc: 0.3684\n",
      "Epoch 17/40\n",
      "169/169 [==============================] - 1s 4ms/step - loss: 0.8239 - acc: 0.7456 - val_loss: 1.0402 - val_acc: 0.5263\n",
      "Epoch 18/40\n",
      "169/169 [==============================] - 1s 4ms/step - loss: 0.7363 - acc: 0.7396 - val_loss: 0.9191 - val_acc: 0.5965\n",
      "Epoch 19/40\n",
      "169/169 [==============================] - 1s 4ms/step - loss: 0.6379 - acc: 0.7929 - val_loss: 0.9100 - val_acc: 0.6140\n",
      "Epoch 20/40\n",
      "169/169 [==============================] - 1s 4ms/step - loss: 0.5982 - acc: 0.8284 - val_loss: 0.7102 - val_acc: 0.7895\n",
      "Epoch 21/40\n",
      "169/169 [==============================] - 1s 4ms/step - loss: 0.5041 - acc: 0.8817 - val_loss: 0.6496 - val_acc: 0.8246\n",
      "Epoch 22/40\n",
      "169/169 [==============================] - 1s 4ms/step - loss: 0.4345 - acc: 0.9467 - val_loss: 1.1868 - val_acc: 0.5439\n",
      "Epoch 23/40\n",
      "169/169 [==============================] - 1s 4ms/step - loss: 0.7711 - acc: 0.7396 - val_loss: 1.5617 - val_acc: 0.3860\n",
      "Epoch 24/40\n",
      "169/169 [==============================] - 1s 4ms/step - loss: 0.8057 - acc: 0.7574 - val_loss: 0.7023 - val_acc: 0.7544\n",
      "Epoch 25/40\n",
      "169/169 [==============================] - 1s 4ms/step - loss: 0.4421 - acc: 0.9172 - val_loss: 1.2596 - val_acc: 0.4035\n",
      "Epoch 26/40\n",
      "169/169 [==============================] - 1s 4ms/step - loss: 0.6206 - acc: 0.7692 - val_loss: 0.6269 - val_acc: 0.8246\n",
      "Epoch 27/40\n",
      "169/169 [==============================] - 1s 4ms/step - loss: 0.4254 - acc: 0.9053 - val_loss: 0.5476 - val_acc: 0.8070\n",
      "Epoch 28/40\n",
      "169/169 [==============================] - 1s 4ms/step - loss: 0.3923 - acc: 0.9172 - val_loss: 0.5924 - val_acc: 0.7719\n",
      "Epoch 29/40\n",
      "169/169 [==============================] - 1s 4ms/step - loss: 0.3167 - acc: 0.9467 - val_loss: 0.7317 - val_acc: 0.6667\n",
      "Epoch 30/40\n",
      "169/169 [==============================] - 1s 4ms/step - loss: 0.3747 - acc: 0.9231 - val_loss: 0.6482 - val_acc: 0.7544\n",
      "Epoch 31/40\n",
      "169/169 [==============================] - 1s 4ms/step - loss: 0.3082 - acc: 0.9349 - val_loss: 0.5569 - val_acc: 0.7895\n",
      "Epoch 32/40\n",
      "169/169 [==============================] - 1s 4ms/step - loss: 0.3214 - acc: 0.9231 - val_loss: 0.4205 - val_acc: 0.8772\n",
      "Epoch 33/40\n",
      "169/169 [==============================] - 1s 4ms/step - loss: 0.2737 - acc: 0.9586 - val_loss: 0.4710 - val_acc: 0.8947\n",
      "Epoch 34/40\n",
      "169/169 [==============================] - 1s 4ms/step - loss: 0.2716 - acc: 0.9645 - val_loss: 0.5930 - val_acc: 0.7368\n",
      "Epoch 35/40\n",
      "169/169 [==============================] - 1s 4ms/step - loss: 0.2419 - acc: 0.9882 - val_loss: 0.4107 - val_acc: 0.8070\n",
      "Epoch 36/40\n",
      "169/169 [==============================] - 1s 4ms/step - loss: 0.2487 - acc: 0.9645 - val_loss: 0.5377 - val_acc: 0.8596\n",
      "Epoch 37/40\n",
      "169/169 [==============================] - 1s 4ms/step - loss: 0.2166 - acc: 0.9645 - val_loss: 0.4454 - val_acc: 0.8421\n",
      "Epoch 38/40\n",
      "169/169 [==============================] - 1s 4ms/step - loss: 0.2206 - acc: 0.9822 - val_loss: 0.5176 - val_acc: 0.8070\n",
      "Epoch 39/40\n",
      "169/169 [==============================] - 1s 4ms/step - loss: 0.1817 - acc: 0.9941 - val_loss: 0.4121 - val_acc: 0.8596\n",
      "Epoch 40/40\n",
      "169/169 [==============================] - 1s 4ms/step - loss: 0.1635 - acc: 1.0000 - val_loss: 0.3446 - val_acc: 0.8596\n"
     ]
    }
   ],
   "source": [
    "# train the neural network\n",
    "H = model.fit(trainX, trainY, validation_data=(testX, testY),\n",
    "\tepochs=EPOCHS, batch_size=32)"
   ]
  },
  {
   "cell_type": "code",
   "execution_count": 169,
   "metadata": {},
   "outputs": [
    {
     "name": "stdout",
     "output_type": "stream",
     "text": [
      "[INFO] evaluating network...\n",
      "                     precision    recall  f1-score   support\n",
      "\n",
      "       akshay_kumar       0.80      1.00      0.89         8\n",
      "       katrina_kaif       0.73      1.00      0.85        11\n",
      "nawazuddin_siddiqui       1.00      0.83      0.91        12\n",
      "      ranbir_kapoor       0.83      0.83      0.83        12\n",
      "        zarine_khan       1.00      0.71      0.83        14\n",
      "\n",
      "          micro avg       0.86      0.86      0.86        57\n",
      "          macro avg       0.87      0.88      0.86        57\n",
      "       weighted avg       0.89      0.86      0.86        57\n",
      "\n"
     ]
    }
   ],
   "source": [
    "# evaluate the network\n",
    "print(\"[INFO] evaluating network...\")\n",
    "predictions = model.predict(testX, batch_size=32)\n",
    "print(classification_report(testY.argmax(axis=1),\n",
    "\tpredictions.argmax(axis=1), target_names=lb.classes_))\n",
    "# plot the training loss and accuracy\n",
    "N = np.arange(0, EPOCHS)\n",
    "plt.style.use(\"ggplot\")\n",
    "plt.figure()\n",
    "plt.plot(N, H.history[\"loss\"], label=\"train_loss\")\n",
    "plt.plot(N, H.history[\"val_loss\"], label=\"val_loss\")\n",
    "plt.plot(N, H.history[\"acc\"], label=\"train_acc\")\n",
    "plt.plot(N, H.history[\"val_acc\"], label=\"val_acc\")\n",
    "plt.title(\"Training Loss and Accuracy (Simple NN)\")\n",
    "plt.xlabel(\"Epoch #\")\n",
    "plt.ylabel(\"Loss/Accuracy\")\n",
    "plt.legend()\n",
    "plt.savefig('stats.png')"
   ]
  },
  {
   "cell_type": "code",
   "execution_count": null,
   "metadata": {},
   "outputs": [],
   "source": []
  }
 ],
 "metadata": {
  "kernelspec": {
   "display_name": "Python [default]",
   "language": "python",
   "name": "python3"
  },
  "language_info": {
   "codemirror_mode": {
    "name": "ipython",
    "version": 3
   },
   "file_extension": ".py",
   "mimetype": "text/x-python",
   "name": "python",
   "nbconvert_exporter": "python",
   "pygments_lexer": "ipython3",
   "version": "3.5.4"
  }
 },
 "nbformat": 4,
 "nbformat_minor": 2
}
